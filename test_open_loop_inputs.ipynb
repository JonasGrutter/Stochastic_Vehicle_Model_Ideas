{
 "cells": [
  {
   "cell_type": "code",
   "execution_count": 1,
   "metadata": {},
   "outputs": [],
   "source": [
    "from models.model2_linear import Dynamic_Bicycle_Linear\n",
    "from models.model2 import BicycleModel\n",
    "from models.model4 import FourWheelModel\n",
    "from models.model4_joel import FourWheelModel_load_transfer\n",
    "import matplotlib.pyplot as plt\n",
    "from models.utils import get_csv_row_count\n",
    "from models.utils import get_folder_path\n",
    "\n",
    "import numpy as np"
   ]
  },
  {
   "cell_type": "code",
   "execution_count": 18,
   "metadata": {},
   "outputs": [
    {
     "name": "stdout",
     "output_type": "stream",
     "text": [
      "2100\n",
      "52.5\n"
     ]
    }
   ],
   "source": [
    "\n",
    "dt = 0.025 # = 1/40 = 1/control_frequency\n",
    "#filepath = get_folder_path()+'/open_loop_inputs/open_loop_sim_amzsim_model_PLEASE.csv'\n",
    "filepath = '/Users/jonas/Desktop/intergation_model/open_loop_inputs/car_command_for_sim_PLEASE.csv'\n",
    "N = get_csv_row_count(filepath)\n",
    "print(N)\n",
    "\n",
    "open_loop_tf =N*dt\n",
    "print(open_loop_tf)\n",
    "\n",
    "T_peak = 0.37\n",
    "T_slope = 0.4\n",
    "model4_load = FourWheelModel_load_transfer(dt,open_loop_tf, T_peak, T_slope)\n",
    "model4 = FourWheelModel(dt,open_loop_tf, T_peak, T_slope)\n",
    "t,x_model = model4_load.do_open_loop_sim_from_csv(filepath)\n",
    "\n",
    "t,x_model_with_slip = model4_load.do_open_loop_sim_from_csv(filepath)\n",
    "\n",
    "length = 50\n",
    "\n",
    "x = np.arange(0,len(model4_load.comp_slips[length:]),1)\n",
    "abs_dif = []\n",
    "for i in range(len(model4_load.slips)):\n",
    "    abs_dif.append(np.abs(model4_load.slips[i]- model4_load.comp_slips[i]))\n",
    "size = 7\n",
    "plt.scatter(x, model4_load.slips[length:], color = 'blue', s = size, label = r'With simplification' )\n",
    "plt.scatter(x, model4_load.comp_slips[length:], color = 'red', s = size,label =  r'Without simplification')\n",
    "plt.scatter(x, abs_dif[length:], color = 'green', s = size, label = r'Absolute mismatch')\n",
    "\n",
    "plt.xlabel(r'Iterations')\n",
    "plt.ylabel(r' Slip angle$ \\rm [rad]$')\n",
    "plt.legend()\n",
    "#plt.plot(ref_traj,ref_traj, color = 'black')\n",
    "#x = np.arange(0,(Fx_fl.shape[0]), 1)\n",
    "#plt.scatter(x,y, color = 'red')\n",
    "#plt.scatter(x,y, color = 'blue')\n",
    "#plt.xlabel(r'$x \\rm [m]$')\n",
    "#plt.ylabel(r'$y \\rm [m]$')\n",
    "#plt.legend(r'Trajectory')\n",
    "#\n",
    "#plt.axis()\n",
    "\n",
    "\n",
    "'''file_path = '/Users/jonas/Desktop/intergation_model/open_loop_inputs/open_loop_sim_amzsim_model.csv'\n",
    "data = np.genfromtxt(file_path, delimiter=',', skip_header=0, names=True, dtype=None)\n",
    "# Access each column by its tag\n",
    "Fx_fl = data['Fx_fl']\n",
    "Fx_fr = data['Fx_fr']\n",
    "Fx_rl = data['Fx_rl']\n",
    "Fx_rr = data['Fx_rr']\n",
    "steering_angle = data['steering_angle']\n",
    "\n",
    "x_ref = data['x']\n",
    "y_ref = data['y']\n",
    "yaw_ref = data['yaw']\n",
    "vx_ref = data['vx']\n",
    "vy_ref = data['vy']\n",
    "dyaw_ref = data['dyaw']\n",
    "\n",
    "ref_commands = np.hstack([Fx_fl.reshape(-1,1), Fx_fr.reshape(-1,1), Fx_rl.reshape(-1,1), Fx_rr.reshape(-1,1), steering_angle.reshape(-1,1)])\n",
    "ref_traj_new = np.hstack([x_ref.reshape(-1,1), y_ref.reshape(-1,1), yaw_ref.reshape(-1,1), vx_ref.reshape(-1,1), vy_ref.reshape(-1,1), dyaw_ref.reshape(-1,1)])\n",
    "\n",
    "t,traj_model = model2.do_open_loop_sim_from_np_array(ref_commands, ref_traj_new, )'''\n",
    "\n",
    "\n",
    "\n"
   ]
  },
  {
   "cell_type": "code",
   "execution_count": 44,
   "metadata": {},
   "outputs": [],
   "source": []
  },
  {
   "cell_type": "code",
   "execution_count": 43,
   "metadata": {},
   "outputs": [
    {
     "name": "stdout",
     "output_type": "stream",
     "text": [
      "/Users/jonas/Desktop/intergation_model/open_loop_inputs/car_command_for_sim_PLEASE.csv\n"
     ]
    },
    {
     "data": {
      "text/plain": [
       "(-30.0, 50.0, -80.0, 25.0)"
      ]
     },
     "execution_count": 43,
     "metadata": {},
     "output_type": "execute_result"
    },
    {
     "data": {
      "image/png": "[encoded data removed]",
      "text/plain": [
       "<Figure size 432x288 with 1 Axes>"
      ]
     },
     "metadata": {
      "needs_background": "light"
     },
     "output_type": "display_data"
    }
   ],
   "source": [
    "\n",
    "\n",
    "dt = 0.025 # = 1/40 = 1/control_frequency\n",
    "file_path = get_folder_path()+'/open_loop_inputs/car_command_for_sim_PLEASE.csv'\n",
    "print(file_path)\n",
    "N = get_csv_row_count(file_path)\n",
    "\n",
    "open_loop_tf =N*dt\n",
    "\n",
    "T_peak_2 = 0.4\n",
    "T_slope_2 = 0.37\n",
    "\n",
    "T_peak_4 = 0.37\n",
    "T_slope_4 = 0.4\n",
    "\n",
    "model2 = BicycleModel(dt,open_loop_tf, T_peak_2, T_slope_2)\n",
    "model4 = FourWheelModel_load_transfer(dt,open_loop_tf, T_peak_4, T_slope_4)\n",
    "#t,x_vect_ref = get_open_loop_data(model2, file_path)\n",
    "\n",
    "\n",
    "\n",
    "t,x_vect = model4.do_open_loop_sim_from_csv(file_path)\n",
    "t, x_traj, kpi = model2.do_open_loop_sim_from_amzsim_maoeuvers(chunk_size=500)\n",
    "\n",
    "x = x_vect[:1000,0]\n",
    "y = x_vect[:1000,1]\n",
    "\n",
    "plt.plot(x,y, color = 'black', label = r'Reference trajectory')\n",
    "plt.scatter(x_traj[:1000,0], x_traj[:1000,1], color = 'green', label = r'Corrected proposed trajectory')\n",
    "plt.xlabel(r'$x \\rm [m]$')\n",
    "plt.ylabel(r'$y \\rm [m]$')\n",
    "plt.xlim(-30, 50)   \n",
    "plt.ylim(-80, 25)  \n",
    "plt.legend()\n",
    "plt.axis()\n",
    "#model4.store_amzsim_manoeuvers_position()\n",
    "\n",
    "\n",
    "\n"
   ]
  },
  {
   "cell_type": "code",
   "execution_count": 10,
   "metadata": {},
   "outputs": [
    {
     "name": "stdout",
     "output_type": "stream",
     "text": [
      "/Users/jonas/Desktop/intergation_model\n"
     ]
    }
   ],
   "source": [
    "print(get_folder_path())"
   ]
  },
  {
   "cell_type": "code",
   "execution_count": 11,
   "metadata": {},
   "outputs": [],
   "source": [
    "\n",
    "import os\n",
    "folder_path = os.path.abspath(\"\")"
   ]
  },
  {
   "cell_type": "code",
   "execution_count": 16,
   "metadata": {},
   "outputs": [
    {
     "data": {
      "text/plain": [
       "'/Users/jonas/Desktop/intergation_model'"
      ]
     },
     "execution_count": 16,
     "metadata": {},
     "output_type": "execute_result"
    }
   ],
   "source": [
    "folder_path"
   ]
  },
  {
   "cell_type": "code",
   "execution_count": 35,
   "metadata": {},
   "outputs": [
    {
     "data": {
      "text/plain": [
       "4.60555127546399"
      ]
     },
     "execution_count": 35,
     "metadata": {},
     "output_type": "execute_result"
    }
   ],
   "source": [
    "l2_norm_position = np.linalg.norm(np.array([[0,1],[2,3]]), axis=1).sum()\n",
    "l2_norm_position"
   ]
  },
  {
   "cell_type": "code",
   "execution_count": 32,
   "metadata": {},
   "outputs": [
    {
     "data": {
      "text/plain": [
       "array([[0, 1],\n",
       "       [2, 3]])"
      ]
     },
     "execution_count": 32,
     "metadata": {},
     "output_type": "execute_result"
    }
   ],
   "source": [
    "np.array([[0,1],[2,3]])"
   ]
  },
  {
   "cell_type": "code",
   "execution_count": 2,
   "metadata": {},
   "outputs": [
    {
     "data": {
      "image/png": "[encoded data removed]",
      "text/plain": [
       "<Figure size 432x288 with 1 Axes>"
      ]
     },
     "metadata": {
      "needs_background": "light"
     },
     "output_type": "display_data"
    }
   ],
   "source": [
    "import numpy as np\n",
    "import matplotlib.pyplot as plt\n",
    "\n",
    "# Generate example data\n",
    "alpha = np.linspace(-0.08, 0.08, 200)  # Example data for x-axis\n",
    "B = 60.0\n",
    "C = 0.9\n",
    "D = 3.3663\n",
    "E = 0.0\n",
    "BCD = 6\n",
    "\n",
    "# Calculate Pacejka coefficients\n",
    "Fy = D * np.sin(C * np.arctan(B * alpha - E * (B * alpha - np.arctan(B * alpha)))) * (1.0 - BCD * np.abs(alpha))\n",
    "\n",
    "# Plotting\n",
    "plt.plot(alpha, Fy, label='MF', color = 'b')\n",
    "plt.xlabel(r'$\\alpha \\rm [rad]$')\n",
    "plt.ylabel(r'$\\mu_y \\rm [\\;]$')\n",
    "#plt.title('Pacejka Magic Formula')\n",
    "plt.grid(True)\n",
    "plt.legend()\n",
    "plt.show()\n"
   ]
  },
  {
   "cell_type": "code",
   "execution_count": 6,
   "metadata": {},
   "outputs": [],
   "source": [
    "data = np.genfromtxt('open_loop_inputs/open_loop_sim_amzsim_model.csv', delimiter=',',  dtype=None, names=True)"
   ]
  },
  {
   "cell_type": "code",
   "execution_count": 8,
   "metadata": {},
   "outputs": [
    {
     "data": {
      "text/plain": [
       "[<matplotlib.lines.Line2D at 0x7f8fb119c820>]"
      ]
     },
     "execution_count": 8,
     "metadata": {},
     "output_type": "execute_result"
    },
    {
     "data": {
      "image/png": "[encoded data removed]",
      "text/plain": [
       "<Figure size 432x288 with 1 Axes>"
      ]
     },
     "metadata": {
      "needs_background": "light"
     },
     "output_type": "display_data"
    }
   ],
   "source": [
    "plt.plot(data['x'],data['y'])"
   ]
  },
  {
   "cell_type": "code",
   "execution_count": 7,
   "metadata": {},
   "outputs": [
    {
     "data": {
      "text/plain": [
       "(-8.833708774820366,\n",
       " 20.804617170688864,\n",
       " -3.192989390279487,\n",
       " 2.5541688494739527)"
      ]
     },
     "execution_count": 7,
     "metadata": {},
     "output_type": "execute_result"
    },
    {
     "data": {
      "image/png": "[encoded data removed]",
      "text/plain": [
       "<Figure size 432x288 with 1 Axes>"
      ]
     },
     "metadata": {
      "needs_background": "light"
     },
     "output_type": "display_data"
    }
   ],
   "source": []
  },
  {
   "cell_type": "code",
   "execution_count": null,
   "metadata": {},
   "outputs": [],
   "source": []
  }
 ],
 "metadata": {
  "kernelspec": {
   "display_name": "DLSC",
   "language": "python",
   "name": "python3"
  },
  "language_info": {
   "codemirror_mode": {
    "name": "ipython",
    "version": 3
   },
   "file_extension": ".py",
   "mimetype": "text/x-python",
   "name": "python",
   "nbconvert_exporter": "python",
   "pygments_lexer": "ipython3",
   "version": "3.9.7"
  },
  "orig_nbformat": 4
 },
 "nbformat": 4,
 "nbformat_minor": 2
}
