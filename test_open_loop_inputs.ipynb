{
 "cells": [
  {
   "cell_type": "code",
   "execution_count": 2,
   "metadata": {},
   "outputs": [],
   "source": [
    "from models.model2_linear import Dynamic_Bicycle_Linear\n",
    "from models.model2 import BicycleModel\n",
    "from models.model4 import FourWheelModel\n",
    "from models.model4_joel import FourWheelModel_load_transfer\n",
    "import matplotlib.pyplot as plt\n",
    "from models.utils import get_csv_row_count\n",
    "from models.utils import get_folder_path\n",
    "\n",
    "import numpy as np"
   ]
  },
  {
   "cell_type": "code",
   "execution_count": 21,
   "metadata": {},
   "outputs": [
    {
     "name": "stdout",
     "output_type": "stream",
     "text": [
      "/Users/jonas/Desktop/intergation_model/open_loop_inputs/open_loop_commands.csv\n"
     ]
    },
    {
     "data": {
      "image/png": "[encoded data removed]",
      "text/plain": [
       "<Figure size 432x288 with 1 Axes>"
      ]
     },
     "metadata": {
      "needs_background": "light"
     },
     "output_type": "display_data"
    }
   ],
   "source": [
    "def get_open_loop_data(model, file_path):\n",
    "    \n",
    "    t,x_vect = model.do_open_loop_sim_from_csv(file_path)\n",
    "    \n",
    "    x = x_vect[:,0]\n",
    "    y = x_vect[:,1]\n",
    "\n",
    "    plt.plot(x,y, color = 'black')\n",
    "    plt.xlabel(r'$x \\rm [m]$')\n",
    "    plt.ylabel(r'$y \\rm [m]$')\n",
    "    plt.legend(r'Trajectory')\n",
    "    plt.axis()\n",
    "    \n",
    "    \n",
    "    return t,x_vect\n",
    "\n",
    "dt = 0.025 # = 1/40 = 1/control_frequency\n",
    "file_path = get_folder_path()+'/open_loop_inputs/open_loop_commands.csv'\n",
    "print(file_path)\n",
    "N = get_csv_row_count(file_path)\n",
    "\n",
    "open_loop_tf =N*dt\n",
    "\n",
    "T_peak = 0.37\n",
    "T_slope = 0.4\n",
    "\n",
    "model2 = FourWheelModel(dt,open_loop_tf, T_peak, T_slope)\n",
    "t,x_vect_ref = get_open_loop_data(model2, file_path)\n"
   ]
  },
  {
   "cell_type": "code",
   "execution_count": null,
   "metadata": {},
   "outputs": [
    {
     "ename": "NameError",
     "evalue": "name 'x_vect_ref' is not defined",
     "output_type": "error",
     "traceback": [
      "\u001b[0;31m---------------------------------------------------------------------------\u001b[0m",
      "\u001b[0;31mNameError\u001b[0m                                 Traceback (most recent call last)",
      "\u001b[1;32m/Users/jonas/Desktop/intergation_model/test_open_loop_inputs.ipynb Cell 3\u001b[0m in \u001b[0;36m<module>\u001b[0;34m\u001b[0m\n\u001b[1;32m     <a href='vscode-notebook-cell:/Users/jonas/Desktop/intergation_model/test_open_loop_inputs.ipynb#W2sZmlsZQ%3D%3D?line=22'>23</a>\u001b[0m T_peak \u001b[39m=\u001b[39m \u001b[39m0.37\u001b[39m\n\u001b[1;32m     <a href='vscode-notebook-cell:/Users/jonas/Desktop/intergation_model/test_open_loop_inputs.ipynb#W2sZmlsZQ%3D%3D?line=23'>24</a>\u001b[0m T_slope \u001b[39m=\u001b[39m \u001b[39m0.4\u001b[39m\n\u001b[0;32m---> <a href='vscode-notebook-cell:/Users/jonas/Desktop/intergation_model/test_open_loop_inputs.ipynb#W2sZmlsZQ%3D%3D?line=24'>25</a>\u001b[0m \u001b[39mprint\u001b[39m(get_kpi(T_peak, T_slope, x_vect_ref))\n",
      "\u001b[0;31mNameError\u001b[0m: name 'x_vect_ref' is not defined"
     ]
    }
   ],
   "source": [
    "# Example usage\n",
    "def get_kpi(T_peak, T_slope, x_vect_ref):\n",
    "    dt = 0.025 # = 1/40 = 1/control_frequency\n",
    "    file_path = get_folder_path()+'/open_loop_inputs/open_loop_commands.csv'\n",
    "    print(file_path)\n",
    "    N = get_csv_row_count(file_path)\n",
    "    open_loop_tf =N*dt\n",
    "\n",
    "    model2 = BicycleModel(dt,open_loop_tf, T_peak, T_slope)\n",
    "    t,x_vect = get_open_loop_data(model2, file_path)\n",
    "    \n",
    "    l2_norm_position = np.linalg.norm(x_vect_ref[:,:2] - x_vect[:,:2], axis=1).sum()\n",
    "    l2_norm_velocity = np.linalg.norm(x_vect_ref[:,2:] - x_vect[:,2:], axis=1).sum()\n",
    "\n",
    "    w1 = 0.5\n",
    "    w2 = 0.5\n",
    "    kpi = w1*l2_norm_position+w2*l2_norm_velocity\n",
    "    return kpi\n",
    "\n",
    "\n",
    "\n",
    "# Example usage\n",
    "T_peak = 0.37\n",
    "T_slope = 0.4\n",
    "print(get_kpi(T_peak, T_slope, x_vect_ref))\n",
    "\n"
   ]
  },
  {
   "cell_type": "code",
   "execution_count": 12,
   "metadata": {},
   "outputs": [
    {
     "name": "stdout",
     "output_type": "stream",
     "text": [
      "/Users/jonas/Desktop/intergation_model\n"
     ]
    }
   ],
   "source": [
    "print(get_folder_path())"
   ]
  },
  {
   "cell_type": "code",
   "execution_count": 15,
   "metadata": {},
   "outputs": [],
   "source": [
    "\n",
    "import os\n",
    "folder_path = os.path.abspath(\"\")"
   ]
  },
  {
   "cell_type": "code",
   "execution_count": 16,
   "metadata": {},
   "outputs": [
    {
     "data": {
      "text/plain": [
       "'/Users/jonas/Desktop/intergation_model'"
      ]
     },
     "execution_count": 16,
     "metadata": {},
     "output_type": "execute_result"
    }
   ],
   "source": [
    "folder_path"
   ]
  },
  {
   "cell_type": "code",
   "execution_count": 35,
   "metadata": {},
   "outputs": [
    {
     "data": {
      "text/plain": [
       "4.60555127546399"
      ]
     },
     "execution_count": 35,
     "metadata": {},
     "output_type": "execute_result"
    }
   ],
   "source": [
    "l2_norm_position = np.linalg.norm(np.array([[0,1],[2,3]]), axis=1).sum()\n",
    "l2_norm_position"
   ]
  },
  {
   "cell_type": "code",
   "execution_count": 32,
   "metadata": {},
   "outputs": [
    {
     "data": {
      "text/plain": [
       "array([[0, 1],\n",
       "       [2, 3]])"
      ]
     },
     "execution_count": 32,
     "metadata": {},
     "output_type": "execute_result"
    }
   ],
   "source": [
    "np.array([[0,1],[2,3]])"
   ]
  },
  {
   "cell_type": "code",
   "execution_count": 2,
   "metadata": {},
   "outputs": [
    {
     "data": {
      "image/png": "[encoded data removed]",
      "text/plain": [
       "<Figure size 432x288 with 1 Axes>"
      ]
     },
     "metadata": {
      "needs_background": "light"
     },
     "output_type": "display_data"
    }
   ],
   "source": [
    "import numpy as np\n",
    "import matplotlib.pyplot as plt\n",
    "\n",
    "# Generate example data\n",
    "alpha = np.linspace(-0.08, 0.08, 200)  # Example data for x-axis\n",
    "B = 60.0\n",
    "C = 0.9\n",
    "D = 3.3663\n",
    "E = 0.0\n",
    "BCD = 6\n",
    "\n",
    "# Calculate Pacejka coefficients\n",
    "Fy = D * np.sin(C * np.arctan(B * alpha - E * (B * alpha - np.arctan(B * alpha)))) * (1.0 - BCD * np.abs(alpha))\n",
    "\n",
    "# Plotting\n",
    "plt.plot(alpha, Fy, label='MF', color = 'b')\n",
    "plt.xlabel(r'$\\alpha \\rm [rad]$')\n",
    "plt.ylabel(r'$\\mu_y \\rm [\\;]$')\n",
    "#plt.title('Pacejka Magic Formula')\n",
    "plt.grid(True)\n",
    "plt.legend()\n",
    "plt.show()\n"
   ]
  },
  {
   "cell_type": "code",
   "execution_count": null,
   "metadata": {},
   "outputs": [],
   "source": []
  }
 ],
 "metadata": {
  "kernelspec": {
   "display_name": "DLSC",
   "language": "python",
   "name": "python3"
  },
  "language_info": {
   "codemirror_mode": {
    "name": "ipython",
    "version": 3
   },
   "file_extension": ".py",
   "mimetype": "text/x-python",
   "name": "python",
   "nbconvert_exporter": "python",
   "pygments_lexer": "ipython3",
   "version": "3.9.7"
  },
  "orig_nbformat": 4
 },
 "nbformat": 4,
 "nbformat_minor": 2
}
