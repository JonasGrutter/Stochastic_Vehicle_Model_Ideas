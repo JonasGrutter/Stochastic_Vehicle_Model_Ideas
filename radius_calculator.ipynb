{
 "cells": [
  {
   "cell_type": "code",
   "execution_count": 6,
   "metadata": {},
   "outputs": [],
   "source": [
    "from models.model2_linear import Dynamic_Bicycle_Linear\n",
    "from models.model4_joel import FourWheelModel_load_transfer\n",
    "from models.model2 import BicycleModel\n",
    "from models.model4 import FourWheelModel\n",
    "from models.utils import fit_circle\n",
    "import matplotlib.pyplot as plt"
   ]
  },
  {
   "cell_type": "code",
   "execution_count": 7,
   "metadata": {},
   "outputs": [
    {
     "name": "stdout",
     "output_type": "stream",
     "text": [
      "Bycicle radius: 7.614113488283375\n",
      "Four wheel radius: 7.59036948110139\n",
      "Theoretical radius for kinematic model 7.585623609657709\n"
     ]
    }
   ],
   "source": [
    "def get_circle_radius(model):\n",
    "    \n",
    "    t0 = 0\n",
    "    N = model.open_loop_tf/model.dt\n",
    "    \n",
    "    steering = 0.2\n",
    "    torque = 70\n",
    "    \n",
    "    inputs = [steering, torque, torque, torque, torque]\n",
    "\n",
    "\n",
    "    t,x_vect = model.do_open_loop_sim_cst_inputs(t0, inputs)\n",
    "    x = x_vect[int(N/1.1):,0]\n",
    "    y = x_vect[int(N/1.1):,1]\n",
    "    radius = fit_circle(x, y)\n",
    "    ''' x = x_vect[int(N/1.1):,0]\n",
    "    y = x_vect[int(N/1.1):,1]\n",
    "\n",
    "    \n",
    "    plt.plot(x,y)\n",
    "    plt.axis('equal')'''\n",
    "\n",
    "    return radius,t,x,y\n",
    "\n",
    "dt = 0.05\n",
    "open_loop_tf = 50\n",
    "\n",
    "T_peak = 0.37\n",
    "T_slope = 0.4\n",
    "\n",
    "\n",
    "\n",
    "model2 = BicycleModel(dt,open_loop_tf, T_peak, T_slope)\n",
    "radius2,t,x_bicycle,y_bicycle = get_circle_radius(model2)\n",
    "print('Bycicle radius:', radius2)\n",
    "\n",
    "\n",
    "model4 = FourWheelModel_load_transfer(dt,open_loop_tf, T_peak, T_slope)\n",
    "radius4,t,x_fourhwheel,y_fourwheel = get_circle_radius(model4)\n",
    "print('Four wheel radius:', radius4)\n",
    "\n",
    "'''velocity = 5\n",
    "model2_lin = Dynamic_Bicycle_Linear(velocity, dt, open_loop_tf, T_peak, T_slope)\n",
    "radius2_lin,t,x,y = get_circle_radius(model2_lin)\n",
    "print('Bycicle Linear:', radius2_lin)'''\n",
    "\n",
    "radius_kinematic = model4.kinematik_model_radius(0.2)\n",
    "print('Theoretical radius for kinematic model', radius_kinematic)\n",
    "\n",
    "\n"
   ]
  },
  {
   "cell_type": "code",
   "execution_count": 10,
   "metadata": {},
   "outputs": [
    {
     "name": "stdout",
     "output_type": "stream",
     "text": [
      "Simulated radius for two wheel model 2.7921568254921225\n",
      "Simulated radius for fourwheel wheel model 7.4892847076563065\n",
      "Theoretical radius for kinematic model 7.585623609657709\n"
     ]
    }
   ],
   "source": [
    "def get_circle_radius(model):\n",
    "    \n",
    "\n",
    "\n",
    "\n",
    "    t,x_vect = model.do_open_loop_sim_cst_inputs(t0, inputs)\n",
    "    x = x_vect[int(N/2):,0]\n",
    "    y = x_vect[int(N/2):,1]\n",
    "    \n",
    "    radius = fit_circle(x, y)\n",
    "    plt.plot(x,y)\n",
    "    plt.axis('equal')\n",
    "    ''' x = x_vect[int(N/1.1):,0]\n",
    "    y = x_vect[int(N/1.1):,1]\n",
    "\n",
    "    \n",
    "    plt.plot(x,y)\n",
    "    plt.axis('equal')'''\n",
    "\n",
    "    return radius,t,x,y\n",
    "\n",
    "\n",
    "\n",
    "steering = 0.2\n",
    "torque = 60\n",
    "inputs = [steering, torque, torque, torque, torque]\n",
    "\n",
    "t0 = 0\n",
    "dt = 0.05\n",
    "open_loop_tf = 500\n",
    "N = open_loop_tf/dt\n",
    "T_peak = 0.37 # 0.39 = 52.8213818215\n",
    "T_slope = 0.4\n",
    "\n",
    "\n",
    "\n",
    "\n",
    "\n",
    "\n",
    "model2 = BicycleModel(dt,open_loop_tf, T_peak, T_slope)\n",
    "model4 = FourWheelModel_load_transfer(dt,open_loop_tf, T_peak, T_slope)\n",
    "\n",
    "\n",
    "t,x_vect_2 = model2.do_open_loop_sim_cst_inputs(t0, inputs)\n",
    "x2 = x_vect_2[int(N/2):,0]\n",
    "y2 = x_vect_2[int(N/2):,1]\n",
    "#plt.plot(x2,y)\n",
    "#lt.axis('equal')\n",
    "\n",
    "t,x_vect = model4.do_open_loop_sim_cst_inputs(t0, inputs)\n",
    "x4 = x_vect[int(N/2):,0]\n",
    "y4 = x_vect[int(N/2):,1]\n",
    "\n",
    "\n",
    "\n",
    "radius2 = fit_circle(x2[int(N/2):], y2[int(N/2):])\n",
    "radius4 = fit_circle(x4[int(N/2):], y4[int(N/2):])\n",
    "\n",
    "\n",
    "radius_kinematic = model4.kinematik_model_radius(0.2)\n",
    "print('Simulated radius for two wheel model', radius2)\n",
    "print('Simulated radius for fourwheel wheel model', radius4)\n",
    "print('Theoretical radius for kinematic model', radius_kinematic)\n",
    "\n"
   ]
  },
  {
   "cell_type": "code",
   "execution_count": 11,
   "metadata": {},
   "outputs": [
    {
     "data": {
      "text/plain": [
       "[<matplotlib.lines.Line2D at 0x7fa810905310>]"
      ]
     },
     "execution_count": 11,
     "metadata": {},
     "output_type": "execute_result"
    },
    {
     "data": {
      "image/png": "[encoded data removed]",
      "text/plain": [
       "<Figure size 432x288 with 1 Axes>"
      ]
     },
     "metadata": {
      "needs_background": "light"
     },
     "output_type": "display_data"
    }
   ],
   "source": [
    "plt.plot(t, x_vect_2[0:,5])"
   ]
  },
  {
   "cell_type": "code",
   "execution_count": 14,
   "metadata": {},
   "outputs": [
    {
     "data": {
      "text/plain": [
       "Text(0, 0.5, '$y \\\\rm [m]$')"
      ]
     },
     "execution_count": 14,
     "metadata": {},
     "output_type": "execute_result"
    },
    {
     "data": {
      "image/png": "[encoded data removed]",
      "text/plain": [
       "<Figure size 432x288 with 1 Axes>"
      ]
     },
     "metadata": {
      "needs_background": "light"
     },
     "output_type": "display_data"
    }
   ],
   "source": [
    "plt.plot(x2,y2, label = r' Bicycle Model', color='b')\n",
    "plt.plot(x4,y4, label = r'Four-Wheel Model', color='r')\n",
    "plt.legend(loc='upper right')\n",
    "plt.axis('equal')\n",
    "plt.xlabel(r'$x \\rm [m]$')\n",
    "plt.ylabel(r'$y \\rm [m]$')"
   ]
  },
  {
   "cell_type": "code",
   "execution_count": null,
   "metadata": {},
   "outputs": [],
   "source": []
  },
  {
   "cell_type": "code",
   "execution_count": null,
   "metadata": {},
   "outputs": [],
   "source": []
  }
 ],
 "metadata": {
  "kernelspec": {
   "display_name": "DLSC",
   "language": "python",
   "name": "python3"
  },
  "language_info": {
   "codemirror_mode": {
    "name": "ipython",
    "version": 3
   },
   "file_extension": ".py",
   "mimetype": "text/x-python",
   "name": "python",
   "nbconvert_exporter": "python",
   "pygments_lexer": "ipython3",
   "version": "3.9.7"
  },
  "orig_nbformat": 4
 },
 "nbformat": 4,
 "nbformat_minor": 2
}
