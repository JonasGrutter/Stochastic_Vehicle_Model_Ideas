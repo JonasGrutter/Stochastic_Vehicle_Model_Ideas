{
 "cells": [
  {
   "cell_type": "code",
   "execution_count": 1,
   "metadata": {},
   "outputs": [],
   "source": [
    "from models.model2_linear import Dynamic_Bicycle_Linear\n",
    "from models.model4_joel import FourWheelModel_load_transfer\n",
    "from models.model2 import BicycleModel\n",
    "from models.model4 import FourWheelModel\n",
    "from models.utils import fit_circle\n",
    "import matplotlib.pyplot as plt"
   ]
  },
  {
   "cell_type": "code",
   "execution_count": 11,
   "metadata": {},
   "outputs": [
    {
     "name": "stdout",
     "output_type": "stream",
     "text": [
      "Bycicle radius: 53.37863195414858\n",
      "Four wheel radius: 55.54986484090331\n",
      "Bycicle Linear: 7.3846282201926625\n",
      "Theoretical radius for kinematic model 7.585623609657709\n"
     ]
    },
    {
     "data": {
      "image/png": "[encoded data removed]",
      "text/plain": [
       "<Figure size 432x288 with 1 Axes>"
      ]
     },
     "metadata": {
      "needs_background": "light"
     },
     "output_type": "display_data"
    }
   ],
   "source": [
    "def get_circle_radius(model):\n",
    "    \n",
    "    t0 = 0\n",
    "    N = model.open_loop_tf/model.dt\n",
    "    \n",
    "    steering = 0.2\n",
    "    torque = 1000\n",
    "    \n",
    "    inputs = [steering, torque, torque, torque, torque]\n",
    "\n",
    "\n",
    "    t,x_vect = model.do_open_loop_sim_cst_inputs(t0, inputs)\n",
    "    \n",
    "    x = x_vect[int(N/2):,0]\n",
    "    y = x_vect[int(N/2):,1]\n",
    "\n",
    "    radius = fit_circle(x, y)\n",
    "    plt.plot(x,y)\n",
    "    plt.axis('equal')\n",
    "    return radius,t,x,y\n",
    "\n",
    "dt = 0.05\n",
    "open_loop_tf = 50\n",
    "\n",
    "T_peak = 0.37\n",
    "T_slope = 0.5\n",
    "\n",
    "\n",
    "\n",
    "model2 = BicycleModel(dt,open_loop_tf, T_peak, T_slope)\n",
    "radius2,t,x,y = get_circle_radius(model2)\n",
    "print('Bycicle radius:', radius2)\n",
    "\n",
    "\n",
    "model4 = FourWheelModel_load_transfer(dt,open_loop_tf, T_peak, T_slope)\n",
    "radius4,t,x,y = get_circle_radius(model4)\n",
    "print('Four wheel radius:', radius4)\n",
    "\n",
    "velocity = 5\n",
    "model2_lin = Dynamic_Bicycle_Linear(velocity, dt, open_loop_tf, T_peak, T_slope)\n",
    "radius2_lin,t,x,y = get_circle_radius(model2_lin)\n",
    "print('Bycicle Linear:', radius2_lin)\n",
    "\n",
    "radius_kinematic = model4.kinematik_model_radius(0.2)\n",
    "print('Theoretical radius for kinematic model', radius_kinematic)\n",
    "\n",
    "\n"
   ]
  },
  {
   "cell_type": "code",
   "execution_count": 3,
   "metadata": {},
   "outputs": [
    {
     "data": {
      "text/plain": [
       "<matplotlib.legend.Legend at 0x7fe413568f70>"
      ]
     },
     "execution_count": 3,
     "metadata": {},
     "output_type": "execute_result"
    },
    {
     "data": {
      "image/png": "[encoded data removed]",
      "text/plain": [
       "<Figure size 432x288 with 1 Axes>"
      ]
     },
     "metadata": {
      "needs_background": "light"
     },
     "output_type": "display_data"
    }
   ],
   "source": [
    "import numpy as np\n",
    "#plt.plot(model4.t, model4.slip_angles[:,3])\n",
    "\n",
    "\n",
    "model4.slip_angles\n",
    "\n",
    "indices_to_remove = []\n",
    "for i in range(model4.slip_angles.shape[0]):\n",
    "    if i == 0:\n",
    "        continue\n",
    "    if not(i%4 == 0):\n",
    "        indices_to_remove.append(i)\n",
    " \n",
    "# Create a boolean mask\n",
    "mask = np.ones(model4.slip_angles.shape[0], dtype=bool)\n",
    "mask[indices_to_remove] = False\n",
    "\n",
    "# Select rows using the mask\n",
    "new_arr = model4.slip_angles[mask]\n",
    "\n",
    "\n",
    "#plt.plot(model4.t, model4.slip_angles[:,0])\n",
    "new_arr.shape\n",
    "plt.plot(t, new_arr[:,0], label = 'SA_fl')\n",
    "plt.plot(t, new_arr[:,1], label = 'SA_fr')\n",
    "plt.plot(t, new_arr[:,2], label = 'SA_rl')\n",
    "plt.plot(t, new_arr[:,3], label = 'SA_rr')\n",
    "plt.legend()\n"
   ]
  },
  {
   "cell_type": "code",
   "execution_count": 6,
   "metadata": {},
   "outputs": [
    {
     "name": "stdout",
     "output_type": "stream",
     "text": [
      "Base class common function\n",
      "Subclass common function\n"
     ]
    }
   ],
   "source": [
    "class BaseClass:\n",
    "    def common_function(self):\n",
    "        print(\"Base class common function\")\n",
    "\n",
    "class SubClass(BaseClass):\n",
    "    def common_function(self):\n",
    "        super().common_function()  # Call base class common_function()\n",
    "        print(\"Subclass common function\")\n",
    "\n",
    "# Creating an instance of SubClass\n",
    "obj = SubClass()\n",
    "obj.common_function()"
   ]
  },
  {
   "cell_type": "code",
   "execution_count": 4,
   "metadata": {},
   "outputs": [],
   "source": [
    "import numpy as np\n",
    "\n",
    "def generate_points_around_circle(center_x, center_y, radius, num_points):\n",
    "    angles = np.linspace(0, 2 * np.pi, num_points, endpoint=False)\n",
    "    x = center_x + radius * np.cos(angles)\n",
    "    y = center_y + radius * np.sin(angles)\n",
    "    points = np.column_stack((x, y))\n",
    "    \n",
    "    return points\n"
   ]
  },
  {
   "cell_type": "code",
   "execution_count": 5,
   "metadata": {},
   "outputs": [
    {
     "name": "stdout",
     "output_type": "stream",
     "text": [
      "[[ 5.00000000e+00  0.00000000e+00]\n",
      " [ 4.99013364e+00  3.13952598e-01]\n",
      " [ 4.96057351e+00  6.26666168e-01]\n",
      " [ 4.91143625e+00  9.36906573e-01]\n",
      " [ 4.84291581e+00  1.24344944e+00]\n",
      " [ 4.75528258e+00  1.54508497e+00]\n",
      " [ 4.64888243e+00  1.84062276e+00]\n",
      " [ 4.52413526e+00  2.12889646e+00]\n",
      " [ 4.38153340e+00  2.40876837e+00]\n",
      " [ 4.22163963e+00  2.67913397e+00]\n",
      " [ 4.04508497e+00  2.93892626e+00]\n",
      " [ 3.85256621e+00  3.18711995e+00]\n",
      " [ 3.64484314e+00  3.42273553e+00]\n",
      " [ 3.42273553e+00  3.64484314e+00]\n",
      " [ 3.18711995e+00  3.85256621e+00]\n",
      " [ 2.93892626e+00  4.04508497e+00]\n",
      " [ 2.67913397e+00  4.22163963e+00]\n",
      " [ 2.40876837e+00  4.38153340e+00]\n",
      " [ 2.12889646e+00  4.52413526e+00]\n",
      " [ 1.84062276e+00  4.64888243e+00]\n",
      " [ 1.54508497e+00  4.75528258e+00]\n",
      " [ 1.24344944e+00  4.84291581e+00]\n",
      " [ 9.36906573e-01  4.91143625e+00]\n",
      " [ 6.26666168e-01  4.96057351e+00]\n",
      " [ 3.13952598e-01  4.99013364e+00]\n",
      " [-8.04061325e-16  5.00000000e+00]\n",
      " [-3.13952598e-01  4.99013364e+00]\n",
      " [-6.26666168e-01  4.96057351e+00]\n",
      " [-9.36906573e-01  4.91143625e+00]\n",
      " [-1.24344944e+00  4.84291581e+00]\n",
      " [-1.54508497e+00  4.75528258e+00]\n",
      " [-1.84062276e+00  4.64888243e+00]\n",
      " [-2.12889646e+00  4.52413526e+00]\n",
      " [-2.40876837e+00  4.38153340e+00]\n",
      " [-2.67913397e+00  4.22163963e+00]\n",
      " [-2.93892626e+00  4.04508497e+00]\n",
      " [-3.18711995e+00  3.85256621e+00]\n",
      " [-3.42273553e+00  3.64484314e+00]\n",
      " [-3.64484314e+00  3.42273553e+00]\n",
      " [-3.85256621e+00  3.18711995e+00]\n",
      " [-4.04508497e+00  2.93892626e+00]\n",
      " [-4.22163963e+00  2.67913397e+00]\n",
      " [-4.38153340e+00  2.40876837e+00]\n",
      " [-4.52413526e+00  2.12889646e+00]\n",
      " [-4.64888243e+00  1.84062276e+00]\n",
      " [-4.75528258e+00  1.54508497e+00]\n",
      " [-4.84291581e+00  1.24344944e+00]\n",
      " [-4.91143625e+00  9.36906573e-01]\n",
      " [-4.96057351e+00  6.26666168e-01]\n",
      " [-4.99013364e+00  3.13952598e-01]\n",
      " [-5.00000000e+00 -1.60812265e-15]\n",
      " [-4.99013364e+00 -3.13952598e-01]\n",
      " [-4.96057351e+00 -6.26666168e-01]\n",
      " [-4.91143625e+00 -9.36906573e-01]\n",
      " [-4.84291581e+00 -1.24344944e+00]\n",
      " [-4.75528258e+00 -1.54508497e+00]\n",
      " [-4.64888243e+00 -1.84062276e+00]\n",
      " [-4.52413526e+00 -2.12889646e+00]\n",
      " [-4.38153340e+00 -2.40876837e+00]\n",
      " [-4.22163963e+00 -2.67913397e+00]\n",
      " [-4.04508497e+00 -2.93892626e+00]\n",
      " [-3.85256621e+00 -3.18711995e+00]\n",
      " [-3.64484314e+00 -3.42273553e+00]\n",
      " [-3.42273553e+00 -3.64484314e+00]\n",
      " [-3.18711995e+00 -3.85256621e+00]\n",
      " [-2.93892626e+00 -4.04508497e+00]\n",
      " [-2.67913397e+00 -4.22163963e+00]\n",
      " [-2.40876837e+00 -4.38153340e+00]\n",
      " [-2.12889646e+00 -4.52413526e+00]\n",
      " [-1.84062276e+00 -4.64888243e+00]\n",
      " [-1.54508497e+00 -4.75528258e+00]\n",
      " [-1.24344944e+00 -4.84291581e+00]\n",
      " [-9.36906573e-01 -4.91143625e+00]\n",
      " [-6.26666168e-01 -4.96057351e+00]\n",
      " [-3.13952598e-01 -4.99013364e+00]\n",
      " [-9.18485099e-16 -5.00000000e+00]\n",
      " [ 3.13952598e-01 -4.99013364e+00]\n",
      " [ 6.26666168e-01 -4.96057351e+00]\n",
      " [ 9.36906573e-01 -4.91143625e+00]\n",
      " [ 1.24344944e+00 -4.84291581e+00]\n",
      " [ 1.54508497e+00 -4.75528258e+00]\n",
      " [ 1.84062276e+00 -4.64888243e+00]\n",
      " [ 2.12889646e+00 -4.52413526e+00]\n",
      " [ 2.40876837e+00 -4.38153340e+00]\n",
      " [ 2.67913397e+00 -4.22163963e+00]\n",
      " [ 2.93892626e+00 -4.04508497e+00]\n",
      " [ 3.18711995e+00 -3.85256621e+00]\n",
      " [ 3.42273553e+00 -3.64484314e+00]\n",
      " [ 3.64484314e+00 -3.42273553e+00]\n",
      " [ 3.85256621e+00 -3.18711995e+00]\n",
      " [ 4.04508497e+00 -2.93892626e+00]\n",
      " [ 4.22163963e+00 -2.67913397e+00]\n",
      " [ 4.38153340e+00 -2.40876837e+00]\n",
      " [ 4.52413526e+00 -2.12889646e+00]\n",
      " [ 4.64888243e+00 -1.84062276e+00]\n",
      " [ 4.75528258e+00 -1.54508497e+00]\n",
      " [ 4.84291581e+00 -1.24344944e+00]\n",
      " [ 4.91143625e+00 -9.36906573e-01]\n",
      " [ 4.96057351e+00 -6.26666168e-01]\n",
      " [ 4.99013364e+00 -3.13952598e-01]]\n"
     ]
    }
   ],
   "source": [
    "circle_points = generate_points_around_circle(0, 0, 5, 100)\n",
    "print(circle_points)"
   ]
  },
  {
   "cell_type": "code",
   "execution_count": null,
   "metadata": {},
   "outputs": [],
   "source": []
  }
 ],
 "metadata": {
  "kernelspec": {
   "display_name": "DLSC",
   "language": "python",
   "name": "python3"
  },
  "language_info": {
   "codemirror_mode": {
    "name": "ipython",
    "version": 3
   },
   "file_extension": ".py",
   "mimetype": "text/x-python",
   "name": "python",
   "nbconvert_exporter": "python",
   "pygments_lexer": "ipython3",
   "version": "3.9.7"
  },
  "orig_nbformat": 4
 },
 "nbformat": 4,
 "nbformat_minor": 2
}
