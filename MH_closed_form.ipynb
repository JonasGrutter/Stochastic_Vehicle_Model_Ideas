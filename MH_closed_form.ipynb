{
 "cells": [
  {
   "cell_type": "code",
   "execution_count": 2,
   "metadata": {},
   "outputs": [],
   "source": [
    "import numpy as np\n",
    "import matplotlib.pyplot as plt\n",
    "import scipy.stats as sc\n",
    "import matplotlib.pyplot as plt\n",
    "from models.model4 import FourWheelModel\n",
    "\n",
    "\n",
    "import time"
   ]
  },
  {
   "cell_type": "code",
   "execution_count": 11,
   "metadata": {},
   "outputs": [],
   "source": [
    "import matplotlib.pyplot as plt\n",
    "\n",
    "def plot_column_histograms(data):\n",
    "    \"\"\"\n",
    "    Plots a histogram for each column of a 2D numpy array.\n",
    "    \"\"\"\n",
    "    num_cols = data.shape[1]  # Get the number of columns in the data\n",
    "    \n",
    "    # Plot a histogram for each column\n",
    "    for i in range(num_cols):\n",
    "        plt.hist(data[:, i], bins=10)  # Plot the histogram\n",
    "        \n",
    "        # Set the plot title and axis labels\n",
    "        plt.title(f\"Histogram of Column {i}\")\n",
    "        plt.xlabel(\"Value\")\n",
    "        plt.ylabel(\"Frequency\")\n",
    "        \n",
    "        plt.show()  # Show the plot\n",
    "\n",
    "def plot_histogram_1dnparray(data):\n",
    "    # Plot the histogram\n",
    "    plt.hist(data, bins=30, edgecolor='black')\n",
    "    plt.xlabel('Value')\n",
    "    plt.ylabel('Frequency')\n",
    "    plt.title('Histogram of Data')\n",
    "    plt.grid(True)\n",
    "\n",
    "    # Show the plot\n",
    "    plt.show()"
   ]
  },
  {
   "cell_type": "code",
   "execution_count": 4,
   "metadata": {},
   "outputs": [
    {
     "name": "stdout",
     "output_type": "stream",
     "text": [
      "Theoretical radius for kinematic model 7.585623609657709\n"
     ]
    }
   ],
   "source": [
    "# Define a four wheel model\n",
    "dt = 0.05\n",
    "open_loop_tf = 1000\n",
    "\n",
    "T_peak = 0.37\n",
    "T_slope = 0.4\n",
    "\n",
    "model4 = FourWheelModel(dt, open_loop_tf, T_peak, T_slope)\n",
    "\n",
    "\n",
    "kappa = 1\n",
    "steering = 0.2\n",
    "total_steering = kappa*steering\n",
    "\n",
    "\n",
    "radius_kinematic = model4.kinematik_model_radius(total_steering)\n",
    "print('Theoretical radius for kinematic model', radius_kinematic)\n"
   ]
  },
  {
   "cell_type": "code",
   "execution_count": 15,
   "metadata": {},
   "outputs": [
    {
     "data": {
      "text/plain": [
       "Text(0, 0.5, 'Radius')"
      ]
     },
     "execution_count": 15,
     "metadata": {},
     "output_type": "execute_result"
    },
    {
     "data": {
      "image/png": "[encoded data removed]",
      "text/plain": [
       "<Figure size 432x288 with 1 Axes>"
      ]
     },
     "metadata": {
      "needs_background": "light"
     },
     "output_type": "display_data"
    }
   ],
   "source": [
    "# sample kapp from a distribtution and create data\n",
    "np.random.seed(2023)\n",
    "steering = 0.2\n",
    "data_size = 500\n",
    "# set parameters\n",
    "steering = np.full(data_size,0.2)\n",
    "\n",
    "for i in range(len(steering)):\n",
    "    steering[i] += np.random.normal(0,0.01)\n",
    "\n",
    "sigma = 1\n",
    "\n",
    "# obtain response and add noise\n",
    "steering_from_kappa_samle = np.zeros(data_size)\n",
    "for i in range(len(steering)):\n",
    "    steering_from_kappa_samle[i] = model4.kinematik_model_radius(steering[i])\n",
    "steering_from_kappa_samle.reshape(-1,1)\n",
    "\n",
    "#Plot data\n",
    "# plot data \n",
    "plt.scatter(steering, steering_from_kappa_samle)\n",
    "plt.xlabel(\"steering\")\n",
    "plt.ylabel(\"Radius\")"
   ]
  },
  {
   "cell_type": "code",
   "execution_count": 16,
   "metadata": {},
   "outputs": [
    {
     "data": {
      "image/png": "[encoded data removed]",
      "text/plain": [
       "<Figure size 432x288 with 1 Axes>"
      ]
     },
     "metadata": {
      "needs_background": "light"
     },
     "output_type": "display_data"
    }
   ],
   "source": [
    "plot_histogram_1dnparray(steering)\n"
   ]
  },
  {
   "cell_type": "code",
   "execution_count": 7,
   "metadata": {},
   "outputs": [],
   "source": [
    "def proposal(prec_theta, search_width = 0.5):\n",
    "    # this function generates the proposal for the new theta\n",
    "    # we assume that the distribution of the random variables \n",
    "    # is normal for the first two and gamma for the third.\n",
    "    # conditional on the previous value of the accepted parameters (prec_theta)\n",
    "    out_theta = np.zeros(2)\n",
    "    out_theta[0] = sc.multivariate_normal(mean=prec_theta[:1],cov=np.eye(1)*search_width**2).rvs(1)\n",
    "    #the last component is the noise\n",
    "    out_theta[1] = sc.gamma(a=prec_theta[1]*search_width*500, scale=1/(500*search_width)).rvs()\n",
    "    return out_theta\n",
    "\n",
    "def lhd(y, theta):\n",
    "    # x is the data matrix, first column for input and second column for output.\n",
    "    # theta is a vector containing the parameters for the evaluation\n",
    "    # remember theta[0] is a, theta[1] is b and theta[2] is sigma\n",
    "    start_time1 = time.time()\n",
    "    proposed_radius = model4.kinematik_model_radius(theta[0])\n",
    "    mean = np.full(y.shape[0], proposed_radius).reshape(-1,1)\n",
    "    #print(mean.shape)\n",
    "    #print(mean.dtype)\n",
    "    end_time1 = time.time()\n",
    "    lhd_out = sc.norm.logpdf(y, loc= mean, scale=theta[1])\n",
    "    end_time2 = time.time()\n",
    "\n",
    "    #print(\"np.full\",end_time1-start_time1)\n",
    "    #print(\"lhdout\",end_time2-end_time1)\n",
    "    \n",
    "    # then we sum lhd_out (be careful here, we are summing instead of multiplying\n",
    "    # because we are dealing with the log-likelihood, instead of the raw likelihood).\n",
    "    lhd_out = np.sum(lhd_out)\n",
    "    return lhd_out\n",
    "\n",
    "def prior(theta):\n",
    "    # evaluate the prior for the parameters on a multivariate gaussian. \n",
    "    prior_out = sc.multivariate_normal.logpdf(theta[:1],mean=np.array([0]), cov=np.eye(1)*100)\n",
    "    # this needs to be summed to the prior for the sigma, since I assumed independence.\n",
    "    prior_out += sc.gamma.logpdf(theta[1], a=1, scale=1)\n",
    "    return prior_out\n",
    "\n",
    "def proposal_ratio(theta_old, theta_new, search_width=10):\n",
    "    # this is the proposal distribution ratio\n",
    "    # first, we calculate of the pdf of the proposal distribution at the old value of theta with respect to the new \n",
    "    # value of theta. And then we do the exact opposite.\n",
    "    walk = 1\n",
    "    prop_ratio_out = sc.multivariate_normal.logpdf(theta_old[:1],mean=theta_new[:1], cov=np.eye(1)*search_width**2)\n",
    "    prop_ratio_out += sc.gamma.logpdf(theta_old[1], a=theta_new[1]*walk*500, scale=1/(500*walk))\n",
    "    prop_ratio_out -= sc.multivariate_normal.logpdf(theta_new[:1],mean=theta_old[:1], cov=np.eye(1)*search_width**2)\n",
    "    prop_ratio_out -= sc.gamma.logpdf(theta_new[1], a=theta_old[1]*walk*500, scale=1/(500*walk))\n",
    "    return prop_ratio_out"
   ]
  },
  {
   "cell_type": "code",
   "execution_count": 13,
   "metadata": {},
   "outputs": [
    {
     "name": "stdout",
     "output_type": "stream",
     "text": [
      "Iteration number 0\n"
     ]
    },
    {
     "name": "stderr",
     "output_type": "stream",
     "text": [
      "/var/folders/mw/9cttllqs2yv0dqrlc62m0l8h0000gn/T/ipykernel_52604/1255594952.py:38: RuntimeWarning: overflow encountered in exp\n",
      "  if (np.exp(likelihood_prior_proposal_ratio)) > sc.uniform().rvs():\n"
     ]
    },
    {
     "name": "stdout",
     "output_type": "stream",
     "text": [
      "Iteration number 500\n",
      "Iteration number 1000\n",
      "Iteration number 1500\n",
      "Iteration number 2000\n",
      "Iteration number 2500\n",
      "Iteration number 3000\n",
      "Iteration number 3500\n",
      "Iteration number 4000\n",
      "Iteration number 4500\n",
      "Iteration number 5000\n",
      "Iteration number 5500\n",
      "Iteration number 6000\n",
      "Iteration number 6500\n",
      "Iteration number 7000\n",
      "Iteration number 7500\n",
      "Iteration number 8000\n",
      "Iteration number 8500\n",
      "Iteration number 9000\n",
      "Iteration number 9500\n"
     ]
    }
   ],
   "source": [
    "np.random.seed(2023)\n",
    "width = 0.2\n",
    "\n",
    "thetas = np.random.rand(2).reshape(1,-1)\n",
    "accepted = 0\n",
    "rejected = 0\n",
    "\n",
    "N = 10000\n",
    "\n",
    "for i in range(N):\n",
    "\n",
    "    # 1) provide a proposal for theta\n",
    "    theta_new = proposal(thetas[-1,:], search_width=width)\n",
    "    \n",
    "    # 2) calculate the likelihood of this proposal and the likelihood\n",
    "    # for the old value of theta\n",
    "    \n",
    "    log_lik_theta_new = lhd(steering_from_kappa_samle, theta_new)\n",
    "    \n",
    "    log_lik_theta = lhd(steering_from_kappa_samle, thetas[-1,:])\n",
    "    \n",
    "    \n",
    "    # 3) evaluate the prior log-pdf at the current and at the old value of theta\n",
    "    theta_new_prior = prior(theta_new)\n",
    "    theta_prior = prior(thetas[-1,:])\n",
    "\n",
    "    \n",
    "    # 4) finally, we need the proposal distribution ratio\n",
    "    prop_ratio = proposal_ratio(thetas[-1], theta_new, search_width=width)\n",
    "    \n",
    "    # 5) assemble likelihood, priors and proposal distributions\n",
    "    likelihood_prior_proposal_ratio = log_lik_theta_new - log_lik_theta + \\\n",
    "                             theta_new_prior - theta_prior + prop_ratio\n",
    "    \n",
    "    # 6) throw a - possibly infinitely weigthed - coin. The move for Metropolis-Hastings is\n",
    "    # not deterministic. Here, we exponentiate the likelihood_prior_proposal ratio in order\n",
    "    # to obtain the probability in linear scale\n",
    "    if (np.exp(likelihood_prior_proposal_ratio)) > sc.uniform().rvs():\n",
    "        thetas = np.vstack((thetas,theta_new))\n",
    "        accepted += 1\n",
    "    else:\n",
    "        rejected += 1\n",
    "\n",
    "    \n",
    "    \n",
    "    if i%500 == 0:\n",
    "        print(f\"Iteration number {i}\")"
   ]
  },
  {
   "cell_type": "code",
   "execution_count": 20,
   "metadata": {},
   "outputs": [
    {
     "name": "stdout",
     "output_type": "stream",
     "text": [
      "(0.19959729079405134, 0.005841346806282768)\n"
     ]
    },
    {
     "data": {
      "image/png": "[encoded data removed]",
      "text/plain": [
       "<Figure size 432x288 with 1 Axes>"
      ]
     },
     "metadata": {
      "needs_background": "light"
     },
     "output_type": "display_data"
    },
    {
     "data": {
      "image/png": "[encoded data removed]",
      "text/plain": [
       "<Figure size 432x288 with 1 Axes>"
      ]
     },
     "metadata": {
      "needs_background": "light"
     },
     "output_type": "display_data"
    }
   ],
   "source": [
    "burn_in = int(thetas.shape[0]*0.2)\n",
    "thetas_burned = thetas[burn_in:, :]\n",
    "thetas_burned.shape\n",
    "res = sc.norm.fit(thetas_burned[:,0])\n",
    "print(res)\n",
    "plot_column_histograms(thetas_burned)"
   ]
  },
  {
   "cell_type": "code",
   "execution_count": null,
   "metadata": {},
   "outputs": [],
   "source": []
  }
 ],
 "metadata": {
  "kernelspec": {
   "display_name": "DLSC",
   "language": "python",
   "name": "python3"
  },
  "language_info": {
   "codemirror_mode": {
    "name": "ipython",
    "version": 3
   },
   "file_extension": ".py",
   "mimetype": "text/x-python",
   "name": "python",
   "nbconvert_exporter": "python",
   "pygments_lexer": "ipython3",
   "version": "3.9.7"
  },
  "orig_nbformat": 4
 },
 "nbformat": 4,
 "nbformat_minor": 2
}
