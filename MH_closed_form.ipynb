{
 "cells": [
  {
   "cell_type": "code",
   "execution_count": 5,
   "metadata": {},
   "outputs": [],
   "source": [
    "import numpy as np\n",
    "import matplotlib.pyplot as plt\n",
    "import scipy.stats as sc\n",
    "import matplotlib.pyplot as plt\n",
    "from models.model4 import FourWheelModel\n",
    "\n",
    "\n",
    "import time"
   ]
  },
  {
   "cell_type": "code",
   "execution_count": 6,
   "metadata": {},
   "outputs": [],
   "source": [
    "import matplotlib.pyplot as plt\n",
    "\n",
    "def plot_column_histograms(data, bins):\n",
    "    \"\"\"\n",
    "    Plots a histogram for each column of a 2D numpy array.\n",
    "    \"\"\"\n",
    "    num_cols = data.shape[1]  # Get the number of columns in the data\n",
    "    \n",
    "    # Plot a histogram for each column\n",
    "    for i in range(num_cols):\n",
    "        plt.hist(data[:, i], bins=bins, color = 'b')  # Plot the histogram\n",
    "        \n",
    "        # Set the plot title and axis labels\n",
    "        plt.title(f\"Histogram of Column {i}\")\n",
    "        plt.xlabel(\"Value\")\n",
    "        plt.ylabel(\"Frequency\")\n",
    "        \n",
    "        plt.show()  # Show the plot\n",
    "\n",
    "def plot_histogram_1dnparray(data, bins):\n",
    "    # Plot the histogram\n",
    "    plt.hist(data, bins=bins, edgecolor='black')\n",
    "    plt.xlabel('Value')\n",
    "    plt.ylabel('Frequency')\n",
    "    plt.title('Histogram of Data')\n",
    "    plt.grid(True)\n",
    "\n",
    "    # Show the plot\n",
    "    plt.show()"
   ]
  },
  {
   "cell_type": "code",
   "execution_count": 7,
   "metadata": {},
   "outputs": [
    {
     "name": "stdout",
     "output_type": "stream",
     "text": [
      "Theoretical radius for kinematic model 7.585623609657709\n"
     ]
    }
   ],
   "source": [
    "# Define a four wheel model\n",
    "dt = 0.05\n",
    "open_loop_tf = 10000\n",
    "\n",
    "T_peak = 0.37\n",
    "T_slope = 0.4\n",
    "\n",
    "model4 = FourWheelModel(dt, open_loop_tf, T_peak, T_slope)\n",
    "\n",
    "\n",
    "kappa = 1\n",
    "steering = 0.2\n",
    "total_steering = kappa*steering\n",
    "\n",
    "\n",
    "radius_kinematic = model4.kinematik_model_radius(total_steering)\n",
    "print('Theoretical radius for kinematic model', radius_kinematic)\n"
   ]
  },
  {
   "cell_type": "code",
   "execution_count": 66,
   "metadata": {},
   "outputs": [
    {
     "data": {
      "text/plain": [
       "Text(0, 0.5, '$R_{\\\\rm Theoretical} \\\\rm [m]$')"
      ]
     },
     "execution_count": 66,
     "metadata": {},
     "output_type": "execute_result"
    },
    {
     "data": {
      "image/png": "[encoded data removed]",
      "text/plain": [
       "<Figure size 432x288 with 1 Axes>"
      ]
     },
     "metadata": {
      "needs_background": "light"
     },
     "output_type": "display_data"
    }
   ],
   "source": [
    "# sample kapp from a distribtution and create data\n",
    "\n",
    "steering = 0.2\n",
    "data_size = 1\n",
    "# set parameters\n",
    "steering = np.full(data_size,0.1)\n",
    "\n",
    "for i in range(len(steering)):\n",
    "    steering[i] += np.random.normal(0,0.005)\n",
    "\n",
    "sigma = 1\n",
    "\n",
    "# obtain response and add noise\n",
    "steering_from_kappa_samle = np.zeros(data_size)\n",
    "for i in range(len(steering)):\n",
    "    steering_from_kappa_samle[i] = model4.kinematik_model_radius(steering[i])\n",
    "steering_from_kappa_samle.reshape(-1,1)\n",
    "\n",
    "#Plot data\n",
    "# plot data \n",
    "plt.scatter(steering, steering_from_kappa_samle, color = 'b')\n",
    "plt.xlabel(\"steering\")\n",
    "plt.xlabel(r\"$ \\delta \\rm [rad]$\")\n",
    "plt.ylabel(r\"$R_{\\rm Theoretical} \\rm [m]$\")"
   ]
  },
  {
   "cell_type": "code",
   "execution_count": 67,
   "metadata": {},
   "outputs": [
    {
     "data": {
      "image/png": "[encoded data removed]",
      "text/plain": [
       "<Figure size 432x288 with 1 Axes>"
      ]
     },
     "metadata": {
      "needs_background": "light"
     },
     "output_type": "display_data"
    }
   ],
   "source": [
    "plt.hist(steering_from_kappa_samle, bins=10, edgecolor='black', color = 'b')\n",
    "plt.xlabel(r'$\\delta \\rm [rad]$')\n",
    "plt.ylabel(r'Frequency')\n",
    "plt.grid(True)\n",
    "\n",
    "# Show the plot\n",
    "plt.show()\n"
   ]
  },
  {
   "cell_type": "code",
   "execution_count": 68,
   "metadata": {},
   "outputs": [],
   "source": [
    "def proposal(prec_theta, search_width = 0.5):\n",
    "    # this function generates the proposal for the new theta\n",
    "    # we assume that the distribution of the random variables \n",
    "    # is normal for the first two and gamma for the third.\n",
    "    # conditional on the previous value of the accepted parameters (prec_theta)\n",
    "    out_theta = np.zeros(2)\n",
    "    out_theta[0] = sc.multivariate_normal(mean=prec_theta[:1],cov=np.eye(1)*search_width**2).rvs(1)\n",
    "    #the last component is the noise\n",
    "    out_theta[1] = sc.gamma(a=prec_theta[1]*search_width*500, scale=1/(500*search_width)).rvs()\n",
    "    return out_theta\n",
    "\n",
    "def lhd(y, theta):\n",
    "    # x is the data matrix, first column for input and second column for output.\n",
    "    # theta is a vector containing the parameters for the evaluation\n",
    "    # remember theta[0] is a, theta[1] is b and theta[2] is sigma\n",
    "    start_time1 = time.time()\n",
    "    proposed_radius = model4.kinematik_model_radius(theta[0])\n",
    "    mean = np.full(y.shape[0], proposed_radius).reshape(-1,1)\n",
    "    #print(mean.shape)\n",
    "    #print(mean.dtype)\n",
    "    end_time1 = time.time()\n",
    "    lhd_out = sc.norm.logpdf(y, loc= mean, scale=theta[1])\n",
    "    end_time2 = time.time()\n",
    "\n",
    "    #print(\"np.full\",end_time1-start_time1)\n",
    "    #print(\"lhdout\",end_time2-end_time1)\n",
    "    \n",
    "    # then we sum lhd_out (be careful here, we are summing instead of multiplying\n",
    "    # because we are dealing with the log-likelihood, instead of the raw likelihood).\n",
    "    lhd_out = np.sum(lhd_out)\n",
    "    return lhd_out\n",
    "\n",
    "def prior(theta):\n",
    "    # evaluate the prior for the parameters on a multivariate gaussian. \n",
    "    prior_out = sc.multivariate_normal.logpdf(theta[:1],mean=np.array([0]), cov=np.eye(1)*100)\n",
    "    # this needs to be summed to the prior for the sigma, since I assumed independence.\n",
    "    prior_out += sc.gamma.logpdf(theta[1], a=1, scale=1)\n",
    "    return prior_out\n",
    "\n",
    "def proposal_ratio(theta_old, theta_new, search_width=10):\n",
    "    # this is the proposal distribution ratio\n",
    "    # first, we calculate of the pdf of the proposal distribution at the old value of theta with respect to the new \n",
    "    # value of theta. And then we do the exact opposite.\n",
    "    walk = 1\n",
    "    prop_ratio_out = sc.multivariate_normal.logpdf(theta_old[:1],mean=theta_new[:1], cov=np.eye(1)*search_width**2)\n",
    "    prop_ratio_out += sc.gamma.logpdf(theta_old[1], a=theta_new[1]*walk*500, scale=1/(500*walk))\n",
    "    prop_ratio_out -= sc.multivariate_normal.logpdf(theta_new[:1],mean=theta_old[:1], cov=np.eye(1)*search_width**2)\n",
    "    prop_ratio_out -= sc.gamma.logpdf(theta_new[1], a=theta_old[1]*walk*500, scale=1/(500*walk))\n",
    "    return prop_ratio_out"
   ]
  },
  {
   "cell_type": "code",
   "execution_count": 69,
   "metadata": {},
   "outputs": [
    {
     "name": "stdout",
     "output_type": "stream",
     "text": [
      "Iteration number 0\n"
     ]
    },
    {
     "name": "stderr",
     "output_type": "stream",
     "text": [
      "/Users/jonas/opt/miniconda3/envs/DLSC/lib/python3.9/site-packages/scipy/stats/_continuous_distns.py:294: RuntimeWarning: overflow encountered in square\n",
      "  return -x**2 / 2.0 - _norm_pdf_logC\n"
     ]
    },
    {
     "name": "stdout",
     "output_type": "stream",
     "text": [
      "Iteration number 500\n",
      "Iteration number 1000\n",
      "Iteration number 1500\n",
      "Iteration number 2000\n",
      "Iteration number 2500\n",
      "Iteration number 3000\n",
      "Iteration number 3500\n",
      "Iteration number 4000\n",
      "Iteration number 4500\n",
      "Iteration number 5000\n",
      "Iteration number 5500\n",
      "Iteration number 6000\n",
      "Iteration number 6500\n",
      "Iteration number 7000\n"
     ]
    },
    {
     "name": "stderr",
     "output_type": "stream",
     "text": [
      "/Users/jonas/opt/miniconda3/envs/DLSC/lib/python3.9/site-packages/scipy/stats/_distn_infrastructure.py:2126: RuntimeWarning: overflow encountered in true_divide\n",
      "  x = np.asarray((x - loc)/scale, dtype=dtyp)\n",
      "/Users/jonas/opt/miniconda3/envs/DLSC/lib/python3.9/site-packages/scipy/stats/_distn_infrastructure.py:2126: RuntimeWarning: divide by zero encountered in true_divide\n",
      "  x = np.asarray((x - loc)/scale, dtype=dtyp)\n"
     ]
    },
    {
     "name": "stdout",
     "output_type": "stream",
     "text": [
      "Iteration number 7500\n",
      "Iteration number 8000\n",
      "Iteration number 8500\n",
      "Iteration number 9000\n",
      "Iteration number 9500\n"
     ]
    }
   ],
   "source": [
    "width = 0.01\n",
    "\n",
    "thetas = np.random.rand(2).reshape(1,-1)\n",
    "\n",
    "accepted_thetas = np.random.rand(2).reshape(1,-1) #np.random.rand(self.param_to_infer + 1).reshape(1,-1)\n",
    "rejected_thetas = np.empty(2).reshape(1,-1)\n",
    "all_thetas = np.concatenate((accepted_thetas, np.zeros((accepted_thetas.shape[0], 1))), axis=1)\n",
    "\n",
    "\n",
    "accepted = 0\n",
    "rejected = 0\n",
    "\n",
    "N = 10000\n",
    "\n",
    "for i in range(N):\n",
    "\n",
    "    # 1) provide a proposal for theta\n",
    "    theta_new = proposal(thetas[-1,:], search_width=width)\n",
    "    \n",
    "    # 2) calculate the likelihood of this proposal and the likelihood\n",
    "    # for the old value of theta\n",
    "    \n",
    "    log_lik_theta_new = lhd(steering_from_kappa_samle, theta_new)\n",
    "    \n",
    "    log_lik_theta = lhd(steering_from_kappa_samle, thetas[-1,:])\n",
    "    \n",
    "    \n",
    "    # 3) evaluate the prior log-pdf at the current and at the old value of theta\n",
    "    theta_new_prior = prior(theta_new)\n",
    "    theta_prior = prior(thetas[-1,:])\n",
    "\n",
    "    \n",
    "    # 4) finally, we need the proposal distribution ratio\n",
    "    prop_ratio = proposal_ratio(thetas[-1], theta_new, search_width=width)\n",
    "    \n",
    "    # 5) assemble likelihood, priors and proposal distributions\n",
    "    likelihood_prior_proposal_ratio = log_lik_theta_new - log_lik_theta + \\\n",
    "                             theta_new_prior - theta_prior + prop_ratio\n",
    "    \n",
    "    # 6) throw a - possibly infinitely weigthed - coin. The move for Metropolis-Hastings is\n",
    "    # not deterministic. Here, we exponentiate the likelihood_prior_proposal ratio in order\n",
    "    # to obtain the probability in linear scale\n",
    "    if (np.exp(likelihood_prior_proposal_ratio)) > sc.uniform().rvs():\n",
    "        thetas = np.vstack((thetas,theta_new))\n",
    "        accepted_thetas = np.vstack((accepted_thetas,theta_new))\n",
    "        theta_new_all_thetas = np.hstack((theta_new, np.array([1]).reshape(-1,)))\n",
    "        accepted += 1\n",
    "    else:\n",
    "        rejected += 1\n",
    "        rejected_thetas = np.vstack((rejected_thetas,theta_new))\n",
    "        theta_new_all_thetas = np.hstack((theta_new, np.array([0]).reshape(-1,)))\n",
    "\n",
    "    all_thetas = np.vstack((all_thetas,theta_new_all_thetas))\n",
    "    \n",
    "    if i%500 == 0:\n",
    "        print(f\"Iteration number {i}\")"
   ]
  },
  {
   "cell_type": "code",
   "execution_count": 72,
   "metadata": {},
   "outputs": [
    {
     "name": "stdout",
     "output_type": "stream",
     "text": [
      "(0.1030602139828021, 0.00018600484238757935)\n"
     ]
    },
    {
     "data": {
      "image/png": "[encoded data removed]",
      "text/plain": [
       "<Figure size 432x288 with 1 Axes>"
      ]
     },
     "metadata": {
      "needs_background": "light"
     },
     "output_type": "display_data"
    }
   ],
   "source": [
    "burn_in = int(accepted_thetas.shape[0]*0.9)\n",
    "thetas_burned = accepted_thetas[burn_in:, :]\n",
    "thetas_burned.shape\n",
    "res = sc.norm.fit(thetas_burned[:,0])\n",
    "print(res)\n",
    "plt.hist(thetas_burned[:,0], bins=20, edgecolor='black', color = 'b')\n",
    "plt.xlabel(r'$\\theta \\rm [rad]$')\n",
    "plt.ylabel(r'Frequency')\n",
    "plt.grid(True)\n",
    "\n",
    "# Show the plot\n",
    "plt.show()\n"
   ]
  },
  {
   "cell_type": "code",
   "execution_count": 73,
   "metadata": {},
   "outputs": [
    {
     "data": {
      "text/plain": [
       "<matplotlib.legend.Legend at 0x7fa171765400>"
      ]
     },
     "execution_count": 73,
     "metadata": {},
     "output_type": "execute_result"
    },
    {
     "data": {
      "image/png": "[encoded data removed]",
      "text/plain": [
       "<Figure size 432x288 with 1 Axes>"
      ]
     },
     "metadata": {
      "needs_background": "light"
     },
     "output_type": "display_data"
    }
   ],
   "source": [
    "iter = np.arange(0, accepted_thetas[:,0].shape[0], 1)\n",
    "\n",
    "plt.plot(iter, accepted_thetas[:,0], '.', color = 'b')\n",
    "plt.axhline(y=0.1, color='green', linestyle='--', label='Target Mean')\n",
    "plt.xlabel(r'Accepted samples')\n",
    "plt.ylabel(r'$\\theta \\rm [rad]$')\n",
    "plt.legend()\n"
   ]
  },
  {
   "cell_type": "code",
   "execution_count": 340,
   "metadata": {},
   "outputs": [],
   "source": [
    "iter = np.arange(0, all_thetas[:,0].shape[0], 1).reshape(-1,1)\n",
    "all_thetas = np.hstack((all_thetas, iter))\n",
    "all_thetas_accepted = all_thetas[all_thetas[:, 2] == 1, :4]  # Select rows with third column == 1 and first two columns\n",
    "all_thetas_rejected = all_thetas[all_thetas[:, 2] == 0, :4]  # Select rows with third column == 0 and first two columns"
   ]
  },
  {
   "cell_type": "code",
   "execution_count": 341,
   "metadata": {},
   "outputs": [
    {
     "data": {
      "image/png": "[encoded data removed]",
      "text/plain": [
       "<Figure size 432x288 with 1 Axes>"
      ]
     },
     "metadata": {
      "needs_background": "light"
     },
     "output_type": "display_data"
    }
   ],
   "source": [
    "samples_in_account = 1000\n",
    "x = np.arange(0, all_thetas_accepted[:samples_in_account,0].shape[0], 1)\n",
    "\n",
    "# Create the plot\n",
    "samples_in_account = 1000\n",
    "\n",
    "plt.scatter( all_thetas_rejected[:10000,3], all_thetas_rejected[:10000,0], c='r',  label = 'Rejected')\n",
    "plt.scatter( all_thetas_accepted[:,3], all_thetas_accepted[:,0], c='b', label = 'Accepted',  marker='+')\n",
    "plt.xlabel(r'Proposed samples')\n",
    "plt.ylabel(r'$\\theta \\rm [rad]$')\n",
    "\n",
    "plt.legend(['Rejected', 'Accepted'], loc='upper right')\n",
    "\n",
    "# Show the plot\n",
    "plt.show()"
   ]
  },
  {
   "cell_type": "code",
   "execution_count": 312,
   "metadata": {},
   "outputs": [
    {
     "data": {
      "text/plain": [
       "(10001, 5)"
      ]
     },
     "execution_count": 312,
     "metadata": {},
     "output_type": "execute_result"
    }
   ],
   "source": [
    "all_thetas.shape"
   ]
  },
  {
   "cell_type": "code",
   "execution_count": 74,
   "metadata": {},
   "outputs": [
    {
     "data": {
      "image/png": "[encoded data removed]",
      "text/plain": [
       "<Figure size 432x288 with 1 Axes>"
      ]
     },
     "metadata": {
      "needs_background": "light"
     },
     "output_type": "display_data"
    }
   ],
   "source": [
    "import numpy as np\n",
    "import matplotlib.pyplot as plt\n",
    "data = np.loadtxt('./Data/Data_four_wheel/all_thetas_dirac.csv', delimiter=',', skiprows=1)\n",
    "\n",
    "\n",
    "iter = np.arange(0, data.shape[0], 1).reshape(-1,1)\n",
    "all_thetas = np.hstack((data, iter))\n",
    "\n",
    "all_thetas_accepted = all_thetas[all_thetas[:, 4] == 1, :6]  # Select rows with third column == 1 and first two columns\n",
    "all_thetas_rejected = all_thetas[all_thetas[:, 4] == 0, :6]  # Select rows with third column == 0 and first two columns\n",
    "\n",
    "\n",
    "# Create the plot\n",
    "samples_in_account = 1000\n",
    "\n",
    "plt.scatter( all_thetas_rejected[:,5], all_thetas_rejected[:,0], c='r',  label = 'Rejected')\n",
    "plt.scatter( all_thetas_accepted[:,5], all_thetas_accepted[:,0], c='b', label = 'Accepted',  marker='+')\n",
    "plt.xlabel(r'Proposed samples')\n",
    "plt.ylabel(r'$ \\theta_{T_{peak}} \\rm [\\; ]$')\n",
    "\n",
    "plt.legend(['Rejected', 'Accepted'], loc='upper right')\n",
    "\n",
    "# Show the plot\n",
    "plt.show()"
   ]
  },
  {
   "cell_type": "code",
   "execution_count": 42,
   "metadata": {},
   "outputs": [
    {
     "data": {
      "text/plain": [
       "array([[ 0.50184519,  0.50937082,  0.68612383,  0.97045575,  1.        ],\n",
       "       [ 0.47824248,  0.51040677,  1.45518355,  1.54127131,  1.        ],\n",
       "       [ 0.48936773,  0.49966048,  1.57746502,  2.07711217,  1.        ],\n",
       "       [ 0.48687884,  0.49515871,  1.58476806,  2.02456439,  1.        ],\n",
       "       [ 0.47190164,  0.48321985,  2.35024066,  2.61629644,  1.        ],\n",
       "       [ 0.45775121,  0.47681225,  2.85201068,  2.24939376,  1.        ],\n",
       "       [ 0.45502124,  0.47520828,  2.77563791,  2.61992484,  1.        ],\n",
       "       [ 0.45182293,  0.46373086,  4.16639295,  2.07119603,  1.        ],\n",
       "       [ 0.44986126,  0.45947796,  4.69925868,  1.99780532,  1.        ],\n",
       "       [ 0.44154519,  0.46031966,  5.87450104,  2.28956447,  1.        ],\n",
       "       [ 0.43178805,  0.48054228,  5.27247641,  2.68670634,  1.        ],\n",
       "       [ 0.44954799,  0.48567302,  6.49385514,  4.43021093,  1.        ],\n",
       "       [ 0.45546822,  0.48130238,  6.54327087,  5.70345706,  1.        ],\n",
       "       [ 0.44840883,  0.48887987,  6.78142103,  5.97719423,  1.        ],\n",
       "       [ 0.44937997,  0.47511867,  8.50774744,  5.88898366,  1.        ],\n",
       "       [ 0.44313125,  0.47401871,  9.74080289,  4.82432868,  1.        ],\n",
       "       [ 0.43197716,  0.48186816,  8.86824536,  4.94980009,  1.        ],\n",
       "       [ 0.40385512,  0.46863867, 11.09554688,  6.6312961 ,  1.        ],\n",
       "       [ 0.4089005 ,  0.45264613, 15.88353425,  7.37535041,  1.        ],\n",
       "       [ 0.40184899,  0.45548216, 14.23916377,  7.53943388,  1.        ],\n",
       "       [ 0.39636407,  0.45495581, 20.21468976, 12.33494054,  1.        ],\n",
       "       [ 0.39020127,  0.46033635, 21.41533608, 10.53852919,  1.        ],\n",
       "       [ 0.3917597 ,  0.45699034, 19.62374654, 11.0346419 ,  1.        ],\n",
       "       [ 0.39501176,  0.45044753, 19.51928461, 12.50530839,  1.        ],\n",
       "       [ 0.37369862,  0.4530783 , 17.05169456, 13.96236984,  1.        ],\n",
       "       [ 0.37610718,  0.44117153, 15.06601806, 13.82654875,  1.        ],\n",
       "       [ 0.36618246,  0.43237175, 14.6701448 , 13.0183286 ,  1.        ],\n",
       "       [ 0.36568368,  0.43048078, 14.28307623, 12.99228579,  1.        ],\n",
       "       [ 0.37312517,  0.41324884, 16.0256025 , 13.02186836,  1.        ],\n",
       "       [ 0.37011413,  0.40738776, 14.4539807 , 15.0909756 ,  1.        ],\n",
       "       [ 0.36721201,  0.4011414 , 13.64010737, 13.16181095,  1.        ],\n",
       "       [ 0.37006524,  0.3989092 , 13.43422591, 12.99949589,  1.        ],\n",
       "       [ 0.37019677,  0.4004415 , 12.12252156, 15.26026564,  1.        ],\n",
       "       [ 0.36968004,  0.40011454,  8.98182499, 13.46888622,  1.        ],\n",
       "       [ 0.36971401,  0.399992  ,  8.94939343, 13.40853335,  1.        ],\n",
       "       [ 0.3700103 ,  0.39954235,  8.79268858, 12.17419905,  1.        ]])"
      ]
     },
     "execution_count": 42,
     "metadata": {},
     "output_type": "execute_result"
    }
   ],
   "source": [
    "all_thetas_accepted"
   ]
  },
  {
   "cell_type": "code",
   "execution_count": 38,
   "metadata": {},
   "outputs": [
    {
     "data": {
      "text/plain": [
       "array([[ 0.50184519,  0.50937082,  0.68612383,  0.97045575,  1.        ],\n",
       "       [ 0.47824248,  0.51040677,  1.45518355,  1.54127131,  1.        ],\n",
       "       [ 0.48936773,  0.49966048,  1.57746502,  2.07711217,  1.        ],\n",
       "       [ 0.48687884,  0.49515871,  1.58476806,  2.02456439,  1.        ],\n",
       "       [ 0.47190164,  0.48321985,  2.35024066,  2.61629644,  1.        ],\n",
       "       [ 0.45775121,  0.47681225,  2.85201068,  2.24939376,  1.        ],\n",
       "       [ 0.45502124,  0.47520828,  2.77563791,  2.61992484,  1.        ],\n",
       "       [ 0.45182293,  0.46373086,  4.16639295,  2.07119603,  1.        ],\n",
       "       [ 0.44986126,  0.45947796,  4.69925868,  1.99780532,  1.        ],\n",
       "       [ 0.44154519,  0.46031966,  5.87450104,  2.28956447,  1.        ],\n",
       "       [ 0.43178805,  0.48054228,  5.27247641,  2.68670634,  1.        ],\n",
       "       [ 0.44954799,  0.48567302,  6.49385514,  4.43021093,  1.        ],\n",
       "       [ 0.45546822,  0.48130238,  6.54327087,  5.70345706,  1.        ],\n",
       "       [ 0.44840883,  0.48887987,  6.78142103,  5.97719423,  1.        ],\n",
       "       [ 0.44937997,  0.47511867,  8.50774744,  5.88898366,  1.        ],\n",
       "       [ 0.44313125,  0.47401871,  9.74080289,  4.82432868,  1.        ],\n",
       "       [ 0.43197716,  0.48186816,  8.86824536,  4.94980009,  1.        ],\n",
       "       [ 0.40385512,  0.46863867, 11.09554688,  6.6312961 ,  1.        ],\n",
       "       [ 0.4089005 ,  0.45264613, 15.88353425,  7.37535041,  1.        ],\n",
       "       [ 0.40184899,  0.45548216, 14.23916377,  7.53943388,  1.        ],\n",
       "       [ 0.39636407,  0.45495581, 20.21468976, 12.33494054,  1.        ],\n",
       "       [ 0.39020127,  0.46033635, 21.41533608, 10.53852919,  1.        ],\n",
       "       [ 0.3917597 ,  0.45699034, 19.62374654, 11.0346419 ,  1.        ],\n",
       "       [ 0.39501176,  0.45044753, 19.51928461, 12.50530839,  1.        ],\n",
       "       [ 0.37369862,  0.4530783 , 17.05169456, 13.96236984,  1.        ],\n",
       "       [ 0.37610718,  0.44117153, 15.06601806, 13.82654875,  1.        ],\n",
       "       [ 0.36618246,  0.43237175, 14.6701448 , 13.0183286 ,  1.        ],\n",
       "       [ 0.36568368,  0.43048078, 14.28307623, 12.99228579,  1.        ],\n",
       "       [ 0.37312517,  0.41324884, 16.0256025 , 13.02186836,  1.        ],\n",
       "       [ 0.37011413,  0.40738776, 14.4539807 , 15.0909756 ,  1.        ],\n",
       "       [ 0.36721201,  0.4011414 , 13.64010737, 13.16181095,  1.        ],\n",
       "       [ 0.37006524,  0.3989092 , 13.43422591, 12.99949589,  1.        ],\n",
       "       [ 0.37019677,  0.4004415 , 12.12252156, 15.26026564,  1.        ],\n",
       "       [ 0.36968004,  0.40011454,  8.98182499, 13.46888622,  1.        ],\n",
       "       [ 0.36971401,  0.399992  ,  8.94939343, 13.40853335,  1.        ],\n",
       "       [ 0.3700103 ,  0.39954235,  8.79268858, 12.17419905,  1.        ]])"
      ]
     },
     "execution_count": 38,
     "metadata": {},
     "output_type": "execute_result"
    }
   ],
   "source": [
    "all_thetas_accepted"
   ]
  },
  {
   "cell_type": "code",
   "execution_count": 39,
   "metadata": {},
   "outputs": [
    {
     "data": {
      "text/plain": [
       "array([[5.00000000e-01, 5.00000000e-01, 5.00000000e-01, 5.00000000e-01,\n",
       "        0.00000000e+00, 0.00000000e+00],\n",
       "       [5.09813208e-01, 5.05142188e-01, 5.01762679e-01, 1.88488370e-01,\n",
       "        0.00000000e+00, 1.00000000e+00],\n",
       "       [4.97745979e-01, 4.96850807e-01, 5.70169508e-01, 3.16558895e-01,\n",
       "        0.00000000e+00, 2.00000000e+00],\n",
       "       ...,\n",
       "       [3.65348303e-01, 3.90674754e-01, 8.25868127e+00, 1.08305220e+01,\n",
       "        0.00000000e+00, 1.99800000e+03],\n",
       "       [3.77785237e-01, 4.05474923e-01, 9.35459035e+00, 1.25181891e+01,\n",
       "        0.00000000e+00, 1.99900000e+03],\n",
       "       [3.76363060e-01, 4.01426677e-01, 8.10114444e+00, 1.16137365e+01,\n",
       "        0.00000000e+00, 2.00000000e+03]])"
      ]
     },
     "execution_count": 39,
     "metadata": {},
     "output_type": "execute_result"
    }
   ],
   "source": [
    "all_thetas"
   ]
  },
  {
   "cell_type": "code",
   "execution_count": 30,
   "metadata": {},
   "outputs": [
    {
     "data": {
      "text/plain": [
       "(2001,)"
      ]
     },
     "execution_count": 30,
     "metadata": {},
     "output_type": "execute_result"
    }
   ],
   "source": [
    "T_peak.shape"
   ]
  },
  {
   "cell_type": "code",
   "execution_count": 36,
   "metadata": {},
   "outputs": [
    {
     "data": {
      "text/plain": [
       "array([[   0],\n",
       "       [   1],\n",
       "       [   2],\n",
       "       ...,\n",
       "       [1998],\n",
       "       [1999],\n",
       "       [2000]])"
      ]
     },
     "execution_count": 36,
     "metadata": {},
     "output_type": "execute_result"
    }
   ],
   "source": [
    "iter"
   ]
  },
  {
   "cell_type": "code",
   "execution_count": null,
   "metadata": {},
   "outputs": [],
   "source": []
  }
 ],
 "metadata": {
  "kernelspec": {
   "display_name": "DLSC",
   "language": "python",
   "name": "python3"
  },
  "language_info": {
   "codemirror_mode": {
    "name": "ipython",
    "version": 3
   },
   "file_extension": ".py",
   "mimetype": "text/x-python",
   "name": "python",
   "nbconvert_exporter": "python",
   "pygments_lexer": "ipython3",
   "version": "3.9.7"
  },
  "orig_nbformat": 4
 },
 "nbformat": 4,
 "nbformat_minor": 2
}
