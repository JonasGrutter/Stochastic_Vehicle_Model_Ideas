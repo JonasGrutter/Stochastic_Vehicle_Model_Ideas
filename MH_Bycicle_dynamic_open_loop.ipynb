{
 "cells": [
  {
   "cell_type": "code",
   "execution_count": 1,
   "metadata": {},
   "outputs": [],
   "source": [
    "import numpy as np\n",
    "import matplotlib.pyplot as plt\n",
    "import scipy.stats as sc\n",
    "import matplotlib.pyplot as plt\n",
    "import yaml\n",
    "\n",
    "\n",
    "from models.model2 import BicycleModel\n",
    "from models.model4 import FourWheelModel\n",
    "from models.utils import get_csv_row_count\n",
    "from models.utils import get_folder_path\n",
    "from models.utils import fit_circle\n",
    "from models.utils import plot_column_histograms"
   ]
  },
  {
   "cell_type": "code",
   "execution_count": 2,
   "metadata": {},
   "outputs": [],
   "source": [
    "np.random.seed(100)\n",
    "class Param_Inferencer:\n",
    "    def __init__(self) -> None:\n",
    "        # List of parameters to infer\n",
    "        self.list_of_param = ['T_peak', 'T_slope']\n",
    "        # Number of paramters to infer\n",
    "        self.param_to_infer = len(self.list_of_param)\n",
    "        self.variances_to_infer = len(self.list_of_param)\n",
    "        # Sample vector\n",
    "        #self.thetas = np.random.rand(self.param_to_infer + 1).reshape(1,-1) # First one is random + likelihood\n",
    "        self.thetas = np.random.rand(self.param_to_infer + self.variances_to_infer).reshape(1,-1) # First one is random + likelihood\n",
    "        # Burnin\n",
    "        self.burnin = None\n",
    "\n",
    "        # Current model and model parameters\n",
    "        self.model = None\n",
    "        self.dt = 0.025\n",
    "        self.commands = get_folder_path()+'/open_loop_inputs/open_loop_commands.csv'\n",
    "        self.N = get_csv_row_count(self.commands)\n",
    "        self.open_loop_tf = self.N*self.dt\n",
    "        # T_peak and T_slope is not specified since we infer those\n",
    "        self.x_vect_ref = self.get_x_vect_ref()\n",
    "        self.y_likelihood = 0\n",
    "\n",
    "\n",
    "    def get_x_vect_ref(self):\n",
    "        T_peak_ref = 0.37\n",
    "        T_slope_ref = 0.4\n",
    "        self.model = FourWheelModel(self.dt,self.open_loop_tf, T_peak_ref, T_slope_ref)\n",
    "        t,x = self.get_open_loop_data()\n",
    "        return x\n",
    "    \n",
    "    # Example usage\n",
    "    def get_kpi(self, tetha):\n",
    "        self.generate_new_model(tetha[:self.param_to_infer])\n",
    "        t,x_vect = self.get_open_loop_data()\n",
    "        \n",
    "        l2_norm_position = np.linalg.norm(self.x_vect_ref[:,:2] - x_vect[:,:2], axis=1).sum()\n",
    "        l2_norm_velocity = np.linalg.norm(self.x_vect_ref[:,2:] - x_vect[:,2:], axis=1).sum()\n",
    "\n",
    "        w1 = 0.5\n",
    "        w2 = 0.5\n",
    "        kpi = w1*l2_norm_position+w2*l2_norm_velocity\n",
    "        return kpi\n",
    "\n",
    "\n",
    "    def get_open_loop_data(self):\n",
    "        \n",
    "        t,x_vect = self.model.do_open_loop_sim_from_csv(self.commands)\n",
    "        \n",
    "        x = x_vect[:,0]\n",
    "        y = x_vect[:,1]\n",
    "\n",
    "        #plt.plot(x,y)\n",
    "        #plt.axis('equal')\n",
    "        \n",
    "        return t,x_vect\n",
    "\n",
    "\n",
    "    def get_circle_radius(self, tetha):\n",
    "        '''\n",
    "            Gets the radius of  the circle from the open loop simulation\n",
    "            @param name_of-param\n",
    "        '''\n",
    "        # Generate the right tyre1000.yaml file (Let's call it 1000 by convention)\n",
    "        self.generate_new_model(tetha[:self.param_to_infer])\n",
    "        \n",
    "        # Generate the new data\n",
    "        t0 = 0\n",
    "        N = self.model.open_loop_tf/self.model.dt\n",
    "        steering = 0.2\n",
    "        torque = 100\n",
    "        inputs = [steering, torque, torque, torque, torque]\n",
    "        t,x_vect = self.model.do_open_loop_sim_cst_inputs(t0, inputs)\n",
    "        \n",
    "        # Fetch the radius from the data\n",
    "        x = x_vect[int(N/2):,0]\n",
    "        y = x_vect[int(N/2):,1]\n",
    "        radius = fit_circle(x, y) \n",
    "        \n",
    "        return radius\n",
    "    \n",
    "    def generate_new_model(self, Tetha):\n",
    "        T_peak = Tetha[0]\n",
    "        T_slope = Tetha[1]\n",
    "        self.model = FourWheelModel( self.dt, self.open_loop_tf,float(T_peak), float(T_slope))\n",
    "\n",
    "    #----------------- Functions from here take care of the inference -----------------#\n",
    "\n",
    "    def proposal(self, prec_theta, search_width = 0.5):\n",
    "        # this function generates the proposal for the new theta\n",
    "        # we assume that the distribution of the random variables \n",
    "        # is normal for the first two and gamma for the third.\n",
    "        # conditional on the previous value of the accepted parameters (prec_theta)\n",
    "\n",
    "        unkown_param = 500 #default = 500\n",
    "        out_theta = np.zeros(self.param_to_infer+self.variances_to_infer)\n",
    "        out_theta[:self.param_to_infer] = sc.multivariate_normal(mean=prec_theta[:self.param_to_infer],cov=np.eye(self.param_to_infer)*search_width**2).rvs(1)\n",
    "        #the last component is the noise\n",
    "        out_theta[self.param_to_infer] = sc.gamma(a=prec_theta[self.param_to_infer]*search_width*unkown_param, scale=1/(unkown_param*search_width)).rvs()\n",
    "        \n",
    "        #two different variances\n",
    "        if self.variances_to_infer > 1:\n",
    "            out_theta[self.param_to_infer+1] = sc.gamma(a=prec_theta[self.param_to_infer+1]*search_width*unkown_param, scale=1/(unkown_param*search_width)).rvs()\n",
    "        \n",
    "        return out_theta\n",
    "    \n",
    "    '''def log_likelihood(self, tetha):\n",
    "        proposed_kpi = self.get_kpi(tetha)\n",
    "        #proposed_radius = self.get_circle_radius(tetha)\n",
    "        #mean = np.full(self.y_likelihood.shape[0], proposed_radius).reshape(-1,1)\n",
    "        log_likelihood_vect = sc.norm.logpdf(self.y_likelihood, loc= proposed_kpi, scale=tetha[self.param_to_infer]) # Loc will be simulation(theta(:param_to_infer), scale = theta[param_to_infer])\n",
    "        log_likelihood_out = np.sum(log_likelihood_vect)\n",
    "        return log_likelihood_out'''\n",
    "    \n",
    "    def log_likelihood(self, tetha):\n",
    "        proposed_kpi = self.get_kpi(tetha)\n",
    "        #proposed_radius = self.get_circle_radius(tetha)\n",
    "        #mean = np.full(self.y_likelihood.shape[0], proposed_radius).reshape(-1,1)\n",
    "        if self.variances_to_infer == 1:\n",
    "            log_likelihood_vect = sc.norm.logpdf(self.y_likelihood, loc= proposed_kpi, scale=tetha[self.param_to_infer]) # Loc will be simulation(theta(:param_to_infer), scale = theta[param_to_infer])\n",
    "        else:\n",
    "            mean = np.full(self.param_to_infer, proposed_kpi)\n",
    "            log_likelihood_vect = sc.multivariate_normal.logpdf(self.y_likelihood, mean= mean, cov=np.diag(tetha[self.param_to_infer:])) # Loc will be simulation(theta(:param_to_infer), scale = theta[param_to_infer])\n",
    "        log_likelihood_out = np.sum(log_likelihood_vect)\n",
    "        return log_likelihood_out\n",
    "\n",
    "    def log_prior(self, theta):\n",
    "\n",
    "        unknown_param = 100 # default = 100\n",
    "        # evaluate the prior for the parameters on a multivariate gaussian. \n",
    "        prior_out = sc.multivariate_normal.logpdf(theta[:self.param_to_infer],mean=np.zeros(self.param_to_infer), cov=np.eye(self.param_to_infer)*unknown_param)\n",
    "        # this needs to be summed to the prior for the sigma, since I assumed independence.\n",
    "        prior_out += sc.gamma.logpdf(theta[self.param_to_infer], a=1, scale=1)\n",
    "        return prior_out\n",
    "\n",
    "\n",
    "    def log_proposal_x_given_y(self, x,y, search_width = 10):\n",
    "        walk = 1\n",
    "        # Parameters\n",
    "        log_proposal_param = sc.multivariate_normal.logpdf(x[:self.param_to_infer],mean=y[:self.param_to_infer], cov=np.eye(self.param_to_infer)*search_width**2)\n",
    "        # Standard deviation\n",
    "        log_proposal_std_dev = sc.gamma.logpdf(x[self.param_to_infer], a=y[self.param_to_infer]*walk*500, scale=1/(500*walk))\n",
    "        \n",
    "        log_proposal_x_given_y = log_proposal_param+log_proposal_std_dev\n",
    "        return log_proposal_x_given_y\n",
    "\n",
    "    def acceptance_prob(self, log_likelihood_theta, log_likelihood_theta_new, log_prior_theta, log_prior_theta_new, log_proposal_theta_given_theta_new, log_proposal_theta__new_given_theta):\n",
    "        prop_ratio = log_proposal_theta_given_theta_new-log_proposal_theta__new_given_theta\n",
    "        likelihood_prior_proposal_ratio = -log_likelihood_theta_new + log_likelihood_theta - \\\n",
    "                                log_prior_theta_new + log_prior_theta - prop_ratio\n",
    "        return np.exp(likelihood_prior_proposal_ratio)\n",
    "\n",
    "    def inference(self):\n",
    "        # Number of samples accepted/rejected\n",
    "        accepted = 0\n",
    "        rejected = 0\n",
    "        # Number of iterations\n",
    "        iter = 2000\n",
    "        # Scale facter of the covariance matrix\n",
    "        width = 0.01\n",
    "        \n",
    "        accepted_thetas = np.full(self.param_to_infer + self.variances_to_infer, 0.5).reshape(1,-1) #np.random.rand(self.param_to_infer + 1).reshape(1,-1)\n",
    "        rejected_thetas = np.empty(self.param_to_infer + self.variances_to_infer).reshape(1,-1)\n",
    "        all_thetas = np.concatenate((accepted_thetas, np.zeros((accepted_thetas.shape[0], 1))), axis=1)\n",
    "        # Loop for the inference\n",
    "        for i in range(iter):\n",
    "            # 1) Provide a proposal for theta\n",
    "            theta_new = self.proposal(accepted_thetas[-1,:], search_width=width)\n",
    "\n",
    "            # 2) Compute log-likelihood of the new theta and the old one\n",
    "            log_likelihood_theta = self.log_likelihood(accepted_thetas[-1,:])\n",
    "            log_likelihood_theta_new = self.log_likelihood(theta_new)\n",
    "\n",
    "            # 3) Compute log-prior of the new theta and the old one\n",
    "            log_prior_theta = self.log_prior(accepted_thetas[-1,:])\n",
    "            log_prior_theta_new = self.log_prior(theta_new)\n",
    "\n",
    "            # 4) Compute log-proposal of the new theta and the old one\n",
    "            log_proposal_theta_given_theta_new = self.log_proposal_x_given_y(accepted_thetas[-1,:], theta_new, search_width =width)\n",
    "            log_proposal_theta__new_given_theta = self.log_proposal_x_given_y(theta_new, accepted_thetas[-1,:], search_width =width)\n",
    "\n",
    "            # 5) Compute the acceptance probability\n",
    "            alpha = self.acceptance_prob(log_likelihood_theta, log_likelihood_theta_new, log_prior_theta, log_prior_theta_new, log_proposal_theta_given_theta_new, log_proposal_theta__new_given_theta)\n",
    "\n",
    "            #6) Generate a uniform number u from [0,1]\n",
    "            '''u = sc.uniform().rvs()\n",
    "            # if u <= alpha, accept the new sample\n",
    "            if u <= alpha:\n",
    "                thetas = np.vstack((thetas,theta_new))\n",
    "                accepted += 1\n",
    "            else:\n",
    "                rejected += 1''' \n",
    "            u = sc.uniform().rvs()\n",
    "            if alpha <= u:\n",
    "                accepted_thetas = np.vstack((accepted_thetas,theta_new))\n",
    "                accepted += 1\n",
    "                theta_new_all_thetas = np.hstack((theta_new, np.array([1]).reshape(-1,)))\n",
    "            else:\n",
    "                rejected_thetas = np.vstack((rejected_thetas,theta_new))\n",
    "                rejected += 1\n",
    "                theta_new_all_thetas = np.hstack((theta_new, np.array([0]).reshape(-1,)))\n",
    "            \n",
    "            all_thetas = np.vstack((all_thetas,theta_new_all_thetas))\n",
    "\n",
    "            if i%50 == 0:\n",
    "                print(f\"Iteration {i}: {accepted} accepted, {rejected} rejected\")\n",
    "        \n",
    "        return accepted_thetas, rejected_thetas, all_thetas"
   ]
  },
  {
   "cell_type": "code",
   "execution_count": 3,
   "metadata": {},
   "outputs": [
    {
     "name": "stdout",
     "output_type": "stream",
     "text": [
      "[0. 0. 0. 0. 0. 0.]\n",
      "Variable is a NumPy array\n",
      "[0. 0. 0. 0. 0. 0.]\n",
      "Variable is a NumPy array\n",
      "[0. 0. 0. 0. 0. 0.]\n",
      "Variable is a NumPy array\n"
     ]
    },
    {
     "name": "stderr",
     "output_type": "stream",
     "text": [
      "/var/folders/mw/9cttllqs2yv0dqrlc62m0l8h0000gn/T/ipykernel_11858/4093399014.py:152: RuntimeWarning: overflow encountered in exp\n",
      "  return np.exp(likelihood_prior_proposal_ratio)\n"
     ]
    },
    {
     "name": "stdout",
     "output_type": "stream",
     "text": [
      "Iteration 0: 0 accepted, 1 rejected\n",
      "[0. 0. 0. 0. 0. 0.]\n",
      "Variable is a NumPy array\n",
      "[0. 0. 0. 0. 0. 0.]\n",
      "Variable is a NumPy array\n",
      "[0. 0. 0. 0. 0. 0.]\n",
      "Variable is a NumPy array\n",
      "[0. 0. 0. 0. 0. 0.]\n",
      "Variable is a NumPy array\n",
      "[0. 0. 0. 0. 0. 0.]\n",
      "Variable is a NumPy array\n",
      "[0. 0. 0. 0. 0. 0.]\n",
      "Variable is a NumPy array\n",
      "[0. 0. 0. 0. 0. 0.]\n",
      "Variable is a NumPy array\n",
      "[0. 0. 0. 0. 0. 0.]\n",
      "Variable is a NumPy array\n",
      "[0. 0. 0. 0. 0. 0.]\n",
      "Variable is a NumPy array\n",
      "[0. 0. 0. 0. 0. 0.]\n",
      "Variable is a NumPy array\n"
     ]
    },
    {
     "ename": "KeyboardInterrupt",
     "evalue": "",
     "output_type": "error",
     "traceback": [
      "\u001b[0;31m---------------------------------------------------------------------------\u001b[0m",
      "\u001b[0;31mKeyboardInterrupt\u001b[0m                         Traceback (most recent call last)",
      "\u001b[1;32m/Users/jonas/Desktop/intergation_model/MH_Bycicle_dynamic_open_loop.ipynb Cell 3\u001b[0m in \u001b[0;36m<module>\u001b[0;34m\u001b[0m\n\u001b[1;32m      <a href='vscode-notebook-cell:/Users/jonas/Desktop/intergation_model/MH_Bycicle_dynamic_open_loop.ipynb#W2sZmlsZQ%3D%3D?line=0'>1</a>\u001b[0m PI \u001b[39m=\u001b[39m Param_Inferencer()\n\u001b[0;32m----> <a href='vscode-notebook-cell:/Users/jonas/Desktop/intergation_model/MH_Bycicle_dynamic_open_loop.ipynb#W2sZmlsZQ%3D%3D?line=2'>3</a>\u001b[0m accepted_thetas, rejected_thetas, all_thetas \u001b[39m=\u001b[39m PI\u001b[39m.\u001b[39;49minference()\n",
      "\u001b[1;32m/Users/jonas/Desktop/intergation_model/MH_Bycicle_dynamic_open_loop.ipynb Cell 3\u001b[0m in \u001b[0;36mParam_Inferencer.inference\u001b[0;34m(self)\u001b[0m\n\u001b[1;32m    <a href='vscode-notebook-cell:/Users/jonas/Desktop/intergation_model/MH_Bycicle_dynamic_open_loop.ipynb#W2sZmlsZQ%3D%3D?line=170'>171</a>\u001b[0m \u001b[39m# 2) Compute log-likelihood of the new theta and the old one\u001b[39;00m\n\u001b[1;32m    <a href='vscode-notebook-cell:/Users/jonas/Desktop/intergation_model/MH_Bycicle_dynamic_open_loop.ipynb#W2sZmlsZQ%3D%3D?line=171'>172</a>\u001b[0m log_likelihood_theta \u001b[39m=\u001b[39m \u001b[39mself\u001b[39m\u001b[39m.\u001b[39mlog_likelihood(accepted_thetas[\u001b[39m-\u001b[39m\u001b[39m1\u001b[39m,:])\n\u001b[0;32m--> <a href='vscode-notebook-cell:/Users/jonas/Desktop/intergation_model/MH_Bycicle_dynamic_open_loop.ipynb#W2sZmlsZQ%3D%3D?line=172'>173</a>\u001b[0m log_likelihood_theta_new \u001b[39m=\u001b[39m \u001b[39mself\u001b[39;49m\u001b[39m.\u001b[39;49mlog_likelihood(theta_new)\n\u001b[1;32m    <a href='vscode-notebook-cell:/Users/jonas/Desktop/intergation_model/MH_Bycicle_dynamic_open_loop.ipynb#W2sZmlsZQ%3D%3D?line=174'>175</a>\u001b[0m \u001b[39m# 3) Compute log-prior of the new theta and the old one\u001b[39;00m\n\u001b[1;32m    <a href='vscode-notebook-cell:/Users/jonas/Desktop/intergation_model/MH_Bycicle_dynamic_open_loop.ipynb#W2sZmlsZQ%3D%3D?line=175'>176</a>\u001b[0m log_prior_theta \u001b[39m=\u001b[39m \u001b[39mself\u001b[39m\u001b[39m.\u001b[39mlog_prior(accepted_thetas[\u001b[39m-\u001b[39m\u001b[39m1\u001b[39m,:])\n",
      "\u001b[1;32m/Users/jonas/Desktop/intergation_model/MH_Bycicle_dynamic_open_loop.ipynb Cell 3\u001b[0m in \u001b[0;36mParam_Inferencer.log_likelihood\u001b[0;34m(self, tetha)\u001b[0m\n\u001b[1;32m    <a href='vscode-notebook-cell:/Users/jonas/Desktop/intergation_model/MH_Bycicle_dynamic_open_loop.ipynb#W2sZmlsZQ%3D%3D?line=115'>116</a>\u001b[0m \u001b[39mdef\u001b[39;00m \u001b[39mlog_likelihood\u001b[39m(\u001b[39mself\u001b[39m, tetha):\n\u001b[0;32m--> <a href='vscode-notebook-cell:/Users/jonas/Desktop/intergation_model/MH_Bycicle_dynamic_open_loop.ipynb#W2sZmlsZQ%3D%3D?line=116'>117</a>\u001b[0m     proposed_kpi \u001b[39m=\u001b[39m \u001b[39mself\u001b[39;49m\u001b[39m.\u001b[39;49mget_kpi(tetha)\n\u001b[1;32m    <a href='vscode-notebook-cell:/Users/jonas/Desktop/intergation_model/MH_Bycicle_dynamic_open_loop.ipynb#W2sZmlsZQ%3D%3D?line=117'>118</a>\u001b[0m     \u001b[39m#proposed_radius = self.get_circle_radius(tetha)\u001b[39;00m\n\u001b[1;32m    <a href='vscode-notebook-cell:/Users/jonas/Desktop/intergation_model/MH_Bycicle_dynamic_open_loop.ipynb#W2sZmlsZQ%3D%3D?line=118'>119</a>\u001b[0m     \u001b[39m#mean = np.full(self.y_likelihood.shape[0], proposed_radius).reshape(-1,1)\u001b[39;00m\n\u001b[1;32m    <a href='vscode-notebook-cell:/Users/jonas/Desktop/intergation_model/MH_Bycicle_dynamic_open_loop.ipynb#W2sZmlsZQ%3D%3D?line=119'>120</a>\u001b[0m     \u001b[39mif\u001b[39;00m \u001b[39mself\u001b[39m\u001b[39m.\u001b[39mvariances_to_infer \u001b[39m==\u001b[39m \u001b[39m1\u001b[39m:\n",
      "\u001b[1;32m/Users/jonas/Desktop/intergation_model/MH_Bycicle_dynamic_open_loop.ipynb Cell 3\u001b[0m in \u001b[0;36mParam_Inferencer.get_kpi\u001b[0;34m(self, tetha)\u001b[0m\n\u001b[1;32m     <a href='vscode-notebook-cell:/Users/jonas/Desktop/intergation_model/MH_Bycicle_dynamic_open_loop.ipynb#W2sZmlsZQ%3D%3D?line=33'>34</a>\u001b[0m \u001b[39mdef\u001b[39;00m \u001b[39mget_kpi\u001b[39m(\u001b[39mself\u001b[39m, tetha):\n\u001b[1;32m     <a href='vscode-notebook-cell:/Users/jonas/Desktop/intergation_model/MH_Bycicle_dynamic_open_loop.ipynb#W2sZmlsZQ%3D%3D?line=34'>35</a>\u001b[0m     \u001b[39mself\u001b[39m\u001b[39m.\u001b[39mgenerate_new_model(tetha[:\u001b[39mself\u001b[39m\u001b[39m.\u001b[39mparam_to_infer])\n\u001b[0;32m---> <a href='vscode-notebook-cell:/Users/jonas/Desktop/intergation_model/MH_Bycicle_dynamic_open_loop.ipynb#W2sZmlsZQ%3D%3D?line=35'>36</a>\u001b[0m     t,x_vect \u001b[39m=\u001b[39m \u001b[39mself\u001b[39;49m\u001b[39m.\u001b[39;49mget_open_loop_data()\n\u001b[1;32m     <a href='vscode-notebook-cell:/Users/jonas/Desktop/intergation_model/MH_Bycicle_dynamic_open_loop.ipynb#W2sZmlsZQ%3D%3D?line=37'>38</a>\u001b[0m     l2_norm_position \u001b[39m=\u001b[39m np\u001b[39m.\u001b[39mlinalg\u001b[39m.\u001b[39mnorm(\u001b[39mself\u001b[39m\u001b[39m.\u001b[39mx_vect_ref[:,:\u001b[39m2\u001b[39m] \u001b[39m-\u001b[39m x_vect[:,:\u001b[39m2\u001b[39m], axis\u001b[39m=\u001b[39m\u001b[39m1\u001b[39m)\u001b[39m.\u001b[39msum()\n\u001b[1;32m     <a href='vscode-notebook-cell:/Users/jonas/Desktop/intergation_model/MH_Bycicle_dynamic_open_loop.ipynb#W2sZmlsZQ%3D%3D?line=38'>39</a>\u001b[0m     l2_norm_velocity \u001b[39m=\u001b[39m np\u001b[39m.\u001b[39mlinalg\u001b[39m.\u001b[39mnorm(\u001b[39mself\u001b[39m\u001b[39m.\u001b[39mx_vect_ref[:,\u001b[39m2\u001b[39m:] \u001b[39m-\u001b[39m x_vect[:,\u001b[39m2\u001b[39m:], axis\u001b[39m=\u001b[39m\u001b[39m1\u001b[39m)\u001b[39m.\u001b[39msum()\n",
      "\u001b[1;32m/Users/jonas/Desktop/intergation_model/MH_Bycicle_dynamic_open_loop.ipynb Cell 3\u001b[0m in \u001b[0;36mParam_Inferencer.get_open_loop_data\u001b[0;34m(self)\u001b[0m\n\u001b[1;32m     <a href='vscode-notebook-cell:/Users/jonas/Desktop/intergation_model/MH_Bycicle_dynamic_open_loop.ipynb#W2sZmlsZQ%3D%3D?line=46'>47</a>\u001b[0m \u001b[39mdef\u001b[39;00m \u001b[39mget_open_loop_data\u001b[39m(\u001b[39mself\u001b[39m):\n\u001b[0;32m---> <a href='vscode-notebook-cell:/Users/jonas/Desktop/intergation_model/MH_Bycicle_dynamic_open_loop.ipynb#W2sZmlsZQ%3D%3D?line=48'>49</a>\u001b[0m     t,x_vect \u001b[39m=\u001b[39m \u001b[39mself\u001b[39;49m\u001b[39m.\u001b[39;49mmodel\u001b[39m.\u001b[39;49mdo_open_loop_sim_from_csv(\u001b[39mself\u001b[39;49m\u001b[39m.\u001b[39;49mcommands)\n\u001b[1;32m     <a href='vscode-notebook-cell:/Users/jonas/Desktop/intergation_model/MH_Bycicle_dynamic_open_loop.ipynb#W2sZmlsZQ%3D%3D?line=50'>51</a>\u001b[0m     x \u001b[39m=\u001b[39m x_vect[:,\u001b[39m0\u001b[39m]\n\u001b[1;32m     <a href='vscode-notebook-cell:/Users/jonas/Desktop/intergation_model/MH_Bycicle_dynamic_open_loop.ipynb#W2sZmlsZQ%3D%3D?line=51'>52</a>\u001b[0m     y \u001b[39m=\u001b[39m x_vect[:,\u001b[39m1\u001b[39m]\n",
      "File \u001b[0;32m~/Desktop/intergation_model/models/model_abstract.py:75\u001b[0m, in \u001b[0;36mAbstractModel.do_open_loop_sim_from_csv\u001b[0;34m(self, file_path)\u001b[0m\n\u001b[1;32m     73\u001b[0m inputs \u001b[39m=\u001b[39m  [steering_angle[index], Fx_fl[index], Fx_fr[index], Fx_rl[index], Fx_rr[index]]\n\u001b[1;32m     74\u001b[0m \u001b[39m# Do 1 step\u001b[39;00m\n\u001b[0;32m---> 75\u001b[0m \u001b[39mself\u001b[39;49m\u001b[39m.\u001b[39;49mRK45_1step(\u001b[39mself\u001b[39;49m\u001b[39m.\u001b[39;49mdt, inputs)\n\u001b[1;32m     76\u001b[0m \u001b[39m# Update time and state\u001b[39;00m\n\u001b[1;32m     77\u001b[0m t\u001b[39m.\u001b[39mappend(t[\u001b[39m-\u001b[39m\u001b[39m1\u001b[39m] \u001b[39m+\u001b[39m \u001b[39mself\u001b[39m\u001b[39m.\u001b[39mdt)\n",
      "File \u001b[0;32m~/Desktop/intergation_model/models/model_abstract.py:23\u001b[0m, in \u001b[0;36mAbstractModel.RK45_1step\u001b[0;34m(self, dt, inputs)\u001b[0m\n\u001b[1;32m     21\u001b[0m k1 \u001b[39m=\u001b[39m \u001b[39mself\u001b[39m\u001b[39m.\u001b[39mget_dynamics_numpy(\u001b[39mself\u001b[39m\u001b[39m.\u001b[39mstate, inputs)\n\u001b[1;32m     22\u001b[0m k2 \u001b[39m=\u001b[39m \u001b[39mself\u001b[39m\u001b[39m.\u001b[39mget_dynamics_numpy(\u001b[39mself\u001b[39m\u001b[39m.\u001b[39mstate \u001b[39m+\u001b[39m \u001b[39m0.5\u001b[39m \u001b[39m*\u001b[39m dt \u001b[39m*\u001b[39m k1, inputs)\n\u001b[0;32m---> 23\u001b[0m k3 \u001b[39m=\u001b[39m \u001b[39mself\u001b[39;49m\u001b[39m.\u001b[39;49mget_dynamics_numpy(\u001b[39mself\u001b[39;49m\u001b[39m.\u001b[39;49mstate \u001b[39m+\u001b[39;49m \u001b[39m0.5\u001b[39;49m \u001b[39m*\u001b[39;49m dt \u001b[39m*\u001b[39;49m k2, inputs)\n\u001b[1;32m     24\u001b[0m k4 \u001b[39m=\u001b[39m \u001b[39mself\u001b[39m\u001b[39m.\u001b[39mget_dynamics_numpy(\u001b[39mself\u001b[39m\u001b[39m.\u001b[39mstate \u001b[39m+\u001b[39m dt \u001b[39m*\u001b[39m k3, inputs)\n\u001b[1;32m     25\u001b[0m \u001b[39m# State update\u001b[39;00m\n",
      "File \u001b[0;32m~/Desktop/intergation_model/models/model4.py:110\u001b[0m, in \u001b[0;36mFourWheelModel.get_dynamics_numpy\u001b[0;34m(self, x_vect, inputs)\u001b[0m\n\u001b[1;32m    107\u001b[0m dyaw \u001b[39m=\u001b[39m x_vect[\u001b[39m5\u001b[39m]\n\u001b[1;32m    108\u001b[0m \u001b[39m# Steering action\u001b[39;00m\n\u001b[1;32m    109\u001b[0m \u001b[39m# Compute tire forces and moment\u001b[39;00m\n\u001b[0;32m--> 110\u001b[0m F_fl_y, F_fr_y, F_rl_y, F_rr_y, F_fx, F_rx, Mtv, Fx_drag, F_res \u001b[39m=\u001b[39m \u001b[39mself\u001b[39;49m\u001b[39m.\u001b[39;49mcompute_forces_numpy(x_vect, inputs)\n\u001b[1;32m    112\u001b[0m \u001b[39m# Dynamics equations\u001b[39;00m\n\u001b[1;32m    113\u001b[0m dxdt \u001b[39m=\u001b[39m np\u001b[39m.\u001b[39mconcatenate(\n\u001b[1;32m    114\u001b[0m     (\n\u001b[1;32m    115\u001b[0m     [vx \u001b[39m*\u001b[39m np\u001b[39m.\u001b[39mcos(yaw) \u001b[39m-\u001b[39m vy \u001b[39m*\u001b[39m np\u001b[39m.\u001b[39msin(yaw)], \u001b[39m#[vx], #\u001b[39;00m\n\u001b[0;32m   (...)\u001b[0m\n\u001b[1;32m    121\u001b[0m     )\n\u001b[1;32m    122\u001b[0m )\n",
      "File \u001b[0;32m~/Desktop/intergation_model/models/model4.py:82\u001b[0m, in \u001b[0;36mFourWheelModel.compute_forces_numpy\u001b[0;34m(self, x_vect, inputs)\u001b[0m\n\u001b[1;32m     80\u001b[0m mu_fl_y \u001b[39m=\u001b[39m \u001b[39mself\u001b[39m\u001b[39m.\u001b[39mtire\u001b[39m.\u001b[39mpacejka_numpy(SA_fl, [T_peak_front, T_slope_front],  tire\u001b[39m=\u001b[39m\u001b[39m'\u001b[39m\u001b[39mfront\u001b[39m\u001b[39m'\u001b[39m)\n\u001b[1;32m     81\u001b[0m mu_fr_y \u001b[39m=\u001b[39m \u001b[39mself\u001b[39m\u001b[39m.\u001b[39mtire\u001b[39m.\u001b[39mpacejka_numpy(SA_fr, [T_peak_front, T_slope_front],  tire\u001b[39m=\u001b[39m\u001b[39m'\u001b[39m\u001b[39mfront\u001b[39m\u001b[39m'\u001b[39m)\n\u001b[0;32m---> 82\u001b[0m mu_rl_y \u001b[39m=\u001b[39m \u001b[39mself\u001b[39;49m\u001b[39m.\u001b[39;49mtire\u001b[39m.\u001b[39;49mpacejka_numpy(SA_rl, [T_peak_rear, T_slope_rear],  tire\u001b[39m=\u001b[39;49m\u001b[39m'\u001b[39;49m\u001b[39mrear\u001b[39;49m\u001b[39m'\u001b[39;49m)\n\u001b[1;32m     83\u001b[0m mu_rr_y \u001b[39m=\u001b[39m \u001b[39mself\u001b[39m\u001b[39m.\u001b[39mtire\u001b[39m.\u001b[39mpacejka_numpy(SA_rr, [T_peak_rear, T_slope_rear],  tire\u001b[39m=\u001b[39m\u001b[39m'\u001b[39m\u001b[39mrear\u001b[39m\u001b[39m'\u001b[39m)\n\u001b[1;32m     84\u001b[0m \u001b[39m# Lateral tire force\u001b[39;00m\n",
      "File \u001b[0;32m~/Desktop/intergation_model/models/model_abstract.py:188\u001b[0m, in \u001b[0;36mTire.pacejka_numpy\u001b[0;34m(self, SA, u, tire)\u001b[0m\n\u001b[1;32m    184\u001b[0m \u001b[39melse\u001b[39;00m:\n\u001b[1;32m    185\u001b[0m     \u001b[39mraise\u001b[39;00m \u001b[39mValueError\u001b[39;00m(\u001b[39m'\u001b[39m\u001b[39mtire was not correctly specified: should be either front or rear\u001b[39m\u001b[39m'\u001b[39m)\n\u001b[0;32m--> 188\u001b[0m mu_y \u001b[39m=\u001b[39m D \u001b[39m*\u001b[39m np\u001b[39m.\u001b[39msin(C \u001b[39m*\u001b[39m np\u001b[39m.\u001b[39;49marctan(B \u001b[39m*\u001b[39;49m (SA \u001b[39m+\u001b[39;49m H))) \u001b[39m+\u001b[39m V\n\u001b[1;32m    190\u001b[0m \u001b[39mreturn\u001b[39;00m mu_y\n",
      "\u001b[0;31mKeyboardInterrupt\u001b[0m: "
     ]
    }
   ],
   "source": [
    "PI = Param_Inferencer()\n",
    "\n",
    "accepted_thetas, rejected_thetas, all_thetas = PI.inference()"
   ]
  },
  {
   "cell_type": "code",
   "execution_count": null,
   "metadata": {},
   "outputs": [
    {
     "data": {
      "text/plain": [
       "(2001, 5)"
      ]
     },
     "execution_count": 82,
     "metadata": {},
     "output_type": "execute_result"
    }
   ],
   "source": [
    "all_thetas.shape"
   ]
  },
  {
   "cell_type": "code",
   "execution_count": null,
   "metadata": {},
   "outputs": [
    {
     "data": {
      "image/png": "[encoded data removed]",
      "text/plain": [
       "<Figure size 432x288 with 1 Axes>"
      ]
     },
     "metadata": {
      "needs_background": "light"
     },
     "output_type": "display_data"
    },
    {
     "data": {
      "image/png": "[encoded data removed]",
      "text/plain": [
       "<Figure size 432x288 with 1 Axes>"
      ]
     },
     "metadata": {
      "needs_background": "light"
     },
     "output_type": "display_data"
    },
    {
     "data": {
      "image/png": "[encoded data removed]",
      "text/plain": [
       "<Figure size 432x288 with 1 Axes>"
      ]
     },
     "metadata": {
      "needs_background": "light"
     },
     "output_type": "display_data"
    }
   ],
   "source": [
    "plot_column_histograms(accepted_thetas[32:], ['T_peak', 'T_slope', 'ok', 'ok'])"
   ]
  },
  {
   "cell_type": "code",
   "execution_count": 26,
   "metadata": {},
   "outputs": [],
   "source": [
    "log_likelihood_vect = sc.multivariate_normal.logpdf([0,1,2], mean= [0,0,0], cov=np.diag([1,1,1])) "
   ]
  },
  {
   "cell_type": "code",
   "execution_count": 89,
   "metadata": {},
   "outputs": [],
   "source": [
    "\n",
    "def plot_column_histograms(data, legends):\n",
    "    \"\"\"\n",
    "    Plots a histogram for each column of a 2D numpy array.\n",
    "    \"\"\"\n",
    "    num_cols = data.shape[1]  # Get the number of columns in the data\n",
    "    \n",
    "    # Plot a histogram for each column\n",
    "    for i in range(num_cols):\n",
    "        plt.hist(data[:, i], bins=10)  # Plot the histogram\n",
    "        \n",
    "        # Set the plot title and axis labels\n",
    "        plt.xlabel(legends[i])\n",
    "        plt.ylabel(\"Frequency\")\n",
    "        \n",
    "        plt.show()  # Show the plot"
   ]
  },
  {
   "cell_type": "code",
   "execution_count": 28,
   "metadata": {},
   "outputs": [
    {
     "name": "stderr",
     "output_type": "stream",
     "text": [
      "/Users/jonas/opt/miniconda3/envs/DLSC/lib/python3.9/site-packages/scipy/stats/_distn_infrastructure.py:2126: RuntimeWarning: divide by zero encountered in true_divide\n",
      "  x = np.asarray((x - loc)/scale, dtype=dtyp)\n",
      "/Users/jonas/opt/miniconda3/envs/DLSC/lib/python3.9/site-packages/scipy/stats/_distn_infrastructure.py:2126: RuntimeWarning: invalid value encountered in true_divide\n",
      "  x = np.asarray((x - loc)/scale, dtype=dtyp)\n"
     ]
    }
   ],
   "source": [
    "log_likelihood_vect = sc.norm.logpdf([0,1,2], loc= [0,0,0], scale=np.diag([1,1,1])) # Loc will be simulation(theta(:param_to_infer), scale = theta[param_to_infer])"
   ]
  },
  {
   "cell_type": "code",
   "execution_count": 92,
   "metadata": {},
   "outputs": [
    {
     "name": "stdout",
     "output_type": "stream",
     "text": [
      "[[ 0.5         0.5         0.5         0.5         0.        ]\n",
      " [ 0.50981321  0.50514219  0.50176268  0.18848837  0.        ]\n",
      " [ 0.49774598  0.49685081  0.57016951  0.3165589   0.        ]\n",
      " ...\n",
      " [ 0.3653483   0.39067475  8.25868127 10.830522    0.        ]\n",
      " [ 0.37778524  0.40547492  9.35459035 12.51818914  0.        ]\n",
      " [ 0.37636306  0.40142668  8.10114444 11.61373646  0.        ]]\n"
     ]
    }
   ],
   "source": [
    "print(all_thetas)"
   ]
  },
  {
   "cell_type": "code",
   "execution_count": 93,
   "metadata": {},
   "outputs": [],
   "source": []
  },
  {
   "cell_type": "code",
   "execution_count": 6,
   "metadata": {},
   "outputs": [
    {
     "ename": "NameError",
     "evalue": "name 'tetha' is not defined",
     "output_type": "error",
     "traceback": [
      "\u001b[0;31m---------------------------------------------------------------------------\u001b[0m",
      "\u001b[0;31mNameError\u001b[0m                                 Traceback (most recent call last)",
      "\u001b[1;32m/Users/jonas/Desktop/intergation_model/MH_Bycicle_dynamic_open_loop.ipynb Cell 11\u001b[0m in \u001b[0;36m<module>\u001b[0;34m\u001b[0m\n\u001b[0;32m----> <a href='vscode-notebook-cell:/Users/jonas/Desktop/intergation_model/MH_Bycicle_dynamic_open_loop.ipynb#X13sZmlsZQ%3D%3D?line=0'>1</a>\u001b[0m tetha[\u001b[39mself\u001b[39m\u001b[39m.\u001b[39mparam_to_infer:]\n",
      "\u001b[0;31mNameError\u001b[0m: name 'tetha' is not defined"
     ]
    }
   ],
   "source": [
    "tetha[self.param_to_infer:]"
   ]
  },
  {
   "cell_type": "code",
   "execution_count": null,
   "metadata": {},
   "outputs": [],
   "source": []
  }
 ],
 "metadata": {
  "kernelspec": {
   "display_name": "DLSC",
   "language": "python",
   "name": "python3"
  },
  "language_info": {
   "codemirror_mode": {
    "name": "ipython",
    "version": 3
   },
   "file_extension": ".py",
   "mimetype": "text/x-python",
   "name": "python",
   "nbconvert_exporter": "python",
   "pygments_lexer": "ipython3",
   "version": "3.9.7"
  },
  "orig_nbformat": 4
 },
 "nbformat": 4,
 "nbformat_minor": 2
}
