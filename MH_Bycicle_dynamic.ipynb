{
 "cells": [
  {
   "cell_type": "code",
   "execution_count": 2,
   "metadata": {},
   "outputs": [],
   "source": [
    "import numpy as np\n",
    "import matplotlib.pyplot as plt\n",
    "import scipy.stats as sc\n",
    "import matplotlib.pyplot as plt\n",
    "import yaml\n",
    "\n",
    "\n",
    "from models.model2 import BicycleModel\n",
    "from models.model4 import FourWheelModel\n",
    "from models.utils import fit_circle\n",
    "from models.utils import plot_column_histograms"
   ]
  },
  {
   "cell_type": "code",
   "execution_count": 3,
   "metadata": {},
   "outputs": [],
   "source": [
    "np.random.seed(100)\n",
    "class Param_Inferencer:\n",
    "    def __init__(self) -> None:\n",
    "        # List of parameters to infer\n",
    "        self.list_of_param = ['T_peak', 'T_slope']\n",
    "        # Number of paramters to infer\n",
    "        self.param_to_infer = len(self.list_of_param)\n",
    "        # Sample vector\n",
    "        self.thetas = np.random.rand(self.param_to_infer + 1).reshape(1,-1) # First one is random + likelihood\n",
    "        # Burnin\n",
    "        self.burnin = None\n",
    "\n",
    "        # Current model and model parameters\n",
    "        self.model = None\n",
    "        self.dt = 0.05\n",
    "        self.open_loop_tf = 50\n",
    "        # T_peak and T_slope is not specified since we infer those\n",
    "        # Load the CSV file using numpy.genfromtxt()\n",
    "        data = np.genfromtxt('./Data/Data_Bicycle/radiuses.csv', delimiter=',', names=True, dtype=None)\n",
    "        self.y_likelihood = data['R']\n",
    "    \n",
    "\n",
    "\n",
    "\n",
    "    def get_circle_radius(self, tetha):\n",
    "        '''\n",
    "            Gets the radius of  the circle from the open loop simulation\n",
    "            @param name_of-param\n",
    "        '''\n",
    "        # Generate the right tyre1000.yaml file (Let's call it 1000 by convention)\n",
    "        self.generate_new_model(tetha[:self.param_to_infer])\n",
    "        \n",
    "        # Generate the new data\n",
    "        t0 = 0\n",
    "        N = self.model.open_loop_tf/self.model.dt\n",
    "        steering = 0.2\n",
    "        torque = 1000\n",
    "        inputs = [steering, torque, torque, torque, torque]\n",
    "        t,x_vect = self.model.do_open_loop_sim_cst_inputs(t0, inputs)\n",
    "        \n",
    "        # Fetch the radius from the data\n",
    "        x = x_vect[int(N/2):,0]\n",
    "        y = x_vect[int(N/2):,1]\n",
    "        radius = fit_circle(x, y) \n",
    "        \n",
    "        return radius\n",
    "    \n",
    "    def generate_new_model(self, Tetha):\n",
    "        T_peak = Tetha[0]\n",
    "        T_slope = Tetha[1]\n",
    "        self.model = BicycleModel( self.dt, self.open_loop_tf,float(T_peak), float(T_slope))\n",
    "\n",
    "    #----------------- Functions from here take care of the inference -----------------#\n",
    "\n",
    "    def proposal(self, prec_theta, search_width = 0.5):\n",
    "        # this function generates the proposal for the new theta\n",
    "        # we assume that the distribution of the random variables \n",
    "        # is normal for the first two and gamma for the third.\n",
    "        # conditional on the previous value of the accepted parameters (prec_theta)\n",
    "        out_theta = np.zeros(self.param_to_infer+1)\n",
    "        out_theta[:self.param_to_infer] = sc.multivariate_normal(mean=prec_theta[:self.param_to_infer],cov=np.eye(self.param_to_infer)*search_width**2).rvs(1)\n",
    "        #the last component is the noise\n",
    "        out_theta[self.param_to_infer] = sc.gamma(a=prec_theta[self.param_to_infer]*search_width*500, scale=1/(500*search_width)).rvs()\n",
    "        return out_theta\n",
    "    \n",
    "    def log_likelihood(self, tetha):\n",
    "        proposed_radius = self.get_circle_radius(tetha)\n",
    "        mean = np.full(self.y_likelihood.shape[0], proposed_radius).reshape(-1,1)\n",
    "        log_likelihood_vect = sc.norm.logpdf(self.y_likelihood, loc= mean, scale=tetha[self.param_to_infer]) # Loc will be simulation(theta(:param_to_infer), scale = theta[param_to_infer])\n",
    "        log_likelihood_out = np.sum(log_likelihood_vect)\n",
    "        return log_likelihood_out\n",
    "\n",
    "    def log_prior(self, theta):\n",
    "        # evaluate the prior for the parameters on a multivariate gaussian. \n",
    "        prior_out = sc.multivariate_normal.logpdf(theta[:self.param_to_infer],mean=np.zeros(self.param_to_infer), cov=np.eye(self.param_to_infer)*100)\n",
    "        # this needs to be summed to the prior for the sigma, since I assumed independence.\n",
    "        prior_out += sc.gamma.logpdf(theta[self.param_to_infer], a=1, scale=1)\n",
    "        return prior_out\n",
    "\n",
    "\n",
    "    def log_proposal_x_given_y(self, x,y, search_width = 10):\n",
    "        walk = 1\n",
    "        # Parameters\n",
    "        log_proposal_param = sc.multivariate_normal.logpdf(x[:self.param_to_infer],mean=y[:self.param_to_infer], cov=np.eye(self.param_to_infer)*search_width**2)\n",
    "        # Standard deviation\n",
    "        log_proposal_std_dev = sc.gamma.logpdf(x[self.param_to_infer], a=y[self.param_to_infer]*walk*500, scale=1/(500*walk))\n",
    "        \n",
    "        log_proposal_x_given_y = log_proposal_param+log_proposal_std_dev\n",
    "        return log_proposal_x_given_y\n",
    "\n",
    "    def acceptance_prob(self, log_likelihood_theta, log_likelihood_theta_new, log_prior_theta, log_prior_theta_new, log_proposal_theta_given_theta_new, log_proposal_theta__new_given_theta):\n",
    "        prop_ratio = log_proposal_theta_given_theta_new-log_proposal_theta__new_given_theta\n",
    "        likelihood_prior_proposal_ratio = -log_likelihood_theta_new + log_likelihood_theta - \\\n",
    "                                log_prior_theta_new + log_prior_theta - prop_ratio\n",
    "        return np.exp(likelihood_prior_proposal_ratio)\n",
    "\n",
    "    def inference(self):\n",
    "        # Number of samples accepted/rejected\n",
    "        accepted = 0\n",
    "        rejected = 0\n",
    "        # Number of iterations\n",
    "        iter = 650\n",
    "        # Scale facter of the covariance matrix\n",
    "        width = 0.01\n",
    "        \n",
    "        accepted_thetas = np.full(self.param_to_infer + 1, 0.5).reshape(1,-1) #np.random.rand(self.param_to_infer + 1).reshape(1,-1)\n",
    "        rejected_thetas = np.empty(self.param_to_infer + 1).reshape(1,-1)\n",
    "        all_thetas = np.concatenate((accepted_thetas, np.zeros((accepted_thetas.shape[0], 1))), axis=1)\n",
    "        # Loop for the inference\n",
    "        for i in range(iter):\n",
    "            # 1) Provide a proposal for theta\n",
    "            theta_new = self.proposal(accepted_thetas[-1,:], search_width=width)\n",
    "\n",
    "            # 2) Compute log-likelihood of the new theta and the old one\n",
    "            log_likelihood_theta = self.log_likelihood(accepted_thetas[-1,:])\n",
    "            log_likelihood_theta_new = self.log_likelihood(theta_new)\n",
    "\n",
    "            # 3) Compute log-prior of the new theta and the old one\n",
    "            log_prior_theta = self.log_prior(accepted_thetas[-1,:])\n",
    "            log_prior_theta_new = self.log_prior(theta_new)\n",
    "\n",
    "            # 4) Compute log-proposal of the new theta and the old one\n",
    "            log_proposal_theta_given_theta_new = self.log_proposal_x_given_y(accepted_thetas[-1,:], theta_new, search_width =width)\n",
    "            log_proposal_theta__new_given_theta = self.log_proposal_x_given_y(theta_new, accepted_thetas[-1,:], search_width =width)\n",
    "\n",
    "            # 5) Compute the acceptance probability\n",
    "            alpha = self.acceptance_prob(log_likelihood_theta, log_likelihood_theta_new, log_prior_theta, log_prior_theta_new, log_proposal_theta_given_theta_new, log_proposal_theta__new_given_theta)\n",
    "\n",
    "            #6) Generate a uniform number u from [0,1]\n",
    "            '''u = sc.uniform().rvs()\n",
    "            # if u <= alpha, accept the new sample\n",
    "            if u <= alpha:\n",
    "                thetas = np.vstack((thetas,theta_new))\n",
    "                accepted += 1\n",
    "            else:\n",
    "                rejected += 1''' \n",
    "            u = sc.uniform().rvs()\n",
    "            if alpha <= u:\n",
    "                accepted_thetas = np.vstack((accepted_thetas,theta_new))\n",
    "                accepted += 1\n",
    "                theta_new_all_thetas = np.hstack((theta_new, np.array([1]).reshape(-1,)))\n",
    "            else:\n",
    "                rejected_thetas = np.vstack((rejected_thetas,theta_new))\n",
    "                rejected += 1\n",
    "                theta_new_all_thetas = np.hstack((theta_new, np.array([0]).reshape(-1,)))\n",
    "            \n",
    "            all_thetas = np.vstack((all_thetas,theta_new_all_thetas))\n",
    "\n",
    "            if i%50 == 0:\n",
    "                print(f\"Iteration {i}: {accepted} accepted, {rejected} rejected\")\n",
    "        \n",
    "        return accepted_thetas, rejected_thetas, all_thetas"
   ]
  },
  {
   "cell_type": "code",
   "execution_count": 4,
   "metadata": {},
   "outputs": [
    {
     "name": "stderr",
     "output_type": "stream",
     "text": [
      "/var/folders/mw/9cttllqs2yv0dqrlc62m0l8h0000gn/T/ipykernel_33344/1071962660.py:95: RuntimeWarning: overflow encountered in exp\n",
      "  return np.exp(likelihood_prior_proposal_ratio)\n"
     ]
    },
    {
     "name": "stdout",
     "output_type": "stream",
     "text": [
      "Iteration 0: 0 accepted, 1 rejected\n"
     ]
    }
   ],
   "source": [
    "PI = Param_Inferencer()\n",
    "\n",
    "accepted_thetas, rejected_thetas, all_thetas = PI.inference()"
   ]
  },
  {
   "cell_type": "code",
   "execution_count": 36,
   "metadata": {},
   "outputs": [
    {
     "data": {
      "text/plain": [
       "array([[0.5       , 0.5       ],\n",
       "       [0.50981321, 0.60302758],\n",
       "       [0.50791825, 0.62429014],\n",
       "       [0.50333798, 0.71593773],\n",
       "       [0.5195278 , 1.37829157],\n",
       "       [0.52137298, 1.8524983 ],\n",
       "       [0.51380946, 2.31956121],\n",
       "       [0.49767368, 3.39133469],\n",
       "       [0.49876231, 3.75618282],\n",
       "       [0.5048927 , 4.35874733],\n",
       "       [0.48648082, 4.64028219],\n",
       "       [0.47081394, 5.49488984],\n",
       "       [0.45540778, 7.85224166],\n",
       "       [0.44323524, 7.59097678],\n",
       "       [0.42815939, 7.65743207],\n",
       "       [0.42199309, 8.570474  ],\n",
       "       [0.41879478, 7.09310344],\n",
       "       [0.4187058 , 6.40197432],\n",
       "       [0.41454763, 4.92586036],\n",
       "       [0.40940333, 4.64929454],\n",
       "       [0.40235915, 4.0394678 ],\n",
       "       [0.39779993, 4.58001132],\n",
       "       [0.39468646, 3.29059594],\n",
       "       [0.38873532, 2.49738865],\n",
       "       [0.36604375, 2.19595513],\n",
       "       [0.36780746, 1.60740832]])"
      ]
     },
     "execution_count": 36,
     "metadata": {},
     "output_type": "execute_result"
    }
   ],
   "source": [
    "accepted_thetas"
   ]
  },
  {
   "cell_type": "code",
   "execution_count": 39,
   "metadata": {},
   "outputs": [
    {
     "name": "stdout",
     "output_type": "stream",
     "text": [
      "(0.37419551119363037, 0.01030638174243574)\n"
     ]
    },
    {
     "data": {
      "image/png": "[encoded data removed]",
      "text/plain": [
       "<Figure size 432x288 with 1 Axes>"
      ]
     },
     "metadata": {
      "needs_background": "light"
     },
     "output_type": "display_data"
    }
   ],
   "source": [
    "burn_in = int(accepted_thetas.shape[0]*0.9)\n",
    "thetas_burned = accepted_thetas[burn_in:, :]\n",
    "thetas_burned.shape\n",
    "res = sc.norm.fit(thetas_burned[:,0])\n",
    "print(res)\n",
    "plt.hist(thetas_burned[:,0], bins=20, edgecolor='black', color = 'red')\n",
    "plt.xlabel(r'$\\theta_{\\rm T_{peak}}  [\\;]$')\n",
    "plt.ylabel(r'Frequency')\n",
    "plt.grid(True)\n",
    "\n",
    "# Show the plot\n",
    "plt.show()"
   ]
  },
  {
   "cell_type": "code",
   "execution_count": null,
   "metadata": {},
   "outputs": [],
   "source": []
  }
 ],
 "metadata": {
  "kernelspec": {
   "display_name": "DLSC",
   "language": "python",
   "name": "python3"
  },
  "language_info": {
   "codemirror_mode": {
    "name": "ipython",
    "version": 3
   },
   "file_extension": ".py",
   "mimetype": "text/x-python",
   "name": "python",
   "nbconvert_exporter": "python",
   "pygments_lexer": "ipython3",
   "version": "3.9.7"
  },
  "orig_nbformat": 4
 },
 "nbformat": 4,
 "nbformat_minor": 2
}
