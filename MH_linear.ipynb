{
 "cells": [
  {
   "cell_type": "code",
   "execution_count": 326,
   "metadata": {},
   "outputs": [],
   "source": [
    "import numpy as np\n",
    "import matplotlib.pyplot as plt\n",
    "import scipy.stats as sc\n",
    "import matplotlib.pyplot as plt\n",
    "import yaml\n",
    "\n",
    "\n",
    "from models.model2_linear import Dynamic_Bicycle_Linear\n",
    "from models.utils import fit_circle\n",
    "import time"
   ]
  },
  {
   "cell_type": "code",
   "execution_count": 365,
   "metadata": {},
   "outputs": [],
   "source": [
    "np.random.seed(100)\n",
    "class Param_Inferencer:\n",
    "    def __init__(self) -> None:\n",
    "        # List of parameters to infer\n",
    "        self.list_of_param = ['T_peak']\n",
    "        # Number of paramters to infer\n",
    "        self.param_to_infer = len(self.list_of_param)\n",
    "        # Sample vector\n",
    "        self.thetas = np.random.rand(self.param_to_infer + 1).reshape(1,-1) # First one is random + likelihood\n",
    "        # Burnin\n",
    "        self.burnin = None\n",
    "\n",
    "        # Current model and model parameters\n",
    "        self.model = None\n",
    "        self.dt = 0.05\n",
    "        self.open_loop_tf = 20\n",
    "        self.T_slope = 0.4\n",
    "        self.velocity = 5\n",
    "        # T peak is not specified since we infer tit\n",
    "\n",
    "        # Load the CSV file using numpy.genfromtxt()\n",
    "        data = np.genfromtxt('./Data/Data_Bicycle_linear/radiuses.csv', delimiter=',', names=True, dtype=None)\n",
    "        self.y_likelihood = float(data['R'])\n",
    "        print(self.y_likelihood)\n",
    "\n",
    "\n",
    "    def get_circle_radius(self, tetha):\n",
    "        '''\n",
    "            Gets the radius of  the circle from the open loop simulation\n",
    "            @param name_of-param\n",
    "        '''\n",
    "        # Generate the right tyre1000.yaml file (Let's call it 1000 by convention)\n",
    "        self.generate_new_model(tetha[:self.param_to_infer])\n",
    "        \n",
    "        # Generate the new data\n",
    "        t0 = 0\n",
    "        N = self.model.open_loop_tf/self.model.dt\n",
    "        steering = 0.2\n",
    "        torque = 40\n",
    "        inputs = [steering, torque, torque, torque, torque]\n",
    "        t,x_vect = self.model.do_open_loop_sim_cst_inputs(t0, inputs)\n",
    "        \n",
    "        # Fetch the radius from the data\n",
    "        x = x_vect[int(N/2):,0]\n",
    "        y = x_vect[int(N/2):,1]\n",
    "        radius = fit_circle(x, y) \n",
    "        \n",
    "        return radius\n",
    "    \n",
    "    def generate_new_model(self, T_peak):\n",
    "        self.model = Dynamic_Bicycle_Linear(self.velocity, self.dt, self.open_loop_tf,float(T_peak), self.T_slope)\n",
    "\n",
    "    #----------------- Functions from here take care of the inference -----------------#\n",
    "\n",
    "    def proposal(self, prec_theta, search_width = 0.5):\n",
    "        # this function generates the proposal for the new theta\n",
    "        # we assume that the distribution of the random variables \n",
    "        # is normal for the first two and gamma for the third.\n",
    "        # conditional on the previous value of the accepted parameters (prec_theta)\n",
    "        start_time = time.time()\n",
    "        out_theta = np.zeros(self.param_to_infer+1)\n",
    "        out_theta[:self.param_to_infer] = sc.multivariate_normal(mean=prec_theta[:self.param_to_infer],cov=np.eye(self.param_to_infer)*search_width**2).rvs(1)\n",
    "        #the last component is the noise\n",
    "        out_theta[self.param_to_infer] = sc.gamma(a=prec_theta[self.param_to_infer]*search_width*500, scale=1/(500*search_width)).rvs()\n",
    "        end_time = time.time()\n",
    "        return out_theta\n",
    "    \n",
    "    def log_likelihood(self, tetha):\n",
    "        proposed_radius = self.get_circle_radius(tetha)\n",
    "        #mean = np.full(self.y_likelihood.shape[0], proposed_radius).reshape(-1,1)\n",
    "        log_likelihood_vect = sc.norm.logpdf(self.y_likelihood, loc= proposed_radius, scale=tetha[self.param_to_infer]) # Loc will be simulation(theta(:param_to_infer), scale = theta[param_to_infer])\n",
    "        log_likelihood_out = np.sum(log_likelihood_vect)\n",
    "        return log_likelihood_out\n",
    "\n",
    "    def log_prior(self, theta):\n",
    "        start_time = time.time()\n",
    "        # evaluate the prior for the parameters on a multivariate gaussian. \n",
    "        prior_out = sc.multivariate_normal.logpdf(theta[:self.param_to_infer],mean=np.zeros(self.param_to_infer), cov=np.eye(self.param_to_infer)*100)\n",
    "        # this needs to be summed to the prior for the sigma, since I assumed independence.\n",
    "        prior_out += sc.gamma.logpdf(theta[self.param_to_infer], a=1, scale=1)\n",
    "        end_time = time.time()\n",
    "        return prior_out\n",
    "\n",
    "\n",
    "    def log_proposal_x_given_y(self, x,y, search_width = 10):\n",
    "        walk = 1\n",
    "        # Parameters\n",
    "        log_proposal_param = sc.multivariate_normal.logpdf(x[:self.param_to_infer],mean=y[:self.param_to_infer], cov=np.eye(self.param_to_infer)*search_width**2)\n",
    "        # Standard deviation\n",
    "        log_proposal_std_dev = sc.gamma.logpdf(x[self.param_to_infer], a=y[self.param_to_infer]*walk*500, scale=1/(500*walk))\n",
    "        \n",
    "        log_proposal_x_given_y = log_proposal_param+log_proposal_std_dev\n",
    "        return log_proposal_x_given_y\n",
    "\n",
    "    def acceptance_prob(self, log_likelihood_theta, log_likelihood_theta_new, log_prior_theta, log_prior_theta_new, log_proposal_theta_given_theta_new, log_proposal_theta__new_given_theta):\n",
    "        prop_ratio = log_proposal_theta_given_theta_new-log_proposal_theta__new_given_theta\n",
    "        likelihood_prior_proposal_ratio = -log_likelihood_theta_new + log_likelihood_theta - \\\n",
    "                                log_prior_theta_new + log_prior_theta - prop_ratio\n",
    "        return np.exp(likelihood_prior_proposal_ratio)\n",
    "\n",
    "    def inference(self):\n",
    "        # Number of samples accepted/rejected\n",
    "        accepted = 0\n",
    "        rejected = 0\n",
    "        # Number of iterations\n",
    "        iter = 10000\n",
    "        # Scale facter of the covariance matrix\n",
    "        width = 0.01\n",
    "\n",
    "        accepted_thetas = np.random.rand(self.param_to_infer + 1).reshape(1,-1)\n",
    "        rejected_thetas = np.empty(self.param_to_infer + 1).reshape(1,-1)\n",
    "        all_thetas = np.concatenate((accepted_thetas, np.zeros((accepted_thetas.shape[0], 1))), axis=1)\n",
    "        # Loop for the inference\n",
    "        for i in range(iter):\n",
    "            \n",
    "            # 1) Provide a proposal for theta\n",
    "            theta_new = self.proposal(accepted_thetas[-1,:], search_width=width)\n",
    "\n",
    "            # 2) Compute log-likelihood of the new theta and the old one\n",
    "\n",
    "            log_likelihood_theta = self.log_likelihood(accepted_thetas[-1,:])\n",
    "            \n",
    "            log_likelihood_theta_new = self.log_likelihood(theta_new)\n",
    "            \n",
    "            \n",
    "\n",
    "            # 3) Compute log-prior of the new theta and the old one\n",
    "            log_prior_theta = self.log_prior(accepted_thetas[-1,:])\n",
    "            log_prior_theta_new = self.log_prior(theta_new)\n",
    "            \n",
    "\n",
    "            # 4) Compute log-proposal of the new theta and the old one\n",
    "            log_proposal_theta_given_theta_new = self.log_proposal_x_given_y(accepted_thetas[-1,:], theta_new, search_width =width)\n",
    "            log_proposal_theta__new_given_theta = self.log_proposal_x_given_y(theta_new, accepted_thetas[-1,:], search_width =width)\n",
    "\n",
    "            # 5) Compute the acceptance probability\n",
    "            alpha = self.acceptance_prob(log_likelihood_theta, log_likelihood_theta_new, log_prior_theta, log_prior_theta_new, log_proposal_theta_given_theta_new, log_proposal_theta__new_given_theta)\n",
    "\n",
    "            #6) Generate a uniform number u from [0,1]\n",
    "            '''u = sc.uniform().rvs()\n",
    "            # if u <= alpha, accept the new sample\n",
    "            if u <= alpha:\n",
    "                thetas = np.vstack((thetas,theta_new))\n",
    "                accepted += 1\n",
    "            else:\n",
    "                rejected += 1'''\n",
    "            u = sc.uniform().rvs()\n",
    "            if alpha <= u:\n",
    "                accepted_thetas = np.vstack((accepted_thetas,theta_new))\n",
    "                accepted += 1\n",
    "                theta_new_all_thetas = np.hstack((theta_new, np.array([1]).reshape(-1,)))\n",
    "            else:\n",
    "                rejected_thetas = np.vstack((rejected_thetas,theta_new))\n",
    "                rejected += 1\n",
    "                theta_new_all_thetas = np.hstack((theta_new, np.array([0]).reshape(-1,)))\n",
    "            \n",
    "            all_thetas = np.vstack((all_thetas,theta_new_all_thetas))\n",
    "\n",
    "            if i%50 == 0:\n",
    "                print('Iteration ', i)\n",
    "    \n",
    "        \n",
    "        return accepted_thetas, rejected_thetas, all_thetas"
   ]
  },
  {
   "cell_type": "code",
   "execution_count": 366,
   "metadata": {},
   "outputs": [
    {
     "name": "stdout",
     "output_type": "stream",
     "text": [
      "7.438844233517212\n",
      "Iteration  0\n",
      "Iteration  0\n"
     ]
    },
    {
     "name": "stderr",
     "output_type": "stream",
     "text": [
      "/var/folders/mw/9cttllqs2yv0dqrlc62m0l8h0000gn/T/ipykernel_23903/4044256189.py:99: RuntimeWarning: overflow encountered in exp\n",
      "  return np.exp(likelihood_prior_proposal_ratio)\n"
     ]
    },
    {
     "name": "stdout",
     "output_type": "stream",
     "text": [
      "Iteration  50\n",
      "Iteration  50\n",
      "Iteration  100\n",
      "Iteration  100\n",
      "Iteration  150\n",
      "Iteration  150\n",
      "Iteration  200\n",
      "Iteration  200\n",
      "Iteration  250\n",
      "Iteration  250\n",
      "Iteration  300\n",
      "Iteration  300\n",
      "Iteration  350\n",
      "Iteration  350\n",
      "Iteration  400\n",
      "Iteration  400\n",
      "Iteration  450\n",
      "Iteration  450\n",
      "Iteration  500\n",
      "Iteration  500\n",
      "Iteration  550\n",
      "Iteration  550\n",
      "Iteration  600\n",
      "Iteration  600\n",
      "Iteration  650\n",
      "Iteration  650\n",
      "Iteration  700\n",
      "Iteration  700\n",
      "Iteration  750\n",
      "Iteration  750\n",
      "Iteration  800\n",
      "Iteration  800\n",
      "Iteration  850\n",
      "Iteration  850\n",
      "Iteration  900\n",
      "Iteration  900\n",
      "Iteration  950\n",
      "Iteration  950\n",
      "Iteration  1000\n",
      "Iteration  1000\n",
      "Iteration  1050\n",
      "Iteration  1050\n",
      "Iteration  1100\n",
      "Iteration  1100\n",
      "Iteration  1150\n",
      "Iteration  1150\n",
      "Iteration  1200\n",
      "Iteration  1200\n",
      "Iteration  1250\n",
      "Iteration  1250\n",
      "Iteration  1300\n",
      "Iteration  1300\n",
      "Iteration  1350\n",
      "Iteration  1350\n",
      "Iteration  1400\n",
      "Iteration  1400\n",
      "Iteration  1450\n",
      "Iteration  1450\n",
      "Iteration  1500\n",
      "Iteration  1500\n",
      "Iteration  1550\n",
      "Iteration  1550\n",
      "Iteration  1600\n",
      "Iteration  1600\n",
      "Iteration  1650\n",
      "Iteration  1650\n",
      "Iteration  1700\n",
      "Iteration  1700\n",
      "Iteration  1750\n",
      "Iteration  1750\n",
      "Iteration  1800\n",
      "Iteration  1800\n",
      "Iteration  1850\n",
      "Iteration  1850\n",
      "Iteration  1900\n",
      "Iteration  1900\n",
      "Iteration  1950\n",
      "Iteration  1950\n",
      "Iteration  2000\n",
      "Iteration  2000\n",
      "Iteration  2050\n",
      "Iteration  2050\n",
      "Iteration  2100\n",
      "Iteration  2100\n",
      "Iteration  2150\n",
      "Iteration  2150\n",
      "Iteration  2200\n",
      "Iteration  2200\n",
      "Iteration  2250\n",
      "Iteration  2250\n",
      "Iteration  2300\n",
      "Iteration  2300\n",
      "Iteration  2350\n",
      "Iteration  2350\n",
      "Iteration  2400\n",
      "Iteration  2400\n",
      "Iteration  2450\n",
      "Iteration  2450\n",
      "Iteration  2500\n",
      "Iteration  2500\n",
      "Iteration  2550\n",
      "Iteration  2550\n",
      "Iteration  2600\n",
      "Iteration  2600\n",
      "Iteration  2650\n",
      "Iteration  2650\n",
      "Iteration  2700\n",
      "Iteration  2700\n",
      "Iteration  2750\n",
      "Iteration  2750\n",
      "Iteration  2800\n",
      "Iteration  2800\n",
      "Iteration  2850\n",
      "Iteration  2850\n",
      "Iteration  2900\n",
      "Iteration  2900\n",
      "Iteration  2950\n",
      "Iteration  2950\n",
      "Iteration  3000\n",
      "Iteration  3000\n",
      "Iteration  3050\n",
      "Iteration  3050\n",
      "Iteration  3100\n",
      "Iteration  3100\n",
      "Iteration  3150\n",
      "Iteration  3150\n",
      "Iteration  3200\n",
      "Iteration  3200\n",
      "Iteration  3250\n",
      "Iteration  3250\n",
      "Iteration  3300\n",
      "Iteration  3300\n",
      "Iteration  3350\n",
      "Iteration  3350\n",
      "Iteration  3400\n",
      "Iteration  3400\n",
      "Iteration  3450\n",
      "Iteration  3450\n",
      "Iteration  3500\n",
      "Iteration  3500\n",
      "Iteration  3550\n",
      "Iteration  3550\n",
      "Iteration  3600\n",
      "Iteration  3600\n",
      "Iteration  3650\n",
      "Iteration  3650\n",
      "Iteration  3700\n",
      "Iteration  3700\n",
      "Iteration  3750\n",
      "Iteration  3750\n",
      "Iteration  3800\n",
      "Iteration  3800\n",
      "Iteration  3850\n",
      "Iteration  3850\n",
      "Iteration  3900\n",
      "Iteration  3900\n",
      "Iteration  3950\n",
      "Iteration  3950\n",
      "Iteration  4000\n",
      "Iteration  4000\n",
      "Iteration  4050\n",
      "Iteration  4050\n",
      "Iteration  4100\n",
      "Iteration  4100\n",
      "Iteration  4150\n",
      "Iteration  4150\n",
      "Iteration  4200\n",
      "Iteration  4200\n",
      "Iteration  4250\n",
      "Iteration  4250\n",
      "Iteration  4300\n",
      "Iteration  4300\n",
      "Iteration  4350\n",
      "Iteration  4350\n",
      "Iteration  4400\n",
      "Iteration  4400\n",
      "Iteration  4450\n",
      "Iteration  4450\n",
      "Iteration  4500\n",
      "Iteration  4500\n",
      "Iteration  4550\n",
      "Iteration  4550\n",
      "Iteration  4600\n",
      "Iteration  4600\n",
      "Iteration  4650\n",
      "Iteration  4650\n",
      "Iteration  4700\n",
      "Iteration  4700\n",
      "Iteration  4750\n",
      "Iteration  4750\n",
      "Iteration  4800\n",
      "Iteration  4800\n",
      "Iteration  4850\n",
      "Iteration  4850\n",
      "Iteration  4900\n",
      "Iteration  4900\n",
      "Iteration  4950\n",
      "Iteration  4950\n",
      "Iteration  5000\n",
      "Iteration  5000\n",
      "Iteration  5050\n",
      "Iteration  5050\n",
      "Iteration  5100\n",
      "Iteration  5100\n",
      "Iteration  5150\n",
      "Iteration  5150\n",
      "Iteration  5200\n",
      "Iteration  5200\n",
      "Iteration  5250\n",
      "Iteration  5250\n",
      "Iteration  5300\n",
      "Iteration  5300\n",
      "Iteration  5350\n",
      "Iteration  5350\n",
      "Iteration  5400\n",
      "Iteration  5400\n",
      "Iteration  5450\n",
      "Iteration  5450\n",
      "Iteration  5500\n",
      "Iteration  5500\n",
      "Iteration  5550\n",
      "Iteration  5550\n",
      "Iteration  5600\n",
      "Iteration  5600\n",
      "Iteration  5650\n",
      "Iteration  5650\n",
      "Iteration  5700\n",
      "Iteration  5700\n",
      "Iteration  5750\n",
      "Iteration  5750\n",
      "Iteration  5800\n",
      "Iteration  5800\n",
      "Iteration  5850\n",
      "Iteration  5850\n",
      "Iteration  5900\n",
      "Iteration  5900\n",
      "Iteration  5950\n",
      "Iteration  5950\n",
      "Iteration  6000\n",
      "Iteration  6000\n",
      "Iteration  6050\n",
      "Iteration  6050\n",
      "Iteration  6100\n",
      "Iteration  6100\n",
      "Iteration  6150\n",
      "Iteration  6150\n",
      "Iteration  6200\n",
      "Iteration  6200\n",
      "Iteration  6250\n",
      "Iteration  6250\n",
      "Iteration  6300\n",
      "Iteration  6300\n",
      "Iteration  6350\n",
      "Iteration  6350\n",
      "Iteration  6400\n",
      "Iteration  6400\n",
      "Iteration  6450\n",
      "Iteration  6450\n",
      "Iteration  6500\n",
      "Iteration  6500\n",
      "Iteration  6550\n",
      "Iteration  6550\n",
      "Iteration  6600\n",
      "Iteration  6600\n",
      "Iteration  6650\n",
      "Iteration  6650\n",
      "Iteration  6700\n",
      "Iteration  6700\n",
      "Iteration  6750\n",
      "Iteration  6750\n",
      "Iteration  6800\n",
      "Iteration  6800\n",
      "Iteration  6850\n",
      "Iteration  6850\n",
      "Iteration  6900\n",
      "Iteration  6900\n",
      "Iteration  6950\n",
      "Iteration  6950\n",
      "Iteration  7000\n",
      "Iteration  7000\n",
      "Iteration  7050\n",
      "Iteration  7050\n",
      "Iteration  7100\n",
      "Iteration  7100\n",
      "Iteration  7150\n",
      "Iteration  7150\n",
      "Iteration  7200\n",
      "Iteration  7200\n",
      "Iteration  7250\n",
      "Iteration  7250\n",
      "Iteration  7300\n",
      "Iteration  7300\n",
      "Iteration  7350\n",
      "Iteration  7350\n",
      "Iteration  7400\n",
      "Iteration  7400\n",
      "Iteration  7450\n",
      "Iteration  7450\n",
      "Iteration  7500\n",
      "Iteration  7500\n",
      "Iteration  7550\n",
      "Iteration  7550\n",
      "Iteration  7600\n",
      "Iteration  7600\n",
      "Iteration  7650\n",
      "Iteration  7650\n",
      "Iteration  7700\n",
      "Iteration  7700\n",
      "Iteration  7750\n",
      "Iteration  7750\n",
      "Iteration  7800\n",
      "Iteration  7800\n",
      "Iteration  7850\n",
      "Iteration  7850\n",
      "Iteration  7900\n",
      "Iteration  7900\n",
      "Iteration  7950\n",
      "Iteration  7950\n",
      "Iteration  8000\n",
      "Iteration  8000\n",
      "Iteration  8050\n",
      "Iteration  8050\n",
      "Iteration  8100\n",
      "Iteration  8100\n",
      "Iteration  8150\n",
      "Iteration  8150\n",
      "Iteration  8200\n",
      "Iteration  8200\n",
      "Iteration  8250\n",
      "Iteration  8250\n",
      "Iteration  8300\n",
      "Iteration  8300\n",
      "Iteration  8350\n",
      "Iteration  8350\n",
      "Iteration  8400\n",
      "Iteration  8400\n",
      "Iteration  8450\n",
      "Iteration  8450\n",
      "Iteration  8500\n",
      "Iteration  8500\n",
      "Iteration  8550\n",
      "Iteration  8550\n",
      "Iteration  8600\n",
      "Iteration  8600\n",
      "Iteration  8650\n",
      "Iteration  8650\n",
      "Iteration  8700\n",
      "Iteration  8700\n",
      "Iteration  8750\n",
      "Iteration  8750\n",
      "Iteration  8800\n",
      "Iteration  8800\n",
      "Iteration  8850\n",
      "Iteration  8850\n",
      "Iteration  8900\n",
      "Iteration  8900\n",
      "Iteration  8950\n",
      "Iteration  8950\n",
      "Iteration  9000\n",
      "Iteration  9000\n",
      "Iteration  9050\n",
      "Iteration  9050\n",
      "Iteration  9100\n",
      "Iteration  9100\n",
      "Iteration  9150\n",
      "Iteration  9150\n",
      "Iteration  9200\n",
      "Iteration  9200\n",
      "Iteration  9250\n",
      "Iteration  9250\n",
      "Iteration  9300\n",
      "Iteration  9300\n",
      "Iteration  9350\n",
      "Iteration  9350\n",
      "Iteration  9400\n",
      "Iteration  9400\n",
      "Iteration  9450\n",
      "Iteration  9450\n",
      "Iteration  9500\n",
      "Iteration  9500\n",
      "Iteration  9550\n",
      "Iteration  9550\n",
      "Iteration  9600\n",
      "Iteration  9600\n",
      "Iteration  9650\n",
      "Iteration  9650\n",
      "Iteration  9700\n",
      "Iteration  9700\n",
      "Iteration  9750\n",
      "Iteration  9750\n",
      "Iteration  9800\n",
      "Iteration  9800\n",
      "Iteration  9850\n",
      "Iteration  9850\n",
      "Iteration  9900\n",
      "Iteration  9900\n",
      "Iteration  9950\n",
      "Iteration  9950\n"
     ]
    }
   ],
   "source": [
    "PI = Param_Inferencer()\n",
    "\n",
    "accepted_thetas, rejected_thetas, all_thetas = PI.inference()"
   ]
  },
  {
   "cell_type": "code",
   "execution_count": 367,
   "metadata": {},
   "outputs": [],
   "source": [
    "def plot_column_histograms(data):\n",
    "    \"\"\"\n",
    "    Plots a histogram for each column of a 2D numpy array.\n",
    "    \"\"\"\n",
    "    num_cols = data.shape[1]  # Get the number of columns in the data\n",
    "    \n",
    "    # Plot a histogram for each column\n",
    "    for i in range(num_cols):\n",
    "        plt.hist(data[:, i], bins=10)  # Plot the histogram\n",
    "        \n",
    "        # Set the plot title and axis labels\n",
    "        plt.title(f\"Histogram of Column {i}\")\n",
    "        plt.xlabel(\"Value\")\n",
    "        plt.ylabel(\"Frequency\")\n",
    "        \n",
    "        plt.show()  # Show the plot"
   ]
  },
  {
   "cell_type": "code",
   "execution_count": 369,
   "metadata": {},
   "outputs": [
    {
     "data": {
      "image/png": "[encoded data removed]",
      "text/plain": [
       "<Figure size 432x288 with 1 Axes>"
      ]
     },
     "metadata": {
      "needs_background": "light"
     },
     "output_type": "display_data"
    },
    {
     "data": {
      "image/png": "[encoded data removed]",
      "text/plain": [
       "<Figure size 432x288 with 1 Axes>"
      ]
     },
     "metadata": {
      "needs_background": "light"
     },
     "output_type": "display_data"
    },
    {
     "data": {
      "text/plain": [
       "17"
      ]
     },
     "execution_count": 369,
     "metadata": {},
     "output_type": "execute_result"
    }
   ],
   "source": [
    "burnin = 10\n",
    "plot_column_histograms(accepted_thetas[burnin:])\n",
    "accepted_thetas.shape[0]"
   ]
  },
  {
   "cell_type": "code",
   "execution_count": 349,
   "metadata": {},
   "outputs": [
    {
     "data": {
      "text/plain": [
       "array([[4.24517591e-01, 8.44776132e-01, 0.00000000e+00],\n",
       "       [4.34330799e-01, 9.99102048e-01, 0.00000000e+00],\n",
       "       [4.22622632e-01, 8.83102155e-01, 0.00000000e+00],\n",
       "       ...,\n",
       "       [3.80117045e-01, 2.99950972e-05, 0.00000000e+00],\n",
       "       [3.81522712e-01, 1.43035929e-11, 0.00000000e+00],\n",
       "       [3.94540397e-01, 7.63446282e-10, 0.00000000e+00]])"
      ]
     },
     "execution_count": 349,
     "metadata": {},
     "output_type": "execute_result"
    }
   ],
   "source": [
    "all_thetas"
   ]
  },
  {
   "cell_type": "code",
   "execution_count": 350,
   "metadata": {},
   "outputs": [
    {
     "data": {
      "text/plain": [
       "array([[0.38181818, 0.11039124],\n",
       "       [0.37421584, 0.10390494],\n",
       "       [0.34569775, 0.12000005],\n",
       "       [0.33273809, 0.10539323]])"
      ]
     },
     "execution_count": 350,
     "metadata": {},
     "output_type": "execute_result"
    }
   ],
   "source": [
    "thetas[10:]"
   ]
  },
  {
   "cell_type": "code",
   "execution_count": 122,
   "metadata": {},
   "outputs": [],
   "source": [
    "\n",
    "y = np.array([1,2,3,4,5])\n",
    "a = np.full(5,5)\n",
    "b = 5\n",
    "log_likelihood_vect_a = sc.norm.logpdf(y, loc= a, scale=0.5)\n",
    "log_likelihood_vect_b = sc.norm.logpdf(y, loc= b, scale=0.5)"
   ]
  },
  {
   "cell_type": "code",
   "execution_count": 212,
   "metadata": {},
   "outputs": [
    {
     "name": "stdout",
     "output_type": "stream",
     "text": [
      "(1, 2)\n"
     ]
    },
    {
     "data": {
      "text/plain": [
       "array([1, 2, 1])"
      ]
     },
     "execution_count": 212,
     "metadata": {},
     "output_type": "execute_result"
    }
   ],
   "source": [
    "param_to_infer = 1\n",
    "\n",
    "accepted_thetas = np.random.rand(param_to_infer + 1).reshape(1,-1)\n",
    "print(accepted_thetas.shape)\n",
    "rejected_thetas = np.empty(param_to_infer + 1).reshape(1,-1)\n",
    "all_thetas = np.concatenate((accepted_thetas, np.zeros((1, 1))), axis=1)\n",
    "\n",
    "test =np.array([1,2]).reshape(2,)\n",
    "third_col = np.array([1]).reshape(-1,)\n",
    "result = np.hstack((test, third_col))\n",
    "result\n",
    "\n"
   ]
  },
  {
   "cell_type": "code",
   "execution_count": 183,
   "metadata": {},
   "outputs": [
    {
     "data": {
      "text/plain": [
       "array([[0.28589569, 0.85239509]])"
      ]
     },
     "execution_count": 183,
     "metadata": {},
     "output_type": "execute_result"
    }
   ],
   "source": [
    "accepted_thetas"
   ]
  },
  {
   "cell_type": "code",
   "execution_count": 184,
   "metadata": {},
   "outputs": [
    {
     "data": {
      "text/plain": [
       "array([[0.28589569, 0.85239509, 0.        ]])"
      ]
     },
     "execution_count": 184,
     "metadata": {},
     "output_type": "execute_result"
    }
   ],
   "source": [
    "all_thetas\n"
   ]
  },
  {
   "cell_type": "code",
   "execution_count": 168,
   "metadata": {},
   "outputs": [
    {
     "data": {
      "text/plain": [
       "(1, 2)"
      ]
     },
     "execution_count": 168,
     "metadata": {},
     "output_type": "execute_result"
    }
   ],
   "source": [
    "accepted_thetas.shape"
   ]
  },
  {
   "cell_type": "code",
   "execution_count": 174,
   "metadata": {},
   "outputs": [],
   "source": [
    "array = np.array([[2, 3]])  # Shape: (1, 2)\n",
    "column_of_ones = np.ones((array.shape[0], 1))\n",
    "result = np.concatenate((array, column_of_ones), axis=1)"
   ]
  },
  {
   "cell_type": "code",
   "execution_count": 207,
   "metadata": {},
   "outputs": [
    {
     "ename": "ValueError",
     "evalue": "all the input array dimensions for the concatenation axis must match exactly, but along dimension 0, the array at index 0 has size 2 and the array at index 1 has size 1",
     "output_type": "error",
     "traceback": [
      "\u001b[0;31m---------------------------------------------------------------------------\u001b[0m",
      "\u001b[0;31mValueError\u001b[0m                                Traceback (most recent call last)",
      "\u001b[1;32m/Users/jonas/Desktop/intergation_model/MH_linear.ipynb Cell 14\u001b[0m in \u001b[0;36m<module>\u001b[0;34m\u001b[0m\n\u001b[1;32m      <a href='vscode-notebook-cell:/Users/jonas/Desktop/intergation_model/MH_linear.ipynb#X22sZmlsZQ%3D%3D?line=0'>1</a>\u001b[0m test \u001b[39m=\u001b[39m np\u001b[39m.\u001b[39marray([\u001b[39m1\u001b[39m, \u001b[39m2\u001b[39m])\u001b[39m.\u001b[39mreshape(\u001b[39m2\u001b[39m,)\n\u001b[1;32m      <a href='vscode-notebook-cell:/Users/jonas/Desktop/intergation_model/MH_linear.ipynb#X22sZmlsZQ%3D%3D?line=1'>2</a>\u001b[0m third_column \u001b[39m=\u001b[39m np\u001b[39m.\u001b[39marray([\u001b[39m1\u001b[39m])\u001b[39m.\u001b[39mreshape(\u001b[39m1\u001b[39m,)\n\u001b[0;32m----> <a href='vscode-notebook-cell:/Users/jonas/Desktop/intergation_model/MH_linear.ipynb#X22sZmlsZQ%3D%3D?line=2'>3</a>\u001b[0m result \u001b[39m=\u001b[39m np\u001b[39m.\u001b[39;49mcolumn_stack((test, third_column))\n\u001b[1;32m      <a href='vscode-notebook-cell:/Users/jonas/Desktop/intergation_model/MH_linear.ipynb#X22sZmlsZQ%3D%3D?line=4'>5</a>\u001b[0m \u001b[39mprint\u001b[39m(result)\n",
      "File \u001b[0;32m<__array_function__ internals>:5\u001b[0m, in \u001b[0;36mcolumn_stack\u001b[0;34m(*args, **kwargs)\u001b[0m\n",
      "File \u001b[0;32m~/opt/miniconda3/envs/DLSC/lib/python3.9/site-packages/numpy/lib/shape_base.py:656\u001b[0m, in \u001b[0;36mcolumn_stack\u001b[0;34m(tup)\u001b[0m\n\u001b[1;32m    654\u001b[0m         arr \u001b[39m=\u001b[39m array(arr, copy\u001b[39m=\u001b[39m\u001b[39mFalse\u001b[39;00m, subok\u001b[39m=\u001b[39m\u001b[39mTrue\u001b[39;00m, ndmin\u001b[39m=\u001b[39m\u001b[39m2\u001b[39m)\u001b[39m.\u001b[39mT\n\u001b[1;32m    655\u001b[0m     arrays\u001b[39m.\u001b[39mappend(arr)\n\u001b[0;32m--> 656\u001b[0m \u001b[39mreturn\u001b[39;00m _nx\u001b[39m.\u001b[39;49mconcatenate(arrays, \u001b[39m1\u001b[39;49m)\n",
      "File \u001b[0;32m<__array_function__ internals>:5\u001b[0m, in \u001b[0;36mconcatenate\u001b[0;34m(*args, **kwargs)\u001b[0m\n",
      "\u001b[0;31mValueError\u001b[0m: all the input array dimensions for the concatenation axis must match exactly, but along dimension 0, the array at index 0 has size 2 and the array at index 1 has size 1"
     ]
    }
   ],
   "source": [
    "test = np.array([1, 2]).reshape(2,)\n",
    "third_column = np.array([1]).reshape(1,)\n",
    "result = np.column_stack((test, third_column))\n",
    "\n",
    "print(result)"
   ]
  },
  {
   "cell_type": "code",
   "execution_count": 1,
   "metadata": {},
   "outputs": [
    {
     "data": {
      "image/png": "[encoded data removed]",
      "text/plain": [
       "<Figure size 432x288 with 1 Axes>"
      ]
     },
     "metadata": {},
     "output_type": "display_data"
    },
    {
     "data": {
      "image/png": "[encoded data removed]",
      "text/plain": [
       "<Figure size 432x288 with 1 Axes>"
      ]
     },
     "metadata": {
      "needs_background": "light"
     },
     "output_type": "display_data"
    },
    {
     "data": {
      "text/plain": [
       "<matplotlib.collections.PathCollection at 0x7fb880ba9130>"
      ]
     },
     "execution_count": 1,
     "metadata": {},
     "output_type": "execute_result"
    },
    {
     "data": {
      "image/png": "[encoded data removed]",
      "text/plain": [
       "<Figure size 432x288 with 1 Axes>"
      ]
     },
     "metadata": {
      "needs_background": "light"
     },
     "output_type": "display_data"
    }
   ],
   "source": [
    "import numpy as np\n",
    "import matplotlib.pyplot as plt\n",
    "from IPython import display\n",
    "\n",
    "data = np.array([[0.42451759, 0.84477613, 0.],\n",
    "                 [0.52264967, 0.90646317, 0.],\n",
    "                 [0.40556801, 0.87155962, 0.],\n",
    "                 [0.37871489, 0.89572147, 0.],\n",
    "                 [0.49178967, 0.82466402, 1.],\n",
    "                 [0.44797611, 0.68313331, 1.],\n",
    "                 [0.60987428, 0.87208974, 0.],\n",
    "                 [0.46642798, 0.79142294, 0.],\n",
    "                 [0.4153523,  0.68296332, 1.],\n",
    "                 [0.33971707, 0.77576442, 0.],\n",
    "                 [0.53431453, 0.49811519, 1.],\n",
    "                 [0.47987061, 0.42813698, 1.],\n",
    "                 [0.60984542, 0.28153585, 1.],\n",
    "                 [0.44848757, 0.39896992, 0.],\n",
    "                 [0.51584081, 0.2179391,  1.],\n",
    "                 [0.52672715, 0.24603079, 0.],\n",
    "                 [0.50787968, 0.15855377, 1.],\n",
    "                 [0.53166414, 0.15263507, 0.],\n",
    "                 [0.56918357, 0.19618416, 0.],\n",
    "                 [0.32376085, 0.17297128, 1.],\n",
    "                 [0.52722161, 0.13652266, 0.],\n",
    "                 [0.38181818, 0.11039124, 1.],\n",
    "                 [0.22514943, 0.15064399, 0.],\n",
    "                 [0.39270538, 0.10501814, 0.],\n",
    "                 [0.3239356,  0.0581236,  0.],\n",
    "                 [0.34670146, 0.13777201, 0.],\n",
    "                 [0.22937417, 0.1123282,  0.],\n",
    "                 [0.43174529, 0.10199374, 0.],\n",
    "                 [0.37821838, 0.08495011, 0.],\n",
    "                 [0.33273809, 0.10539323, 1.]])\n",
    "\n",
    "# Separate the columns\n",
    "column1 = np.linspace(0, 1, data.shape[0])\n",
    "column2 = data[:, 0]\n",
    "column3 = data[:, 2]\n",
    "\n",
    "# Create a color map based on column3 values\n",
    "colors = ['red' if value == 0 else 'blue' for value in column3]\n",
    "\n",
    "# Initialize the plot\n",
    "plt.figure()\n",
    "\n",
    "# Iterate over the data points\n",
    "for i in range(len(column1)):\n",
    "    # Clear the previous plot\n",
    "    plt.clf()\n",
    "    \n",
    "    # Plot the points up to the current iteration\n",
    "    plt.scatter(column1[:i+1], column2[:i+1], color=colors[:i+1], marker='o')\n",
    "    \n",
    "    # Set plot properties\n",
    "    plt.xlabel('Column 1')\n",
    "    plt.ylabel('Column 2')\n",
    "    plt.title('Plot of Column 1 vs Column 2')\n",
    "    \n",
    "    # Display the updated plot\n",
    "    display.clear_output(wait=True)\n",
    "    display.display(plt.gcf())\n",
    "    \n",
    "    # Pause to create the animation effect\n",
    "    plt.pause(0.5)\n",
    "\n",
    "# Clear the final plot\n",
    "plt.clf()\n",
    "\n",
    "# Set plot properties\n",
    "plt.xlabel('Column 1')\n",
    "plt.ylabel('Column 2')\n",
    "plt.title('Plot of Column 1 vs Column 2')\n",
    "\n",
    "# Plot all the points at once\n",
    "plt.scatter(column1, column2, color=colors, marker='o')\n",
    "\n",
    "\n"
   ]
  },
  {
   "cell_type": "code",
   "execution_count": 243,
   "metadata": {},
   "outputs": [
    {
     "name": "stderr",
     "output_type": "stream",
     "text": [
      "/Users/jonas/opt/miniconda3/envs/DLSC/lib/python3.9/site-packages/matplotlib/animation.py:889: UserWarning: Animation was deleted without rendering anything. This is most likely not intended. To prevent deletion, assign the Animation to a variable, e.g. `anim`, that exists until you have outputted the Animation using `plt.show()` or `anim.save()`.\n",
      "  warnings.warn(\n"
     ]
    },
    {
     "data": {
      "image/png": "[encoded data removed]",
      "text/plain": [
       "<Figure size 540x252 with 1 Axes>"
      ]
     },
     "metadata": {
      "needs_background": "light"
     },
     "output_type": "display_data"
    }
   ],
   "source": []
  },
  {
   "cell_type": "code",
   "execution_count": null,
   "metadata": {},
   "outputs": [],
   "source": []
  }
 ],
 "metadata": {
  "kernelspec": {
   "display_name": "DLSC",
   "language": "python",
   "name": "python3"
  },
  "language_info": {
   "codemirror_mode": {
    "name": "ipython",
    "version": 3
   },
   "file_extension": ".py",
   "mimetype": "text/x-python",
   "name": "python",
   "nbconvert_exporter": "python",
   "pygments_lexer": "ipython3",
   "version": "3.9.7"
  },
  "orig_nbformat": 4
 },
 "nbformat": 4,
 "nbformat_minor": 2
}
