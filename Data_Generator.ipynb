{
 "cells": [
  {
   "cell_type": "code",
   "execution_count": 4,
   "metadata": {},
   "outputs": [],
   "source": [
    "# Import necessary packages\n",
    "\n",
    "from models.model2 import BicycleModel\n",
    "from models.model4 import FourWheelModel\n",
    "from models.utils import fit_circle\n",
    "import matplotlib.pyplot as plt\n",
    "import numpy as np\n",
    "import scipy.stats as sc\n",
    "from models.utils import get_csv_row_count\n",
    "from models.utils import get_folder_path"
   ]
  },
  {
   "cell_type": "code",
   "execution_count": 5,
   "metadata": {},
   "outputs": [
    {
     "data": {
      "image/png": "[encoded data removed]",
      "text/plain": [
       "<Figure size 432x288 with 1 Axes>"
      ]
     },
     "metadata": {
      "needs_background": "light"
     },
     "output_type": "display_data"
    },
    {
     "ename": "NameError",
     "evalue": "name 'Dynamic_Bicycle_Linear' is not defined",
     "output_type": "error",
     "traceback": [
      "\u001b[0;31m---------------------------------------------------------------------------\u001b[0m",
      "\u001b[0;31mNameError\u001b[0m                                 Traceback (most recent call last)",
      "\u001b[1;32m/Users/jonas/Desktop/intergation_model/Data_Generator.ipynb Cell 2\u001b[0m in \u001b[0;36m<module>\u001b[0;34m\u001b[0m\n\u001b[1;32m     <a href='vscode-notebook-cell:/Users/jonas/Desktop/intergation_model/Data_Generator.ipynb#W1sZmlsZQ%3D%3D?line=54'>55</a>\u001b[0m \u001b[39m#Generate circles\u001b[39;00m\n\u001b[1;32m     <a href='vscode-notebook-cell:/Users/jonas/Desktop/intergation_model/Data_Generator.ipynb#W1sZmlsZQ%3D%3D?line=55'>56</a>\u001b[0m \u001b[39mfor\u001b[39;00m i \u001b[39min\u001b[39;00m \u001b[39mrange\u001b[39m(data_size):\n\u001b[0;32m---> <a href='vscode-notebook-cell:/Users/jonas/Desktop/intergation_model/Data_Generator.ipynb#W1sZmlsZQ%3D%3D?line=56'>57</a>\u001b[0m     model2_lin \u001b[39m=\u001b[39m Dynamic_Bicycle_Linear(velocity, dt, open_loop_tf, T_peak_vector[i], T_slope)\n\u001b[1;32m     <a href='vscode-notebook-cell:/Users/jonas/Desktop/intergation_model/Data_Generator.ipynb#W1sZmlsZQ%3D%3D?line=57'>58</a>\u001b[0m     radius2_lin \u001b[39m=\u001b[39m get_circle_radius(model2_lin)\n\u001b[1;32m     <a href='vscode-notebook-cell:/Users/jonas/Desktop/intergation_model/Data_Generator.ipynb#W1sZmlsZQ%3D%3D?line=58'>59</a>\u001b[0m     radiuses[i] \u001b[39m=\u001b[39m radius2_lin\n",
      "\u001b[0;31mNameError\u001b[0m: name 'Dynamic_Bicycle_Linear' is not defined"
     ]
    }
   ],
   "source": [
    "# Generate data for Dynamic_Bicycle_Linear\n",
    "\n",
    "np.random.seed(2023)\n",
    "\n",
    "def get_circle_radius(model):\n",
    "    \n",
    "    t0 = 0\n",
    "    N = model.open_loop_tf/model.dt\n",
    "    \n",
    "    steering = 0.2\n",
    "    torque = 40\n",
    "    \n",
    "    inputs = [steering, torque, torque, torque, torque]\n",
    "\n",
    "\n",
    "    t,x_vect = model.do_open_loop_sim_cst_inputs(t0, inputs)\n",
    "    \n",
    "    x = x_vect[int(N/2):,0]\n",
    "    y = x_vect[int(N/2):,1]\n",
    "\n",
    "    radius = fit_circle(x, y)\n",
    "    #plt.plot(x,y)\n",
    "    #plt.axis('equal')\n",
    "    return radius\n",
    "\n",
    "dt = 0.005\n",
    "open_loop_tf = 50\n",
    "\n",
    "T_peak_mean = 0.37\n",
    "T_slope = 0.4\n",
    "\n",
    "\n",
    "\n",
    "\n",
    "def plot_histogram_1dnparray(data):\n",
    "    # Plot the histogram\n",
    "    plt.hist(data, bins=30, edgecolor='black')\n",
    "    plt.xlabel('Value')\n",
    "    plt.ylabel('Frequency')\n",
    "    plt.title('Histogram of Data')\n",
    "    plt.grid(True)\n",
    "\n",
    "    # Show the plot\n",
    "    plt.show()\n",
    "\n",
    "data_size = 1\n",
    "T_peak_vector = np.full(data_size, T_peak_mean)\n",
    "radiuses = np.empty(data_size)\n",
    "for i in range(data_size):\n",
    "    T_peak_vector[i] += 0 #np.random.normal(0,0.1)\n",
    "\n",
    "plot_histogram_1dnparray(T_peak_vector)\n",
    "\n",
    "velocity = 5\n",
    "#Generate circles\n",
    "for i in range(data_size):\n",
    "    model2_lin = Dynamic_Bicycle_Linear(velocity, dt, open_loop_tf, T_peak_vector[i], T_slope)\n",
    "    radius2_lin = get_circle_radius(model2_lin)\n",
    "    radiuses[i] = radius2_lin\n",
    "    \n",
    "    if i%10==0:\n",
    "        print('Iteration ', i)\n",
    "\n",
    "plt.plot(T_peak_vector, radiuses, '.')\n",
    "\n",
    "# Combine x and y arrays horizontally\n",
    "data = np.column_stack((T_peak_vector, radiuses))\n",
    "\n",
    "# Save the data to a CSV file\n",
    "np.savetxt('./Data/Data_Bicycle_linear/radiuses.csv', data, delimiter=',', header='T_peak,R', comments='')\n",
    "\n",
    "\n"
   ]
  },
  {
   "cell_type": "code",
   "execution_count": null,
   "metadata": {},
   "outputs": [
    {
     "data": {
      "image/png": "[encoded data removed]",
      "text/plain": [
       "<Figure size 432x288 with 1 Axes>"
      ]
     },
     "metadata": {
      "needs_background": "light"
     },
     "output_type": "display_data"
    },
    {
     "data": {
      "image/png": "[encoded data removed]",
      "text/plain": [
       "<Figure size 432x288 with 1 Axes>"
      ]
     },
     "metadata": {
      "needs_background": "light"
     },
     "output_type": "display_data"
    },
    {
     "name": "stdout",
     "output_type": "stream",
     "text": [
      "Iteration  0\n",
      "Iteration  10\n",
      "Iteration  20\n",
      "Iteration  30\n",
      "Iteration  40\n"
     ]
    },
    {
     "data": {
      "text/plain": [
       "(0.36846083387278333, 0.010747673584785025)"
      ]
     },
     "execution_count": 17,
     "metadata": {},
     "output_type": "execute_result"
    },
    {
     "data": {
      "image/png": "[encoded data removed]",
      "text/plain": [
       "<Figure size 432x288 with 1 Axes>"
      ]
     },
     "metadata": {
      "needs_background": "light"
     },
     "output_type": "display_data"
    }
   ],
   "source": [
    "# Generate data for BicycleModel\n",
    "\n",
    "np.random.seed(2023)\n",
    "\n",
    "def get_circle_radius(model):\n",
    "    \n",
    "    t0 = 0\n",
    "    N = model.open_loop_tf/model.dt\n",
    "    \n",
    "    steering = 0.2\n",
    "    torque = 1000\n",
    "    \n",
    "    inputs = [steering, torque, torque, torque, torque]\n",
    "\n",
    "\n",
    "    t,x_vect = model.do_open_loop_sim_cst_inputs(t0, inputs)\n",
    "    \n",
    "    x = x_vect[int(N/2):,0]\n",
    "    y = x_vect[int(N/2):,1]\n",
    "\n",
    "    radius = fit_circle(x, y)\n",
    "    #plt.plot(x,y)\n",
    "    #plt.axis('equal')\n",
    "    return radius\n",
    "\n",
    "dt = 0.05\n",
    "open_loop_tf = 50\n",
    "\n",
    "T_peak_mean = 0.37\n",
    "T_slope_mean = 0.4\n",
    "\n",
    "\n",
    "\n",
    "\n",
    "def plot_histogram_1dnparray(data):\n",
    "    # Plot the histogram\n",
    "    plt.hist(data, bins=30, edgecolor='black')\n",
    "    plt.xlabel('Value')\n",
    "    plt.ylabel('Frequency')\n",
    "    plt.title('Histogram of Data')\n",
    "    plt.grid(True)\n",
    "\n",
    "    # Show the plot\n",
    "    plt.show()\n",
    "\n",
    "data_size = 50\n",
    "T_peak_vector = np.full(data_size, T_peak_mean)\n",
    "T_slope_vector = np.full(data_size, T_slope_mean)\n",
    "radiuses = np.empty(data_size)\n",
    "for i in range(data_size):\n",
    "    T_peak_vector[i] += np.random.normal(0,0.01)\n",
    "    T_slope_vector[i] += 0\n",
    "\n",
    "plot_histogram_1dnparray(T_peak_vector)\n",
    "plot_histogram_1dnparray(T_slope_vector)\n",
    "\n",
    "#Generate circles\n",
    "for i in range(data_size):\n",
    "    model2_lin = BicycleModel(dt, open_loop_tf, T_peak_vector[i], T_slope)\n",
    "\n",
    "    radius2_lin = get_circle_radius(model2_lin)\n",
    "    radiuses[i] = radius2_lin\n",
    "    \n",
    "    if i%10==0:\n",
    "        print('Iteration ', i)\n",
    "\n",
    "plt.plot(T_peak_vector, radiuses, '.')\n",
    "\n",
    "# Combine x and y arrays horizontally\n",
    "data = np.column_stack((T_peak_vector, T_slope_vector,radiuses))\n",
    "\n",
    "# Save the data to a CSV file\n",
    "np.savetxt('./Data/Data_Bicycle/radiuses.csv', data, delimiter=',', header='T_peak, T_slope, R', comments='')\n",
    "\n",
    "sc.norm.fit(T_peak_vector)\n"
   ]
  },
  {
   "cell_type": "code",
   "execution_count": null,
   "metadata": {},
   "outputs": [],
   "source": []
  },
  {
   "cell_type": "code",
   "execution_count": 56,
   "metadata": {},
   "outputs": [
    {
     "name": "stdout",
     "output_type": "stream",
     "text": [
      "/Users/jonas/Desktop/intergation_model/open_loop_inputs/open_loop_commands.csv\n"
     ]
    },
    {
     "data": {
      "text/plain": [
       "(0.3716329536152004, 0.009037695309712847)"
      ]
     },
     "execution_count": 56,
     "metadata": {},
     "output_type": "execute_result"
    },
    {
     "data": {
      "image/png": "[encoded data removed]",
      "text/plain": [
       "<Figure size 432x288 with 1 Axes>"
      ]
     },
     "metadata": {
      "needs_background": "light"
     },
     "output_type": "display_data"
    }
   ],
   "source": [
    "def get_open_loop_data(model, file_path):\n",
    "    \n",
    "    t,x_vect = model.do_open_loop_sim_from_csv(file_path)\n",
    "    \n",
    "    x = x_vect[:,0]\n",
    "    y = x_vect[:,1]\n",
    "\n",
    "    plt.plot(x,y, color = 'black')\n",
    "    plt.xlabel(r'$x \\rm [m]$')\n",
    "    plt.ylabel(r'$y \\rm [m]$')\n",
    "    plt.axis()\n",
    "    \n",
    "    \n",
    "    return t,x_vect\n",
    "\n",
    "dt = 0.025 # = 1/40 = 1/control_frequency\n",
    "file_path = get_folder_path()+'/open_loop_inputs/open_loop_commands.csv'\n",
    "print(file_path)\n",
    "N = get_csv_row_count(file_path)\n",
    "\n",
    "open_loop_tf =N*dt\n",
    "\n",
    "def plot_histogram_1dnparray(data):\n",
    "    # Plot the histogram\n",
    "    plt.hist(data, bins=30, edgecolor='black')\n",
    "    plt.xlabel('Value')\n",
    "    plt.ylabel('Frequency')\n",
    "    plt.title('Histogram of Data')\n",
    "    plt.grid(True)\n",
    "\n",
    "    # Show the plot\n",
    "    plt.show()\n",
    "\n",
    "data_size = 30\n",
    "T_peak_mean = 0.37\n",
    "T_slope_mean = 0.4\n",
    "T_peak_vector = np.full(data_size, T_peak_mean)\n",
    "T_slope_vector = np.full(data_size, T_slope_mean)\n",
    "radiuses = np.empty([data_size, 1])\n",
    "for i in range(data_size):\n",
    "    T_peak_vector[i] += np.random.normal(0,0.01)\n",
    "    T_slope_vector[i] += np.random.normal(0,0.01)\n",
    "\n",
    "final_array = np.empty(964).reshape(-1,1)\n",
    "\n",
    "model = FourWheelModel(dt, open_loop_tf, T_peak_vector[0], T_slope_vector[0])\n",
    "t,final_array = get_open_loop_data(model, file_path)\n",
    "for i in range(1, data_size):\n",
    "    model = FourWheelModel(dt, open_loop_tf, T_peak_vector[i], T_slope_vector[i])\n",
    "    t,x_vect = get_open_loop_data(model, file_path)\n",
    "    final_array = np.hstack((final_array, x_vect))\n",
    "\n",
    "plt.plot(T_peak_vector, radiuses, '.')\n",
    "\n",
    "# Combine x and y arrays horizontally\n",
    "data = np.column_stack((T_peak_vector, T_slope_vector,radiuses))\n",
    "\n",
    "# Save the data to a CSV file\n",
    "np.savetxt('./Data/Data_four_wheel/trajectories.csv', final_array, delimiter=',', comments='')\n",
    "\n",
    "sc.norm.fit(T_peak_vector)\n"
   ]
  },
  {
   "cell_type": "code",
   "execution_count": 57,
   "metadata": {},
   "outputs": [],
   "source": [
    "np.savetxt('./Data/Data_four_wheel/trajectories.csv', final_array, delimiter=',', comments='')"
   ]
  },
  {
   "cell_type": "code",
   "execution_count": 54,
   "metadata": {},
   "outputs": [
    {
     "data": {
      "text/plain": [
       "2"
      ]
     },
     "execution_count": 54,
     "metadata": {},
     "output_type": "execute_result"
    }
   ],
   "source": [
    "int(final_array.shape[1]/6)"
   ]
  },
  {
   "cell_type": "code",
   "execution_count": 55,
   "metadata": {},
   "outputs": [
    {
     "data": {
      "text/plain": [
       "(964, 12)"
      ]
     },
     "execution_count": 55,
     "metadata": {},
     "output_type": "execute_result"
    }
   ],
   "source": [
    "final_array.shape"
   ]
  },
  {
   "cell_type": "code",
   "execution_count": null,
   "metadata": {},
   "outputs": [],
   "source": []
  }
 ],
 "metadata": {
  "kernelspec": {
   "display_name": "DLSC",
   "language": "python",
   "name": "python3"
  },
  "language_info": {
   "codemirror_mode": {
    "name": "ipython",
    "version": 3
   },
   "file_extension": ".py",
   "mimetype": "text/x-python",
   "name": "python",
   "nbconvert_exporter": "python",
   "pygments_lexer": "ipython3",
   "version": "3.9.7"
  },
  "orig_nbformat": 4
 },
 "nbformat": 4,
 "nbformat_minor": 2
}
