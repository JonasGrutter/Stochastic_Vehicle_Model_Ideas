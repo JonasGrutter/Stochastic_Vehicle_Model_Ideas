{
 "cells": [
  {
   "cell_type": "code",
   "execution_count": 38,
   "metadata": {},
   "outputs": [],
   "source": [
    "import numpy as np\n",
    "import matplotlib.pyplot as plt\n",
    "from matplotlib.animation import FuncAnimation\n",
    "\n",
    "from models.model2 import BicycleModel\n",
    "from models.model4 import FourWheelModel\n",
    "from models.utils import get_csv_row_count\n",
    "from models.utils import get_folder_path\n",
    "from models.utils import fit_circle\n",
    "from models.utils import plot_column_histograms\n",
    "import time\n",
    "import csv\n",
    "\n",
    "import scipy.stats as sc"
   ]
  },
  {
   "cell_type": "code",
   "execution_count": 39,
   "metadata": {},
   "outputs": [
    {
     "data": {
      "text/plain": [
       "'pso.optimize()\\npso.plot_particle_history()\\npso.plot_particle_fitness_history()'"
      ]
     },
     "execution_count": 39,
     "metadata": {},
     "output_type": "execute_result"
    }
   ],
   "source": [
    "##FINAL VERSION WITH FITNESS FUNCTION NOT COMPUTED EVRY TIME\n",
    "\n",
    "np.random.seed(2)\n",
    "\n",
    "class Particle:\n",
    "    def __init__(self, position, velocity,id, dimension, ref_traj):\n",
    "        # Necessary for all the particles iincluding thrash one\n",
    "        self.dt = 0.025\n",
    "        self.commands = get_folder_path()+'/open_loop_inputs/open_loop_commands.csv'\n",
    "        self.N = get_csv_row_count(self.commands)\n",
    "        self.open_loop_tf = self.N*self.dt\n",
    "\n",
    "        self.position = position\n",
    "        self.velocity = velocity\n",
    "        self.best_position = position.copy()\n",
    "        self.dimension = dimension\n",
    "\n",
    "        #related to vehicle model\n",
    "        self.param_to_infer = 2\n",
    "\n",
    "        self.x_vect_ref = ref_traj\n",
    "        \n",
    "        #print(self.x_vect_ref.shape)\n",
    "        #print(self.x_vect_ref)\n",
    "        self.model = None\n",
    "        # T_peak and T_slope is not specified since we infer those\n",
    "        self.id = id\n",
    "        dim = int(self.x_vect_ref.shape[1]/6)\n",
    "        #print(dim)\n",
    "\n",
    "        \n",
    "        self.position_cost_value = self.compute_fitness_function()\n",
    "        self.best_position_cost_value = float(self.position_cost_value)\n",
    "\n",
    "\n",
    "    def update_velocity(self, inertia, cognitive_rate, social_rate, global_best_position):\n",
    "        r1, r2 = np.random.rand(2)\n",
    "        cognitive_component = cognitive_rate * r1 * (self.best_position - self.position)\n",
    "        social_component = social_rate * r2 * (global_best_position - self.position)\n",
    "        self.velocity = inertia * self.velocity + cognitive_component + social_component\n",
    "\n",
    "    def update_position(self, lower_bounds, upper_bounds):\n",
    "        \n",
    "        self.position += self.velocity\n",
    "        self.position = np.clip(self.position, lower_bounds, upper_bounds)\n",
    "        self.position_cost_value = self.compute_fitness_function()\n",
    "\n",
    "    def update_best_position(self):\n",
    "        if self.position_cost_value < self.best_position_cost_value:\n",
    "            self.best_position = self.position.copy()\n",
    "            self.best_position_cost_value = self.position_cost_value\n",
    "    \n",
    "    def compute_fitness_function(self):\n",
    "        return self.get_kpi()\n",
    "    \n",
    "    def get_kpi(self):\n",
    "        self.generate_new_model(self.position[:self.param_to_infer])\n",
    "        t,x_vect = self.get_open_loop_data()\n",
    "        \n",
    "        l2_norm_position = np.linalg.norm(self.x_vect_ref[:,:2] - x_vect[:,:2], axis=1).sum()\n",
    "        l2_norm_velocity = np.linalg.norm(self.x_vect_ref[:,2:] - x_vect[:,2:], axis=1).sum()\n",
    "\n",
    "        w1 = 0.5\n",
    "        w2 = 0.5\n",
    "        kpi = w1*l2_norm_position+w2*l2_norm_velocity\n",
    "        return kpi\n",
    "        \n",
    "    \n",
    "    def get_open_loop_data(self):\n",
    "        \n",
    "        t,x_vect = self.model.do_open_loop_sim_from_csv(self.commands)\n",
    "                \n",
    "        return t,x_vect\n",
    "    \n",
    "    def generate_new_model(self, particle):\n",
    "        T_peak = particle[0]\n",
    "        T_slope = particle[1]\n",
    "        self.model = FourWheelModel( self.dt, self.open_loop_tf,float(T_peak), float(T_slope))\n",
    "\n",
    "class PSO:\n",
    "    def __init__(self, num_particles, max_iterations, lower_bounds, upper_bounds, dimension, ref_traj):\n",
    "        self.num_particles = num_particles\n",
    "        self.max_iterations = max_iterations\n",
    "        self.lower_bounds = lower_bounds\n",
    "        self.upper_bounds = upper_bounds\n",
    "        self.dimension = dimension\n",
    "        self.particles = []\n",
    "        self.global_best_position = None\n",
    "        self.global_best_position_cost = None\n",
    "        \n",
    "        self.ref_traj = ref_traj\n",
    "\n",
    "\n",
    "        self.particle_positions_history = []\n",
    "        self.particle_fitness_history = []\n",
    "\n",
    "\n",
    "\n",
    "\n",
    "    #------------------OPTIMIZATION------------------#\n",
    "\n",
    "    def optimize(self, inertia=0.5, cognitive_rate=0.5, social_rate=0.5):\n",
    "        self.initialize_particles()\n",
    "\n",
    "        for iter in range(self.max_iterations):\n",
    "            \n",
    "            self.particle_positions_history.append([ particle.position for particle in self.particles])\n",
    "            self.particle_fitness_history.append([particle.position_cost_value for particle in self.particles])\n",
    "\n",
    "            for particle in self.particles:\n",
    "                particle.update_velocity(inertia, cognitive_rate, social_rate, self.global_best_position)\n",
    "                particle.update_position(self.lower_bounds, self.upper_bounds)\n",
    "                particle.update_best_position()\n",
    "\n",
    "            self.update_global_best_position()\n",
    "            if iter%10 == 0:\n",
    "                print('Iteration: ', iter)\n",
    "\n",
    "    def initialize_particles(self):\n",
    "        self.particles = []\n",
    "        \n",
    "        t_before =  time.time()\n",
    "        # Thrash particle to get the right value of x_ref\n",
    "        for i in range(self.num_particles):\n",
    "            position = np.random.uniform(self.lower_bounds, self.upper_bounds, size=self.dimension)\n",
    "            velocity = np.zeros_like(position)\n",
    "            id = i\n",
    "            dimension = self.dimension\n",
    "            particle = Particle(position, velocity, id, dimension, self.ref_traj)\n",
    "            self.particles.append(particle)\n",
    "        t_after = time.time()\n",
    "        elapsed_time = t_after-t_before\n",
    "        print('All particles are initialized in: ', elapsed_time, ' Expected time for inference: ', elapsed_time*self.max_iterations)\n",
    "        \n",
    "\n",
    "        index_best_initial_particle = np.argmin([ particle.position_cost_value for particle in self.particles])\n",
    "        self.global_best_position = self.particles[index_best_initial_particle].position.copy()\n",
    "        self.global_best_position_cost = self.particles[index_best_initial_particle].position_cost_value\n",
    "\n",
    "    def update_global_best_position(self):\n",
    "        for particle in self.particles:\n",
    "            if particle.position_cost_value < self.global_best_position_cost:\n",
    "                self.global_best_position = particle.position.copy()\n",
    "                self.global_best_position_cost = particle.position_cost_value\n",
    "\n",
    "\n",
    "    def plot_particle_positions(self, frame):\n",
    "        plt.cla()\n",
    "        positions = np.array(self.particle_positions_history[frame])\n",
    "        for i in range(self.dimension):\n",
    "            plt.plot(positions[:, i], np.zeros_like(positions[:, i]), 'go', markersize=6)\n",
    "        plt.xlabel('x')\n",
    "        plt.ylim([-0.5, 0.5])\n",
    "\n",
    "    def plot_particle_fitness_history(self):\n",
    "        fig, (ax1, ax2, ax3) = plt.subplots(1, 3, figsize=(12, 4))\n",
    "\n",
    "        # Plot histogram at the start\n",
    "        ax1.hist(self.particle_fitness_history[0], bins=20, color='blue', edgecolor='black')\n",
    "        ax1.set_xlabel('Fitness')\n",
    "        ax1.set_ylabel('Count')\n",
    "        ax1.set_title('Start of Optimization')\n",
    "\n",
    "        # Plot histogram at the middle\n",
    "        middle_index = len(self.particle_fitness_history) // 2\n",
    "        ax2.hist(self.particle_fitness_history[middle_index], bins=20, color='green', edgecolor='black')\n",
    "        ax2.set_xlabel('Fitness')\n",
    "        ax2.set_ylabel('Count')\n",
    "        ax2.set_title('Middle of Optimization')\n",
    "\n",
    "        # Plot histogram at the end\n",
    "        ax3.hist(self.particle_fitness_history[-1], bins=20, color='red', edgecolor='black')\n",
    "        ax3.set_xlabel('Fitness')\n",
    "        ax3.set_ylabel('Count')\n",
    "        ax3.set_title('End of Optimization')\n",
    "\n",
    "        plt.tight_layout()\n",
    "        plt.show()\n",
    "\n",
    "\n",
    "    def plot_particle_history(self):\n",
    "        if self.dimension == 1:\n",
    "            self.particle_positions_history = np.array(self.particle_positions_history)\n",
    "            fig, (ax1, ax2, ax3) = plt.subplots(1, 3, figsize=(12, 4))\n",
    "\n",
    "            # Plot histogram at the start\n",
    "            ax1.hist(self.particle_positions_history[0], bins=20, color='blue', edgecolor='black')\n",
    "            ax1.set_xlabel('')\n",
    "            ax1.set_ylabel('Count')\n",
    "            ax1.set_title('Start of Optimization')\n",
    "\n",
    "            # Plot histogram at the middle\n",
    "            middle_index = len(self.particle_positions_history) // 2\n",
    "            ax2.hist(self.particle_positions_history[middle_index], bins=20, color='green', edgecolor='black')\n",
    "            ax2.set_xlabel('x')\n",
    "            ax2.set_ylabel('Count')\n",
    "            ax2.set_title('Middle of Optimization')\n",
    "\n",
    "            # Plot histogram at the end\n",
    "            ax3.hist(self.particle_positions_history[-1], bins=20, color='red', edgecolor='black')\n",
    "            ax3.set_xlabel('x')\n",
    "            ax3.set_ylabel('Count')\n",
    "            ax3.set_title('End of Optimization')\n",
    "\n",
    "            plt.tight_layout()\n",
    "            plt.show()\n",
    "\n",
    "\n",
    "        if self.dimension == 2:\n",
    "            self.particle_positions_history = np.array(self.particle_positions_history)\n",
    "            fig, (ax1, ax2, ax3) = plt.subplots(1, 3, figsize=(12, 4))\n",
    "            # Plot histogram at the start\n",
    "            ax1.hist2d(self.particle_positions_history[0][:, 0], self.particle_positions_history[0][:, 1], bins=20, cmap='viridis')\n",
    "            ax1.set_xlabel(r'$T_{peak}$')\n",
    "            ax1.set_ylabel(r'$T_{front}$')\n",
    "            ax1.set_title(r'$\\mathrm{{Iteration}}\\ {0}$'.format(0))\n",
    "\n",
    "            # Plot histogram at the middle\n",
    "            middle_index = len(self.particle_positions_history) // 2\n",
    "            ax2.hist2d(self.particle_positions_history[middle_index][:, 0],self.particle_positions_history[middle_index][:, 1], bins=20, cmap='viridis')\n",
    "            ax2.set_xlabel(r'$T_{peak}$')\n",
    "            ax2.set_ylabel(r'$T_{front}$')\n",
    "            ax2.set_title(r'$\\mathrm{{Iteration}}\\ {0}$'.format(middle_index))\n",
    "\n",
    "            # Plot histogram at the end\n",
    "            ax3.hist2d(self.particle_positions_history[-1][:, 0], self.particle_positions_history[-1][:, 1], bins=20, cmap='viridis')\n",
    "            ax3.set_xlabel(r'$T_{peak}$')\n",
    "            ax3.set_ylabel(r'$T_{front}$')\n",
    "            ax3.set_title(r'$\\mathrm{{Iteration}}\\ {0}$'.format(len(self.particle_positions_history)))\n",
    "\n",
    "            plt.tight_layout()\n",
    "            plt.show()\n",
    "\n",
    "    def plot_particle_positions_animate(self):\n",
    "        self.X, self.Y = np.meshgrid(np.linspace(-10, 10, 100), np.linspace(-10, 10, 100))\n",
    "        self.Z = self.X**2 + self.Y**2\n",
    "\n",
    "        fig = plt.figure()\n",
    "        ani = FuncAnimation(fig, self.plot_particle_positions, frames=len(self.particle_positions_history), interval=200)\n",
    "        plt.show()\n",
    "\n",
    "    def save_to_csv(self, path):\n",
    "        iteration = self.max_iterations\n",
    "        num_particles = self.num_particles\n",
    "        particles_positions = self.particle_positions_history.reshape(-1,2)\n",
    "\n",
    "        # Define the CSV file path\n",
    "        csv_file = path\n",
    "\n",
    "        # Write data to CSV file\n",
    "        with open(csv_file, 'w', newline='') as file:\n",
    "            writer = csv.writer(file)\n",
    "            writer.writerow(['T_peak', 'T_front', 'Iteration', 'Particles'])\n",
    "            writer.writerow([particles_positions[0, 0], particles_positions[0, 1], iteration, num_particles])\n",
    "            writer.writerows(particles_positions[1:])\n",
    "\n",
    "        print(f\"Data saved to {csv_file}.\")\n",
    "\n",
    "\n",
    "# Example usage\n",
    "upper_bouds_1d = 10\n",
    "lower_bouds_1d = -10\n",
    "upper_bouds_2d = [1,1]\n",
    "lower_bouds_2d = [0.,0.]\n",
    "#pso = PSO(num_particles=10, max_iterations=30, lower_bounds=lower_bouds_2d, upper_bounds=upper_bouds_2d, dimension=2)\n",
    "\n",
    "\n",
    "'''pso.optimize()\n",
    "pso.plot_particle_history()\n",
    "pso.plot_particle_fitness_history()'''\n",
    "#pso.save_to_csv('./Results/PSO/iter50particle10.csv')\n",
    "\n"
   ]
  },
  {
   "cell_type": "code",
   "execution_count": 40,
   "metadata": {},
   "outputs": [
    {
     "name": "stdout",
     "output_type": "stream",
     "text": [
      "30.0\n",
      "All particles are initialized in:  3.0359559059143066  Expected time for inference:  30.359559059143066\n",
      "Iteration:  0\n"
     ]
    }
   ],
   "source": [
    "x_vect_ref = np.genfromtxt('Data/Data_four_wheel/trajectories.csv', delimiter=',')\n",
    "\n",
    "x_vect_ref = x_vect_ref\n",
    "\n",
    "history_list = []\n",
    "print(int(x_vect_ref.shape[1])/6)\n",
    "for i in range(0,int(x_vect_ref.shape[1]),6):\n",
    "    x_ref = x_vect_ref[:,i:i+6]\n",
    "    pso = PSO(num_particles=10, max_iterations=10, lower_bounds=lower_bouds_2d, upper_bounds=upper_bouds_2d, dimension=2, ref_traj=x_ref)\n",
    "    pso.optimize()\n",
    "    history_list.append(pso.particle_positions_history)\n",
    "    print('PSO NUMBER', i)\n"
   ]
  },
  {
   "cell_type": "code",
   "execution_count": null,
   "metadata": {},
   "outputs": [
    {
     "data": {
      "text/plain": [
       "Text(0.5, 1.0, 'Infered distribution')"
      ]
     },
     "execution_count": 37,
     "metadata": {},
     "output_type": "execute_result"
    },
    {
     "data": {
      "image/png": "[encoded data removed]",
      "text/plain": [
       "<Figure size 864x288 with 2 Axes>"
      ]
     },
     "metadata": {
      "needs_background": "light"
     },
     "output_type": "display_data"
    }
   ],
   "source": [
    "x = np.arange(0,len(history_list), 1)\n",
    "means = []\n",
    "for i in range(len(x)):\n",
    "     means.append(np.mean(np.array((np.array(history_list[i][9])[:,0]))))\n",
    "     \n",
    "\n",
    "data_ref = np.genfromtxt('Data/Data_four_wheel/priors.csv', delimiter=',')\n",
    "T_peak_ref = data_ref[:,0]\n",
    "fig, (ax1, ax2) = plt.subplots(1, 2, figsize=(12, 4))\n",
    "ax1.hist(T_peak_ref, bins=20,  color='blue', edgecolor='black')\n",
    "ax1.set_xlabel(r'$ T_{peak} \\rm [\\;]$')\n",
    "ax1.set_ylabel(r'Frequency')\n",
    "ax1.set_title(r'Original distribution'.format(0))\n",
    "ax2.hist(means, bins=20,  color='red', edgecolor='black')\n",
    "ax2.set_xlabel(r'$\\theta_{T_{peak}} \\rm [\\;]$')\n",
    "ax2.set_ylabel(r'Frequency')\n",
    "ax2.set_title(r'Infered distribution'.format(0))"
   ]
  },
  {
   "cell_type": "code",
   "execution_count": null,
   "metadata": {},
   "outputs": [
    {
     "data": {
      "text/plain": [
       "Text(0.5, 1.0, 'Infered distribution')"
      ]
     },
     "execution_count": 35,
     "metadata": {},
     "output_type": "execute_result"
    },
    {
     "data": {
      "image/png": "[encoded data removed]",
      "text/plain": [
       "<Figure size 864x288 with 2 Axes>"
      ]
     },
     "metadata": {
      "needs_background": "light"
     },
     "output_type": "display_data"
    }
   ],
   "source": [
    "x = np.arange(0,len(history_list), 1)\n",
    "means = []\n",
    "for i in range(len(x)):\n",
    "     means.append(np.mean(np.array((np.array(history_list[i][9])[:,0]))))\n",
    "     \n",
    "\n",
    "data_ref = np.genfromtxt('Data/Data_four_wheel/priors.csv', delimiter=',')\n",
    "T_slope_ref = data_ref[:,1]\n",
    "fig, (ax1, ax2) = plt.subplots(1, 2, figsize=(12, 4))\n",
    "ax1.hist(T_slope_ref, bins=20,  color='blue', edgecolor='black')\n",
    "ax1.set_xlabel(r'$ T_{slope} \\rm [\\;]$')\n",
    "ax1.set_ylabel(r'Frequency')\n",
    "ax1.set_title(r'Original distribution'.format(0))\n",
    "ax2.hist(means, bins=20,  color='red', edgecolor='black')\n",
    "ax2.set_xlabel(r'$\\theta_{T_{slope}} \\rm [\\;]$')\n",
    "ax2.set_ylabel(r'Frequency')\n",
    "ax2.set_title(r'Infered distribution'.format(0))"
   ]
  },
  {
   "cell_type": "code",
   "execution_count": 33,
   "metadata": {},
   "outputs": [
    {
     "data": {
      "text/plain": [
       "array([0.36750444, 0.37224049, 0.37116748, 0.3782123 , 0.37391622,\n",
       "       0.38090162, 0.36542665, 0.37059731, 0.37201253, 0.3780591 ])"
      ]
     },
     "execution_count": 33,
     "metadata": {},
     "output_type": "execute_result"
    }
   ],
   "source": []
  },
  {
   "cell_type": "code",
   "execution_count": 86,
   "metadata": {},
   "outputs": [
    {
     "data": {
      "text/plain": [
       "(0.38574387028260476, 0.00751074523247367)"
      ]
     },
     "execution_count": 86,
     "metadata": {},
     "output_type": "execute_result"
    }
   ],
   "source": [
    "sc.norm.fit(pso.particle_positions_history[8][:,1])"
   ]
  },
  {
   "cell_type": "code",
   "execution_count": 87,
   "metadata": {},
   "outputs": [
    {
     "data": {
      "text/plain": [
       "Text(0.5, 1.0, '$\\\\mathrm{Iteration}\\\\ 0$')"
      ]
     },
     "execution_count": 87,
     "metadata": {},
     "output_type": "execute_result"
    },
    {
     "data": {
      "image/png": "[encoded data removed]",
      "text/plain": [
       "<Figure size 864x288 with 3 Axes>"
      ]
     },
     "metadata": {
      "needs_background": "light"
     },
     "output_type": "display_data"
    }
   ],
   "source": [
    "fig, (ax1, ax2, ax3) = plt.subplots(1, 3, figsize=(12, 4))\n",
    "# Plot histogram at the start\n",
    "ax1.hist2d(pso.particle_positions_history[14][:, 0], pso.particle_positions_history[14][:, 1], bins=20, cmap='viridis')\n",
    "ax1.set_xlabel(r'$ \\theta_{T_{peak}} \\rm [\\;]$')\n",
    "ax1.set_ylabel(r'$ \\theta_{T_{front}} \\rm [\\;]$')\n",
    "ax1.set_title(r'$\\mathrm{{Iteration}}\\ {0}$'.format(0))"
   ]
  },
  {
   "cell_type": "code",
   "execution_count": 70,
   "metadata": {},
   "outputs": [],
   "source": [
    "y_likelihood = np.zeros((30)).reshape(-1,1)"
   ]
  },
  {
   "cell_type": "code",
   "execution_count": 71,
   "metadata": {},
   "outputs": [
    {
     "data": {
      "text/plain": [
       "array([[0.],\n",
       "       [0.],\n",
       "       [0.],\n",
       "       [0.],\n",
       "       [0.],\n",
       "       [0.],\n",
       "       [0.],\n",
       "       [0.],\n",
       "       [0.],\n",
       "       [0.],\n",
       "       [0.],\n",
       "       [0.],\n",
       "       [0.],\n",
       "       [0.],\n",
       "       [0.],\n",
       "       [0.],\n",
       "       [0.],\n",
       "       [0.],\n",
       "       [0.],\n",
       "       [0.],\n",
       "       [0.],\n",
       "       [0.],\n",
       "       [0.],\n",
       "       [0.],\n",
       "       [0.],\n",
       "       [0.],\n",
       "       [0.],\n",
       "       [0.],\n",
       "       [0.],\n",
       "       [0.]])"
      ]
     },
     "execution_count": 71,
     "metadata": {},
     "output_type": "execute_result"
    }
   ],
   "source": [
    "y_likelihood"
   ]
  },
  {
   "cell_type": "code",
   "execution_count": null,
   "metadata": {},
   "outputs": [],
   "source": []
  }
 ],
 "metadata": {
  "kernelspec": {
   "display_name": "DLSC",
   "language": "python",
   "name": "python3"
  },
  "language_info": {
   "codemirror_mode": {
    "name": "ipython",
    "version": 3
   },
   "file_extension": ".py",
   "mimetype": "text/x-python",
   "name": "python",
   "nbconvert_exporter": "python",
   "pygments_lexer": "ipython3",
   "version": "3.9.7"
  },
  "orig_nbformat": 4
 },
 "nbformat": 4,
 "nbformat_minor": 2
}
