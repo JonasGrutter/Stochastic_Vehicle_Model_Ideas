{
 "cells": [
  {
   "cell_type": "code",
   "execution_count": 2,
   "metadata": {},
   "outputs": [],
   "source": [
    "import numpy as np\n",
    "import matplotlib.pyplot as plt\n",
    "import scipy.stats as sc\n",
    "import matplotlib.pyplot as plt\n",
    "import yaml\n",
    "\n",
    "\n",
    "from models.model2 import BicycleModel\n",
    "from models.model4 import FourWheelModel\n",
    "from models.utils import get_csv_row_count\n",
    "from models.utils import get_folder_path\n",
    "from models.utils import fit_circle\n",
    "from models.utils import plot_column_histograms"
   ]
  },
  {
   "cell_type": "code",
   "execution_count": 57,
   "metadata": {},
   "outputs": [],
   "source": [
    "np.random.seed(1000)\n",
    "class Param_Inferencer:\n",
    "    def __init__(self) -> None:\n",
    "        # List of parameters to infer\n",
    "        self.list_of_param = ['T_peak', 'T_slope']\n",
    "        # Number of paramters to infer\n",
    "        self.param_to_infer = len(self.list_of_param)\n",
    "        self.variances_to_infer = len(self.list_of_param)\n",
    "        # Sample vector\n",
    "        #self.thetas = np.random.rand(self.param_to_infer + 1).reshape(1,-1) # First one is random + likelihood\n",
    "        self.thetas = np.random.rand(self.param_to_infer + self.variances_to_infer).reshape(1,-1) # First one is random + likelihood\n",
    "        # Burnin\n",
    "        self.burnin = None\n",
    "\n",
    "        # Current model and model parameters\n",
    "        self.model = None\n",
    "        self.dt = 0.025\n",
    "        self.commands = get_folder_path()+'/open_loop_inputs/open_loop_commands.csv'\n",
    "        self.N = get_csv_row_count(self.commands)\n",
    "        self.open_loop_tf = self.N*self.dt\n",
    "        # T_peak and T_slope is not specified since we infer those\n",
    "        self.x_vect_ref = self.get_x_vect_ref()\n",
    "        self.y_likelihood = 0\n",
    "\n",
    "\n",
    "    def get_x_vect_ref(self):\n",
    "        T_peak_ref = 0.37\n",
    "        T_slope_ref = 0.4\n",
    "        self.model = FourWheelModel(self.dt,self.open_loop_tf, T_peak_ref, T_slope_ref)\n",
    "        t,x = self.get_open_loop_data()\n",
    "        return x\n",
    "    \n",
    "    # Example usage\n",
    "    def get_kpi(self, tetha):\n",
    "        self.generate_new_model(tetha[:self.param_to_infer])\n",
    "        t,x_vect = self.get_open_loop_data()\n",
    "        \n",
    "        l2_norm_position = np.linalg.norm(self.x_vect_ref[:,:2] - x_vect[:,:2], axis=1).sum()\n",
    "        l2_norm_velocity = np.linalg.norm(self.x_vect_ref[:,2:] - x_vect[:,2:], axis=1).sum()\n",
    "\n",
    "        w1 = 0.5\n",
    "        w2 = 0.5\n",
    "        kpi = w1*l2_norm_position+w2*l2_norm_velocity\n",
    "        return kpi\n",
    "\n",
    "\n",
    "    def get_open_loop_data(self):\n",
    "        \n",
    "        t,x_vect = self.model.do_open_loop_sim_from_csv(self.commands)\n",
    "        \n",
    "        x = x_vect[:,0]\n",
    "        y = x_vect[:,1]\n",
    "\n",
    "        \n",
    "        return t,x_vect\n",
    "\n",
    "\n",
    "\n",
    "    def do_open_loop_sim_and_compare(self, thetas):\n",
    "        kpis = []\n",
    "        self.generate_new_model(thetas[:self.param_to_infer])\n",
    "        t,x_vect = self.get_open_loop_data()\n",
    "        for i in range(0,int(self.x_vect_ref.shape[1]),6):\n",
    "            x_ref = self.x_vect_ref[:,i:i+6]\n",
    "            #print('x_ref:')\n",
    "            #print(x_ref)\n",
    "            kpi = self.get_kpi(x_ref, x_vect)\n",
    "            kpis.append(kpi)\n",
    "        kpis = np.array(kpis).reshape(-1,1)\n",
    "        #print(kpis.shape)\n",
    "        \n",
    "        #print(kpis)\n",
    "        return kpis\n",
    "\n",
    "    def get_kpi(self, x_ref, x_vect):\n",
    "        \n",
    "        \n",
    "        l2_norm_position = np.linalg.norm(x_ref[:,:2] - x_vect[:,:2], axis=1).sum()\n",
    "        l2_norm_velocity = np.linalg.norm(x_ref[:,2:] - x_vect[:,2:], axis=1).sum()\n",
    "\n",
    "        w1 = 0.5\n",
    "        w2 = 0.5\n",
    "        kpi = w1*l2_norm_position+w2*l2_norm_velocity\n",
    "        return kpi\n",
    "\n",
    "\n",
    "\n",
    "    \n",
    "    def generate_new_model(self, Tetha):\n",
    "        T_peak = Tetha[0]\n",
    "        T_slope = Tetha[1]\n",
    "        self.model = FourWheelModel( self.dt, self.open_loop_tf,float(T_peak), float(T_slope))\n",
    "\n",
    "    #----------------- Functions from here take care of the inference -----------------#\n",
    "\n",
    "    def proposal(self, prec_theta, search_width = 0.5):\n",
    "        # this function generates the proposal for the new theta\n",
    "        # we assume that the distribution of the random variables \n",
    "        # is normal for the first two and gamma for the third.\n",
    "        # conditional on the previous value of the accepted parameters (prec_theta)\n",
    "\n",
    "        unkown_param = 500 #default = 500\n",
    "        out_theta = np.zeros(self.param_to_infer+self.variances_to_infer)\n",
    "        out_theta[:self.param_to_infer] = sc.multivariate_normal(mean=prec_theta[:self.param_to_infer],cov=np.eye(self.param_to_infer)*search_width**2).rvs(1)\n",
    "        #the last component is the noise\n",
    "        out_theta[self.param_to_infer] = sc.gamma(a=prec_theta[self.param_to_infer]*search_width*unkown_param, scale=1/(unkown_param*search_width)).rvs()\n",
    "        \n",
    "        #two different variances\n",
    "        if self.variances_to_infer > 1:\n",
    "            out_theta[self.param_to_infer+1] = sc.gamma(a=prec_theta[self.param_to_infer+1]*search_width*unkown_param, scale=1/(unkown_param*search_width)).rvs()\n",
    "        \n",
    "        return out_theta\n",
    "    \n",
    "    '''def log_likelihood(self, tetha):\n",
    "        proposed_kpi = self.get_kpi(tetha)\n",
    "        #proposed_radius = self.get_circle_radius(tetha)\n",
    "        #mean = np.full(self.y_likelihood.shape[0], proposed_radius).reshape(-1,1)\n",
    "        log_likelihood_vect = sc.norm.logpdf(self.y_likelihood, loc= proposed_kpi, scale=tetha[self.param_to_infer]) # Loc will be simulation(theta(:param_to_infer), scale = theta[param_to_infer])\n",
    "        log_likelihood_out = np.sum(log_likelihood_vect)\n",
    "        return log_likelihood_out'''\n",
    "    \n",
    "    def log_likelihood(self, theta):\n",
    "            mean = self.do_open_loop_sim_and_compare(theta)\n",
    "            log_likelihood_vect = sc.norm.logpdf(self.y_likelihood, loc= mean, scale=theta[self.param_to_infer]) # Loc will be simulation(theta(:param_to_infer), scale = theta[param_to_infer])\n",
    "            log_likelihood_out = np.sum(log_likelihood_vect)\n",
    "            return log_likelihood_out\n",
    "\n",
    "    def log_prior(self, theta):\n",
    "\n",
    "        unknown_param = 100 # default = 100\n",
    "        # evaluate the prior for the parameters on a multivariate gaussian. \n",
    "        prior_out = sc.multivariate_normal.logpdf(theta[:self.param_to_infer],mean=np.zeros(self.param_to_infer), cov=np.eye(self.param_to_infer)*unknown_param)\n",
    "        # this needs to be summed to the prior for the sigma, since I assumed independence.\n",
    "        prior_out += sc.gamma.logpdf(theta[self.param_to_infer], a=1, scale=1)\n",
    "        return prior_out\n",
    "\n",
    "\n",
    "    def log_proposal_x_given_y(self, x,y, search_width = 10):\n",
    "        walk = 1\n",
    "        # Parameters\n",
    "        log_proposal_param = sc.multivariate_normal.logpdf(x[:self.param_to_infer],mean=y[:self.param_to_infer], cov=np.eye(self.param_to_infer)*search_width**2)\n",
    "        # Standard deviation\n",
    "        log_proposal_std_dev = sc.gamma.logpdf(x[self.param_to_infer], a=y[self.param_to_infer]*walk*500, scale=1/(500*walk))\n",
    "        \n",
    "        log_proposal_x_given_y = log_proposal_param+log_proposal_std_dev\n",
    "        return log_proposal_x_given_y\n",
    "\n",
    "    def acceptance_prob(self, log_likelihood_theta, log_likelihood_theta_new, log_prior_theta, log_prior_theta_new, log_proposal_theta_given_theta_new, log_proposal_theta__new_given_theta):\n",
    "        prop_ratio = log_proposal_theta_given_theta_new-log_proposal_theta__new_given_theta\n",
    "        likelihood_prior_proposal_ratio = -log_likelihood_theta_new + log_likelihood_theta - \\\n",
    "                                log_prior_theta_new + log_prior_theta - prop_ratio\n",
    "        return np.exp(likelihood_prior_proposal_ratio)\n",
    "\n",
    "    def inference(self):\n",
    "        # Number of samples accepted/rejected\n",
    "        accepted = 0\n",
    "        rejected = 0\n",
    "        # Number of iterations\n",
    "        iter = 700\n",
    "        # Scale facter of the covariance matrix\n",
    "        width = 0.1\n",
    "        \n",
    "        accepted_thetas = np.full(self.param_to_infer + self.variances_to_infer, 0.5).reshape(1,-1) #np.random.rand(self.param_to_infer + 1).reshape(1,-1)\n",
    "        rejected_thetas = np.empty(self.param_to_infer + self.variances_to_infer).reshape(1,-1)\n",
    "        all_thetas = np.concatenate((accepted_thetas, np.zeros((accepted_thetas.shape[0], 1))), axis=1)\n",
    "        # Loop for the inference\n",
    "        for i in range(iter):\n",
    "            # 1) Provide a proposal for theta\n",
    "            theta_new = self.proposal(accepted_thetas[-1,:], search_width=width)\n",
    "\n",
    "            # 2) Compute log-likelihood of the new theta and the old one\n",
    "            log_likelihood_theta = self.log_likelihood(accepted_thetas[-1,:])\n",
    "            log_likelihood_theta_new = self.log_likelihood(theta_new)\n",
    "\n",
    "            # 3) Compute log-prior of the new theta and the old one\n",
    "            log_prior_theta = self.log_prior(accepted_thetas[-1,:])\n",
    "            log_prior_theta_new = self.log_prior(theta_new)\n",
    "\n",
    "            # 4) Compute log-proposal of the new theta and the old one\n",
    "            log_proposal_theta_given_theta_new = self.log_proposal_x_given_y(accepted_thetas[-1,:], theta_new, search_width =width)\n",
    "            log_proposal_theta__new_given_theta = self.log_proposal_x_given_y(theta_new, accepted_thetas[-1,:], search_width =width)\n",
    "\n",
    "            # 5) Compute the acceptance probability\n",
    "            alpha = self.acceptance_prob(log_likelihood_theta, log_likelihood_theta_new, log_prior_theta, log_prior_theta_new, log_proposal_theta_given_theta_new, log_proposal_theta__new_given_theta)\n",
    "\n",
    "            #6) Generate a uniform number u from [0,1]\n",
    "            '''u = sc.uniform().rvs()\n",
    "            # if u <= alpha, accept the new sample\n",
    "            if u <= alpha:\n",
    "                thetas = np.vstack((thetas,theta_new))\n",
    "                accepted += 1\n",
    "            else:\n",
    "                rejected += 1''' \n",
    "            u = sc.uniform().rvs()\n",
    "            if alpha <= u:\n",
    "                accepted_thetas = np.vstack((accepted_thetas,theta_new))\n",
    "                accepted += 1\n",
    "                theta_new_all_thetas = np.hstack((theta_new, np.array([1]).reshape(-1,)))\n",
    "            else:\n",
    "                rejected_thetas = np.vstack((rejected_thetas,theta_new))\n",
    "                rejected += 1\n",
    "                theta_new_all_thetas = np.hstack((theta_new, np.array([0]).reshape(-1,)))\n",
    "            \n",
    "            all_thetas = np.vstack((all_thetas,theta_new_all_thetas))\n",
    "\n",
    "            if i%50 == 0:\n",
    "                print(f\"Iteration {i}: {accepted} accepted, {rejected} rejected\")\n",
    "        \n",
    "        return accepted_thetas, rejected_thetas, all_thetas"
   ]
  },
  {
   "cell_type": "code",
   "execution_count": 58,
   "metadata": {},
   "outputs": [
    {
     "name": "stdout",
     "output_type": "stream",
     "text": [
      "Iteration 0: 1 accepted, 0 rejected\n"
     ]
    },
    {
     "name": "stderr",
     "output_type": "stream",
     "text": [
      "/var/folders/mw/9cttllqs2yv0dqrlc62m0l8h0000gn/T/ipykernel_7630/1770115001.py:152: RuntimeWarning: overflow encountered in exp\n",
      "  return np.exp(likelihood_prior_proposal_ratio)\n"
     ]
    }
   ],
   "source": [
    "PI = Param_Inferencer()\n",
    "\n",
    "accepted_thetas, rejected_thetas, all_thetas = PI.inference()"
   ]
  },
  {
   "cell_type": "code",
   "execution_count": null,
   "metadata": {},
   "outputs": [
    {
     "data": {
      "text/plain": [
       "(301, 5)"
      ]
     },
     "execution_count": 38,
     "metadata": {},
     "output_type": "execute_result"
    }
   ],
   "source": [
    "all_thetas.shape"
   ]
  },
  {
   "cell_type": "code",
   "execution_count": null,
   "metadata": {},
   "outputs": [
    {
     "data": {
      "image/png": "[encoded data removed]",
      "text/plain": [
       "<Figure size 432x288 with 1 Axes>"
      ]
     },
     "metadata": {
      "needs_background": "light"
     },
     "output_type": "display_data"
    },
    {
     "data": {
      "image/png": "[encoded data removed]",
      "text/plain": [
       "<Figure size 432x288 with 1 Axes>"
      ]
     },
     "metadata": {
      "needs_background": "light"
     },
     "output_type": "display_data"
    },
    {
     "data": {
      "image/png": "[encoded data removed]",
      "text/plain": [
       "<Figure size 432x288 with 1 Axes>"
      ]
     },
     "metadata": {
      "needs_background": "light"
     },
     "output_type": "display_data"
    },
    {
     "data": {
      "image/png": "[encoded data removed]",
      "text/plain": [
       "<Figure size 432x288 with 1 Axes>"
      ]
     },
     "metadata": {
      "needs_background": "light"
     },
     "output_type": "display_data"
    }
   ],
   "source": [
    "plot_column_histograms(accepted_thetas[32:], ['T_peak', 'T_slope', 'ok', 'ok'])"
   ]
  },
  {
   "cell_type": "code",
   "execution_count": null,
   "metadata": {},
   "outputs": [
    {
     "name": "stdout",
     "output_type": "stream",
     "text": [
      "(0.40098156182081207, 0.010161274217271267)\n"
     ]
    },
    {
     "data": {
      "image/png": "[encoded data removed]",
      "text/plain": [
       "<Figure size 432x288 with 1 Axes>"
      ]
     },
     "metadata": {
      "needs_background": "light"
     },
     "output_type": "display_data"
    }
   ],
   "source": [
    "burn_in = int(accepted_thetas.shape[0]*0.5)\n",
    "thetas_burned = accepted_thetas[burn_in:, :]\n",
    "thetas_burned.shape\n",
    "res = sc.norm.fit(thetas_burned[:,1])\n",
    "print(res)\n",
    "plt.hist(thetas_burned[:,1], bins=20, edgecolor='black', color = 'red')\n",
    "plt.xlabel(r'$\\theta_{\\rm T_{slope}}  [\\;]$')\n",
    "plt.ylabel(r'Frequency')\n",
    "plt.grid(True)\n",
    "\n",
    "# Show the plot\n",
    "plt.show()"
   ]
  },
  {
   "cell_type": "code",
   "execution_count": null,
   "metadata": {},
   "outputs": [],
   "source": []
  }
 ],
 "metadata": {
  "kernelspec": {
   "display_name": "DLSC",
   "language": "python",
   "name": "python3"
  },
  "language_info": {
   "codemirror_mode": {
    "name": "ipython",
    "version": 3
   },
   "file_extension": ".py",
   "mimetype": "text/x-python",
   "name": "python",
   "nbconvert_exporter": "python",
   "pygments_lexer": "ipython3",
   "version": "3.9.7"
  },
  "orig_nbformat": 4
 },
 "nbformat": 4,
 "nbformat_minor": 2
}
